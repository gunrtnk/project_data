{
  "nbformat": 4,
  "nbformat_minor": 0,
  "metadata": {
    "colab": {
      "name": "FinalProject.ipynb",
      "provenance": [],
      "authorship_tag": "ABX9TyMxY5CDH20bzhTXrjT5rGiu",
      "include_colab_link": true
    },
    "kernelspec": {
      "name": "python3",
      "display_name": "Python 3"
    },
    "language_info": {
      "name": "python"
    }
  },
  "cells": [
    {
      "cell_type": "markdown",
      "metadata": {
        "id": "view-in-github",
        "colab_type": "text"
      },
      "source": [
        "<a href=\"https://colab.research.google.com/github/gunrtnk/project_data/blob/main/used-car_price_prediction.ipynb\" target=\"_parent\"><img src=\"https://colab.research.google.com/assets/colab-badge.svg\" alt=\"Open In Colab\"/></a>"
      ]
    },
    {
      "cell_type": "markdown",
      "source": [
        "Final Project CS352 Data-Driven Decision Making For Business (2/64)"
      ],
      "metadata": {
        "id": "2ZfRhBQs9mp1"
      }
    },
    {
      "cell_type": "markdown",
      "source": [
        "Prediction ราคารถยนต์มือสองจากจำนวนปีและจำนวนกิโลเมตรที่เคยใช้งาน "
      ],
      "metadata": {
        "id": "DTD36JdR-CTB"
      }
    },
    {
      "cell_type": "markdown",
      "source": [
        "**data** **understanding**"
      ],
      "metadata": {
        "id": "quyioNeu_IRl"
      }
    },
    {
      "cell_type": "code",
      "execution_count": 1,
      "metadata": {
        "id": "FdVyeP-L90gG"
      },
      "outputs": [],
      "source": [
        "import pandas as pd"
      ]
    },
    {
      "cell_type": "code",
      "source": [
        "import seaborn as sns"
      ],
      "metadata": {
        "id": "mWWyVFaaUTQZ"
      },
      "execution_count": 2,
      "outputs": []
    },
    {
      "cell_type": "code",
      "source": [
        "import matplotlib.pyplot as plt"
      ],
      "metadata": {
        "id": "EvILDNEyVvxx"
      },
      "execution_count": 3,
      "outputs": []
    },
    {
      "cell_type": "code",
      "source": [
        "import numpy as np"
      ],
      "metadata": {
        "id": "qbhYfR5ZY4TT"
      },
      "execution_count": 4,
      "outputs": []
    },
    {
      "cell_type": "code",
      "source": [
        "from sklearn.linear_model import LinearRegression\n",
        "from sklearn.preprocessing import PolynomialFeatures"
      ],
      "metadata": {
        "id": "gLaupIV-Y8Ga"
      },
      "execution_count": 5,
      "outputs": []
    },
    {
      "cell_type": "code",
      "source": [
        "from sklearn.model_selection import train_test_split\n",
        "from sklearn.pipeline import Pipeline\n"
      ],
      "metadata": {
        "id": "Yw-E-mVPSk7I"
      },
      "execution_count": 6,
      "outputs": []
    },
    {
      "cell_type": "code",
      "source": [
        "from sklearn.metrics import mean_squared_error"
      ],
      "metadata": {
        "id": "txmYD_kPTPNG"
      },
      "execution_count": 7,
      "outputs": []
    },
    {
      "cell_type": "code",
      "source": [
        "from google.colab import drive\n",
        "drive.mount('/content/drive')\n",
        "car_df = pd.read_csv('/content/drive/MyDrive/cs352/car_used_dataframe.csv')"
      ],
      "metadata": {
        "colab": {
          "base_uri": "https://localhost:8080/"
        },
        "id": "D9a1Gvj1-hxg",
        "outputId": "27a75699-53e2-4989-ac17-d357e4b2f8b4"
      },
      "execution_count": 8,
      "outputs": [
        {
          "output_type": "stream",
          "name": "stdout",
          "text": [
            "Mounted at /content/drive\n"
          ]
        }
      ]
    },
    {
      "cell_type": "code",
      "source": [
        "from sklearn.tree import DecisionTreeRegressor\n",
        "from sklearn.ensemble import RandomForestRegressor\n"
      ],
      "metadata": {
        "id": "TbP4aUYfUiqZ"
      },
      "execution_count": 9,
      "outputs": []
    },
    {
      "cell_type": "code",
      "source": [
        "car_df.head()"
      ],
      "metadata": {
        "colab": {
          "base_uri": "https://localhost:8080/",
          "height": 206
        },
        "id": "FXmU0-Xd_QbJ",
        "outputId": "bcad93ef-37fd-486b-bf4d-c9547fb840d7"
      },
      "execution_count": 10,
      "outputs": [
        {
          "output_type": "execute_result",
          "data": {
            "text/plain": [
              "        brand                       model  year  km driven   price\n",
              "0      Toyota        YARISSPORTPREMIUM1.2  2020      25670  565000\n",
              "1  Mitsubishi  MIRAGEGLSLIMITEDEDITION1.2  2019      41578  356000\n",
              "2  Mitsubishi                MIRAGEGLX1.2  2018      64237  316000\n",
              "3       Honda               BRIOAMAZEV1.2  2018      81377  356000\n",
              "4      Toyota                   YARISG1.2  2017      95328  416000"
            ],
            "text/html": [
              "\n",
              "  <div id=\"df-d961ec5b-f827-4364-8221-454e70e715dc\">\n",
              "    <div class=\"colab-df-container\">\n",
              "      <div>\n",
              "<style scoped>\n",
              "    .dataframe tbody tr th:only-of-type {\n",
              "        vertical-align: middle;\n",
              "    }\n",
              "\n",
              "    .dataframe tbody tr th {\n",
              "        vertical-align: top;\n",
              "    }\n",
              "\n",
              "    .dataframe thead th {\n",
              "        text-align: right;\n",
              "    }\n",
              "</style>\n",
              "<table border=\"1\" class=\"dataframe\">\n",
              "  <thead>\n",
              "    <tr style=\"text-align: right;\">\n",
              "      <th></th>\n",
              "      <th>brand</th>\n",
              "      <th>model</th>\n",
              "      <th>year</th>\n",
              "      <th>km driven</th>\n",
              "      <th>price</th>\n",
              "    </tr>\n",
              "  </thead>\n",
              "  <tbody>\n",
              "    <tr>\n",
              "      <th>0</th>\n",
              "      <td>Toyota</td>\n",
              "      <td>YARISSPORTPREMIUM1.2</td>\n",
              "      <td>2020</td>\n",
              "      <td>25670</td>\n",
              "      <td>565000</td>\n",
              "    </tr>\n",
              "    <tr>\n",
              "      <th>1</th>\n",
              "      <td>Mitsubishi</td>\n",
              "      <td>MIRAGEGLSLIMITEDEDITION1.2</td>\n",
              "      <td>2019</td>\n",
              "      <td>41578</td>\n",
              "      <td>356000</td>\n",
              "    </tr>\n",
              "    <tr>\n",
              "      <th>2</th>\n",
              "      <td>Mitsubishi</td>\n",
              "      <td>MIRAGEGLX1.2</td>\n",
              "      <td>2018</td>\n",
              "      <td>64237</td>\n",
              "      <td>316000</td>\n",
              "    </tr>\n",
              "    <tr>\n",
              "      <th>3</th>\n",
              "      <td>Honda</td>\n",
              "      <td>BRIOAMAZEV1.2</td>\n",
              "      <td>2018</td>\n",
              "      <td>81377</td>\n",
              "      <td>356000</td>\n",
              "    </tr>\n",
              "    <tr>\n",
              "      <th>4</th>\n",
              "      <td>Toyota</td>\n",
              "      <td>YARISG1.2</td>\n",
              "      <td>2017</td>\n",
              "      <td>95328</td>\n",
              "      <td>416000</td>\n",
              "    </tr>\n",
              "  </tbody>\n",
              "</table>\n",
              "</div>\n",
              "      <button class=\"colab-df-convert\" onclick=\"convertToInteractive('df-d961ec5b-f827-4364-8221-454e70e715dc')\"\n",
              "              title=\"Convert this dataframe to an interactive table.\"\n",
              "              style=\"display:none;\">\n",
              "        \n",
              "  <svg xmlns=\"http://www.w3.org/2000/svg\" height=\"24px\"viewBox=\"0 0 24 24\"\n",
              "       width=\"24px\">\n",
              "    <path d=\"M0 0h24v24H0V0z\" fill=\"none\"/>\n",
              "    <path d=\"M18.56 5.44l.94 2.06.94-2.06 2.06-.94-2.06-.94-.94-2.06-.94 2.06-2.06.94zm-11 1L8.5 8.5l.94-2.06 2.06-.94-2.06-.94L8.5 2.5l-.94 2.06-2.06.94zm10 10l.94 2.06.94-2.06 2.06-.94-2.06-.94-.94-2.06-.94 2.06-2.06.94z\"/><path d=\"M17.41 7.96l-1.37-1.37c-.4-.4-.92-.59-1.43-.59-.52 0-1.04.2-1.43.59L10.3 9.45l-7.72 7.72c-.78.78-.78 2.05 0 2.83L4 21.41c.39.39.9.59 1.41.59.51 0 1.02-.2 1.41-.59l7.78-7.78 2.81-2.81c.8-.78.8-2.07 0-2.86zM5.41 20L4 18.59l7.72-7.72 1.47 1.35L5.41 20z\"/>\n",
              "  </svg>\n",
              "      </button>\n",
              "      \n",
              "  <style>\n",
              "    .colab-df-container {\n",
              "      display:flex;\n",
              "      flex-wrap:wrap;\n",
              "      gap: 12px;\n",
              "    }\n",
              "\n",
              "    .colab-df-convert {\n",
              "      background-color: #E8F0FE;\n",
              "      border: none;\n",
              "      border-radius: 50%;\n",
              "      cursor: pointer;\n",
              "      display: none;\n",
              "      fill: #1967D2;\n",
              "      height: 32px;\n",
              "      padding: 0 0 0 0;\n",
              "      width: 32px;\n",
              "    }\n",
              "\n",
              "    .colab-df-convert:hover {\n",
              "      background-color: #E2EBFA;\n",
              "      box-shadow: 0px 1px 2px rgba(60, 64, 67, 0.3), 0px 1px 3px 1px rgba(60, 64, 67, 0.15);\n",
              "      fill: #174EA6;\n",
              "    }\n",
              "\n",
              "    [theme=dark] .colab-df-convert {\n",
              "      background-color: #3B4455;\n",
              "      fill: #D2E3FC;\n",
              "    }\n",
              "\n",
              "    [theme=dark] .colab-df-convert:hover {\n",
              "      background-color: #434B5C;\n",
              "      box-shadow: 0px 1px 3px 1px rgba(0, 0, 0, 0.15);\n",
              "      filter: drop-shadow(0px 1px 2px rgba(0, 0, 0, 0.3));\n",
              "      fill: #FFFFFF;\n",
              "    }\n",
              "  </style>\n",
              "\n",
              "      <script>\n",
              "        const buttonEl =\n",
              "          document.querySelector('#df-d961ec5b-f827-4364-8221-454e70e715dc button.colab-df-convert');\n",
              "        buttonEl.style.display =\n",
              "          google.colab.kernel.accessAllowed ? 'block' : 'none';\n",
              "\n",
              "        async function convertToInteractive(key) {\n",
              "          const element = document.querySelector('#df-d961ec5b-f827-4364-8221-454e70e715dc');\n",
              "          const dataTable =\n",
              "            await google.colab.kernel.invokeFunction('convertToInteractive',\n",
              "                                                     [key], {});\n",
              "          if (!dataTable) return;\n",
              "\n",
              "          const docLinkHtml = 'Like what you see? Visit the ' +\n",
              "            '<a target=\"_blank\" href=https://colab.research.google.com/notebooks/data_table.ipynb>data table notebook</a>'\n",
              "            + ' to learn more about interactive tables.';\n",
              "          element.innerHTML = '';\n",
              "          dataTable['output_type'] = 'display_data';\n",
              "          await google.colab.output.renderOutput(dataTable, element);\n",
              "          const docLink = document.createElement('div');\n",
              "          docLink.innerHTML = docLinkHtml;\n",
              "          element.appendChild(docLink);\n",
              "        }\n",
              "      </script>\n",
              "    </div>\n",
              "  </div>\n",
              "  "
            ]
          },
          "metadata": {},
          "execution_count": 10
        }
      ]
    },
    {
      "cell_type": "code",
      "source": [
        "car_df.info()"
      ],
      "metadata": {
        "colab": {
          "base_uri": "https://localhost:8080/"
        },
        "id": "w5HHFTW-_VXW",
        "outputId": "9fb40c8c-5be6-444e-e5ed-a18a34ea83f2"
      },
      "execution_count": 11,
      "outputs": [
        {
          "output_type": "stream",
          "name": "stdout",
          "text": [
            "<class 'pandas.core.frame.DataFrame'>\n",
            "RangeIndex: 539 entries, 0 to 538\n",
            "Data columns (total 5 columns):\n",
            " #   Column     Non-Null Count  Dtype \n",
            "---  ------     --------------  ----- \n",
            " 0   brand      539 non-null    object\n",
            " 1   model      539 non-null    object\n",
            " 2   year       539 non-null    int64 \n",
            " 3   km driven  539 non-null    int64 \n",
            " 4   price      539 non-null    int64 \n",
            "dtypes: int64(3), object(2)\n",
            "memory usage: 21.2+ KB\n"
          ]
        }
      ]
    },
    {
      "cell_type": "code",
      "source": [
        "car_df.shape"
      ],
      "metadata": {
        "colab": {
          "base_uri": "https://localhost:8080/"
        },
        "id": "ejuuvCNUAv1u",
        "outputId": "29bfcf02-ea5c-4a90-b5c9-60ba214b4147"
      },
      "execution_count": 12,
      "outputs": [
        {
          "output_type": "execute_result",
          "data": {
            "text/plain": [
              "(539, 5)"
            ]
          },
          "metadata": {},
          "execution_count": 12
        }
      ]
    },
    {
      "cell_type": "code",
      "source": [
        "car_df.describe()"
      ],
      "metadata": {
        "colab": {
          "base_uri": "https://localhost:8080/",
          "height": 300
        },
        "id": "si8y-YalBF5I",
        "outputId": "ff95fe3d-f0fc-47b8-9bd9-014cbb34600f"
      },
      "execution_count": 13,
      "outputs": [
        {
          "output_type": "execute_result",
          "data": {
            "text/plain": [
              "              year      km driven         price\n",
              "count   539.000000     539.000000  5.390000e+02\n",
              "mean   2017.693878   58661.085343  5.227369e+05\n",
              "std       2.275001   42245.358184  2.413161e+05\n",
              "min    2011.000000      10.000000  2.140000e+05\n",
              "25%    2017.000000   25165.500000  3.690000e+05\n",
              "50%    2018.000000   47218.000000  4.590000e+05\n",
              "75%    2019.000000   82711.000000  5.940000e+05\n",
              "max    2022.000000  179298.000000  3.200000e+06"
            ],
            "text/html": [
              "\n",
              "  <div id=\"df-89fb24c2-5f44-43f7-90c6-42837f422715\">\n",
              "    <div class=\"colab-df-container\">\n",
              "      <div>\n",
              "<style scoped>\n",
              "    .dataframe tbody tr th:only-of-type {\n",
              "        vertical-align: middle;\n",
              "    }\n",
              "\n",
              "    .dataframe tbody tr th {\n",
              "        vertical-align: top;\n",
              "    }\n",
              "\n",
              "    .dataframe thead th {\n",
              "        text-align: right;\n",
              "    }\n",
              "</style>\n",
              "<table border=\"1\" class=\"dataframe\">\n",
              "  <thead>\n",
              "    <tr style=\"text-align: right;\">\n",
              "      <th></th>\n",
              "      <th>year</th>\n",
              "      <th>km driven</th>\n",
              "      <th>price</th>\n",
              "    </tr>\n",
              "  </thead>\n",
              "  <tbody>\n",
              "    <tr>\n",
              "      <th>count</th>\n",
              "      <td>539.000000</td>\n",
              "      <td>539.000000</td>\n",
              "      <td>5.390000e+02</td>\n",
              "    </tr>\n",
              "    <tr>\n",
              "      <th>mean</th>\n",
              "      <td>2017.693878</td>\n",
              "      <td>58661.085343</td>\n",
              "      <td>5.227369e+05</td>\n",
              "    </tr>\n",
              "    <tr>\n",
              "      <th>std</th>\n",
              "      <td>2.275001</td>\n",
              "      <td>42245.358184</td>\n",
              "      <td>2.413161e+05</td>\n",
              "    </tr>\n",
              "    <tr>\n",
              "      <th>min</th>\n",
              "      <td>2011.000000</td>\n",
              "      <td>10.000000</td>\n",
              "      <td>2.140000e+05</td>\n",
              "    </tr>\n",
              "    <tr>\n",
              "      <th>25%</th>\n",
              "      <td>2017.000000</td>\n",
              "      <td>25165.500000</td>\n",
              "      <td>3.690000e+05</td>\n",
              "    </tr>\n",
              "    <tr>\n",
              "      <th>50%</th>\n",
              "      <td>2018.000000</td>\n",
              "      <td>47218.000000</td>\n",
              "      <td>4.590000e+05</td>\n",
              "    </tr>\n",
              "    <tr>\n",
              "      <th>75%</th>\n",
              "      <td>2019.000000</td>\n",
              "      <td>82711.000000</td>\n",
              "      <td>5.940000e+05</td>\n",
              "    </tr>\n",
              "    <tr>\n",
              "      <th>max</th>\n",
              "      <td>2022.000000</td>\n",
              "      <td>179298.000000</td>\n",
              "      <td>3.200000e+06</td>\n",
              "    </tr>\n",
              "  </tbody>\n",
              "</table>\n",
              "</div>\n",
              "      <button class=\"colab-df-convert\" onclick=\"convertToInteractive('df-89fb24c2-5f44-43f7-90c6-42837f422715')\"\n",
              "              title=\"Convert this dataframe to an interactive table.\"\n",
              "              style=\"display:none;\">\n",
              "        \n",
              "  <svg xmlns=\"http://www.w3.org/2000/svg\" height=\"24px\"viewBox=\"0 0 24 24\"\n",
              "       width=\"24px\">\n",
              "    <path d=\"M0 0h24v24H0V0z\" fill=\"none\"/>\n",
              "    <path d=\"M18.56 5.44l.94 2.06.94-2.06 2.06-.94-2.06-.94-.94-2.06-.94 2.06-2.06.94zm-11 1L8.5 8.5l.94-2.06 2.06-.94-2.06-.94L8.5 2.5l-.94 2.06-2.06.94zm10 10l.94 2.06.94-2.06 2.06-.94-2.06-.94-.94-2.06-.94 2.06-2.06.94z\"/><path d=\"M17.41 7.96l-1.37-1.37c-.4-.4-.92-.59-1.43-.59-.52 0-1.04.2-1.43.59L10.3 9.45l-7.72 7.72c-.78.78-.78 2.05 0 2.83L4 21.41c.39.39.9.59 1.41.59.51 0 1.02-.2 1.41-.59l7.78-7.78 2.81-2.81c.8-.78.8-2.07 0-2.86zM5.41 20L4 18.59l7.72-7.72 1.47 1.35L5.41 20z\"/>\n",
              "  </svg>\n",
              "      </button>\n",
              "      \n",
              "  <style>\n",
              "    .colab-df-container {\n",
              "      display:flex;\n",
              "      flex-wrap:wrap;\n",
              "      gap: 12px;\n",
              "    }\n",
              "\n",
              "    .colab-df-convert {\n",
              "      background-color: #E8F0FE;\n",
              "      border: none;\n",
              "      border-radius: 50%;\n",
              "      cursor: pointer;\n",
              "      display: none;\n",
              "      fill: #1967D2;\n",
              "      height: 32px;\n",
              "      padding: 0 0 0 0;\n",
              "      width: 32px;\n",
              "    }\n",
              "\n",
              "    .colab-df-convert:hover {\n",
              "      background-color: #E2EBFA;\n",
              "      box-shadow: 0px 1px 2px rgba(60, 64, 67, 0.3), 0px 1px 3px 1px rgba(60, 64, 67, 0.15);\n",
              "      fill: #174EA6;\n",
              "    }\n",
              "\n",
              "    [theme=dark] .colab-df-convert {\n",
              "      background-color: #3B4455;\n",
              "      fill: #D2E3FC;\n",
              "    }\n",
              "\n",
              "    [theme=dark] .colab-df-convert:hover {\n",
              "      background-color: #434B5C;\n",
              "      box-shadow: 0px 1px 3px 1px rgba(0, 0, 0, 0.15);\n",
              "      filter: drop-shadow(0px 1px 2px rgba(0, 0, 0, 0.3));\n",
              "      fill: #FFFFFF;\n",
              "    }\n",
              "  </style>\n",
              "\n",
              "      <script>\n",
              "        const buttonEl =\n",
              "          document.querySelector('#df-89fb24c2-5f44-43f7-90c6-42837f422715 button.colab-df-convert');\n",
              "        buttonEl.style.display =\n",
              "          google.colab.kernel.accessAllowed ? 'block' : 'none';\n",
              "\n",
              "        async function convertToInteractive(key) {\n",
              "          const element = document.querySelector('#df-89fb24c2-5f44-43f7-90c6-42837f422715');\n",
              "          const dataTable =\n",
              "            await google.colab.kernel.invokeFunction('convertToInteractive',\n",
              "                                                     [key], {});\n",
              "          if (!dataTable) return;\n",
              "\n",
              "          const docLinkHtml = 'Like what you see? Visit the ' +\n",
              "            '<a target=\"_blank\" href=https://colab.research.google.com/notebooks/data_table.ipynb>data table notebook</a>'\n",
              "            + ' to learn more about interactive tables.';\n",
              "          element.innerHTML = '';\n",
              "          dataTable['output_type'] = 'display_data';\n",
              "          await google.colab.output.renderOutput(dataTable, element);\n",
              "          const docLink = document.createElement('div');\n",
              "          docLink.innerHTML = docLinkHtml;\n",
              "          element.appendChild(docLink);\n",
              "        }\n",
              "      </script>\n",
              "    </div>\n",
              "  </div>\n",
              "  "
            ]
          },
          "metadata": {},
          "execution_count": 13
        }
      ]
    },
    {
      "cell_type": "markdown",
      "source": [
        "ไม่มีค่า outliers"
      ],
      "metadata": {
        "id": "vUbIK2U1GAqQ"
      }
    },
    {
      "cell_type": "code",
      "source": [
        "car_df['price'].max()"
      ],
      "metadata": {
        "colab": {
          "base_uri": "https://localhost:8080/"
        },
        "id": "kNrNkmbnQ8ez",
        "outputId": "8699fd4a-b08c-486d-daa2-a751016178db"
      },
      "execution_count": 14,
      "outputs": [
        {
          "output_type": "execute_result",
          "data": {
            "text/plain": [
              "3200000"
            ]
          },
          "metadata": {},
          "execution_count": 14
        }
      ]
    },
    {
      "cell_type": "code",
      "source": [
        "car_df['price'].min()"
      ],
      "metadata": {
        "colab": {
          "base_uri": "https://localhost:8080/"
        },
        "id": "neqOxSodRR4f",
        "outputId": "7cc58e0a-12a7-4593-97c6-aa96f792bafc"
      },
      "execution_count": 15,
      "outputs": [
        {
          "output_type": "execute_result",
          "data": {
            "text/plain": [
              "214000"
            ]
          },
          "metadata": {},
          "execution_count": 15
        }
      ]
    },
    {
      "cell_type": "code",
      "source": [
        "car_df['model'].value_counts()"
      ],
      "metadata": {
        "colab": {
          "base_uri": "https://localhost:8080/"
        },
        "id": "KZ9Vj30aNBVw",
        "outputId": "1a34a181-2f09-435a-bbfe-b9acd25c0d68"
      },
      "execution_count": 16,
      "outputs": [
        {
          "output_type": "execute_result",
          "data": {
            "text/plain": [
              "ATTRAGEGLX1.2                     27\n",
              "ALMERAESPORTECH1.2                17\n",
              "MARCHE1.2                         17\n",
              "MIRAGEGLX1.2                      14\n",
              "YARISG1.2                         13\n",
              "                                  ..\n",
              "ALMERAES1.2                        1\n",
              "HILUXREVOSMARTCABEPRERUNNER2.4     1\n",
              "SWIFTGA1.2                         1\n",
              "BT-50PRODOUBLECABHI-RACER2.2       1\n",
              "JAZZSV1.5                          1\n",
              "Name: model, Length: 185, dtype: int64"
            ]
          },
          "metadata": {},
          "execution_count": 16
        }
      ]
    },
    {
      "cell_type": "code",
      "source": [
        "car_df['brand'].value_counts()"
      ],
      "metadata": {
        "colab": {
          "base_uri": "https://localhost:8080/"
        },
        "id": "4hdaDhNwQ5CI",
        "outputId": "bf544245-e99d-4b97-ae79-7bc851afa13f"
      },
      "execution_count": 17,
      "outputs": [
        {
          "output_type": "execute_result",
          "data": {
            "text/plain": [
              "Toyota           177\n",
              "Honda            106\n",
              "Mitsubishi        73\n",
              "Nissan            70\n",
              "Mazda             51\n",
              "Suzuki            32\n",
              "Ford              16\n",
              "Isuzu             11\n",
              "Mercedes-Benz      2\n",
              "MG                 1\n",
              "Name: brand, dtype: int64"
            ]
          },
          "metadata": {},
          "execution_count": 17
        }
      ]
    },
    {
      "cell_type": "code",
      "source": [
        "print(car_df['model'].unique())"
      ],
      "metadata": {
        "colab": {
          "base_uri": "https://localhost:8080/"
        },
        "id": "7k7J_D8yBwW4",
        "outputId": "d374a5ba-f620-414f-c3a5-fe045eadf6a3"
      },
      "execution_count": 18,
      "outputs": [
        {
          "output_type": "stream",
          "name": "stdout",
          "text": [
            "['YARISSPORTPREMIUM1.2' 'MIRAGEGLSLIMITEDEDITION1.2' 'MIRAGEGLX1.2'\n",
            " 'BRIOAMAZEV1.2' 'YARISG1.2' 'MARCHE1.2' 'CR-VE2WD2.4' 'CR-VE2.0'\n",
            " 'CIAZGL1.2' 'XPANDERGT1.5' 'YARISENTRY1.2' 'YARISG+1.2' 'YARISATIVE1.2'\n",
            " 'COROLLAALTISE1.8' 'RANGERDOUBLECABHI-RIDERWILDTRAK2.2' 'VIOSE1.5'\n",
            " 'ACCORDTURBOEL1.5' 'CX-3PROACTIVE2.0' 'YARISATIVSPORTPREMIUM1.2'\n",
            " 'YARISHIGH1.2' 'FORTUNERLEGENDER4WD2.8' '2SSPORT1.3'\n",
            " 'HILUXREVODOUBLECABPRERUNNERHIGH2.4' 'HILUXREVODOUBLECABPRERUNNERMID2.4'\n",
            " 'NOTEV1.2' 'YARISATIVMID1.2' 'X-TRAIL2.5' 'YARISE1.2' 'CX-3SP2.0'\n",
            " 'ALMERAESPORTECH1.2' 'CR-VEL4WD2.4'\n",
            " 'RANGERDOUBLECABBI-TURBO4WDWILDTRAK2.0'\n",
            " 'HILUXREVOSMARTCABEPRERUNNERTRDSPORTIVO2.4' 'HR-VE1.8' 'CAMRYG2.0'\n",
            " 'ATTRAGEGLX1.2' '2S(LEATHER)1.3' 'FORTUNERV2.4' 'YARISSPORT1.2'\n",
            " 'VIOSJ1.5' 'BRIOV1.2' 'HR-VRS1.8' 'CR-VS2WD(5SEAT)2.4' 'JAZZV1.5'\n",
            " 'NOTEE1.2' 'YARISATIVSPORT1.2' 'HILUXREVODOUBLECABEPRERUNNER2.4'\n",
            " 'VIOSHIGH1.5' 'CIAZRS1.2' 'MOBILIOS1.5' 'CIVICEL1.8' 'FORTUNERV2.5'\n",
            " 'ZSD+1.5' 'COROLLAALTISGRSPORT1.8' 'CX-5C2.0' 'SIENTAV1.5' 'CX-3S2.0'\n",
            " 'YARISATIVJ1.2' 'E300EAMG2.0' 'A180STYLE1.6'\n",
            " 'HILUXREVODOUBLECABPRERUNNERROCCO2.4' 'COROLLAALTISV1.8' 'NOTEVL1.2'\n",
            " 'ACCORDEL2.0' 'CR-VEL2WD2.4' 'HR-VEL1.8' 'CITYRS1.0'\n",
            " 'RANGERDOUBLECABHI-RIDERWILDTRAK2.0' 'RANGERDOUBLECABHI-RIDERXLT2.2'\n",
            " 'YARISJ1.2' 'CX-30SP2.0' 'YARISMID1.2' 'JAZZRS1.5' 'YARISATIVS+1.2'\n",
            " '2HIGHCONNECT1.3' 'TRITONDOUBLECABPLUSGT2.4' 'INNOVACRYSTAG2.8'\n",
            " 'HR-VS1.8' 'CITYSV+1.5' 'HILUXREVODOUBLECABPRERUNNERENTRY2.4'\n",
            " 'VIOSMID1.5' 'CITYV1.5' 'YARISATIVS1.2' 'SIENTAG1.5' 'SWIFTGL1.2'\n",
            " 'MARCHEL1.2' 'HR-VELIMITED1.8' '3S2.0' '3SPSPORTS2.0'\n",
            " 'ATTRAGESPECIALEDITION1.2' 'ALMERAVL1.0' 'SWIFTGLX1.2'\n",
            " 'TRITONDOUBLECABPLUSGLSMIVEC2.4' 'PAJEROSPORTGTPREMIUM2.4'\n",
            " 'COROLLAALTISS1.8' 'CX-5S2.0' 'COROLLAALTISG1.6' '2SPORTSHIGHCONNECT1.3'\n",
            " 'ERTIGAGX1.5' 'COROLLAALTISESPORT1.8' 'TRITONDOUBLECABPLUSGLS2.4'\n",
            " 'CITYS1.5' 'BT-50PRODOUBLECABHI-RACER2.2' 'SWIFTGA1.2'\n",
            " 'HILUXREVOSMARTCABEPRERUNNER2.4' 'ATTRAGEGLS1.2' 'CITYV+1.5' 'SYLPHYV1.6'\n",
            " 'ALMERAES1.2' 'HILUXREVOSMARTCABPRERUNNERENTRY2.4' 'MU-XDADVD2WD3.0'\n",
            " 'ECOSPORTTITANIUM1.5' 'CIVICTURBO1.5' 'CITYSV1.5' 'YARISATIVHIGH1.2'\n",
            " 'ALMERAESPORTECHSPECIALVERSION(MNC)1.2' 'AVANZAG1.5' '2HIGHPLUS1.3'\n",
            " 'D-MAXCAB-4HI-LANDERDDIZ-PRESTIGE3.0' '3CSPORTS2.0'\n",
            " 'D-MAXDOUBLECABHI-LANDERZ-PRESTIGE(VGS)2.5' 'CIVICE(NAVI)1.8'\n",
            " 'PAJEROSPORTGTPREMIUM2WD2.4' 'CR-VEL4WD1.6' 'PAJEROSPORTGT2.4'\n",
            " 'MU-XTHEICONICDDIDADVDNAVI3.0'\n",
            " 'D-MAXBLUEPOWERCAB-4HI-LANDERDDIZ-PRESTIGE1.9' 'VIOSENTRY1.5'\n",
            " 'CX-5TURBOSP(4WD)2.5' 'FORTUNERTRDSPORTIVO4WD2.8' 'ALMERAEL1.0'\n",
            " 'JAZZRS+1.5' 'MOBILIOV1.5' 'XPANDERCROSS1.5'\n",
            " 'TRITONDOUBLECABPLUSATHLETE2.4' 'VIOSG1.5'\n",
            " 'MIRAGELIMITEDEDITION(REDMETALLIC)1.2' 'FORTUNERTRDSPORTIVO2.8'\n",
            " 'MIRAGEGLS1.2' 'EVERESTTITANIUM4WD3.2' 'MU-XDADVD2WD1.9' 'BR-VSV1.5'\n",
            " 'MIRAGELIMITEDEDITION1.2' 'TEANA250XVNAVIGATION2.5' '3SSPORTS2.0'\n",
            " 'ALMERAE1.2' 'CITYSV1.0' 'D-MAXCAB-4HI-LANDERDDILDA1.9'\n",
            " '2SKYACTIVHIGHPLUS1.3' 'MOBILIORS1.5' 'FREEDSE1.5' 'CX-3BASEPLUS2.0'\n",
            " 'CIVICTURBORS1.5' 'D-MAXCAB-4V-CROSSMAXZ-PRESTIGE4WD3.0'\n",
            " '2SKYACTIVSPORTSHIGHCONNECT1.3' '2SKYACTIVXDSPORTSHIGHPLUS1.5'\n",
            " 'ACCORDEL2.4' 'HILUXREVOSMARTCABGPRERUNNERROCCO2.8' 'JAZZS1.5'\n",
            " 'SYLPHYV1.8' 'BR-VV1.5' 'D-MAXBLUEPOWERCAB-4V-CROSSDDIZ4WD3.0'\n",
            " 'D-MAXBLUEPOWERSPACECABHI-LANDERDDIZ1.9'\n",
            " 'D-MAXBLUEPOWERBLUEPOWERCAB-4HI-LANDERDDIZ1.9' 'YARISATIVG+1.2'\n",
            " 'ATTRAGEGLSLIMITEDEDITION1.2' 'NP300DOUBLECABCALIBREEL(BLACKEDITION)2.5'\n",
            " 'CIVICTURBO(HATCHBACK)1.5' 'HILUXREVODOUBLECABGPRERUNNER2.4' 'CX-30S2.0'\n",
            " 'FREEDEL1.5' 'CAMRYGEXTREMO2.0' '3SP2.0' 'RANGERHI-RIDERWILDTRAK2.2'\n",
            " 'HILUXREVODOUBLECABGPRERUNNERROCCO2.8' 'HILUXREVOSMARTCABJ2.4' 'JUKEV1.6'\n",
            " '3C2.0' 'PAJEROSPORTGT4WD2.5' '2SSPORTS(LEATHER)1.3' 'JAZZV+1.5'\n",
            " 'VIOSTRDSPORTIVO1.5' 'C-HRMID1.8' '2XDHIGH1.5' 'JAZZSV1.5']\n"
          ]
        }
      ]
    },
    {
      "cell_type": "code",
      "source": [
        "car_df.isnull().sum()"
      ],
      "metadata": {
        "colab": {
          "base_uri": "https://localhost:8080/"
        },
        "id": "TtVLuwvGNByi",
        "outputId": "404a87a9-93c7-498b-c20e-0bf7d4a7885c"
      },
      "execution_count": 19,
      "outputs": [
        {
          "output_type": "execute_result",
          "data": {
            "text/plain": [
              "brand        0\n",
              "model        0\n",
              "year         0\n",
              "km driven    0\n",
              "price        0\n",
              "dtype: int64"
            ]
          },
          "metadata": {},
          "execution_count": 19
        }
      ]
    },
    {
      "cell_type": "code",
      "source": [
        ""
      ],
      "metadata": {
        "id": "lGi4H31SSHpV"
      },
      "execution_count": 19,
      "outputs": []
    },
    {
      "cell_type": "code",
      "source": [
        "#add age car\n",
        "current_year=2022\n",
        "car_df['car_age']=current_year-car_df['year']"
      ],
      "metadata": {
        "id": "1rAL-BCSB_bM"
      },
      "execution_count": 20,
      "outputs": []
    },
    {
      "cell_type": "code",
      "source": [
        "car_df\n"
      ],
      "metadata": {
        "colab": {
          "base_uri": "https://localhost:8080/",
          "height": 424
        },
        "id": "-3f5Y9QoThFR",
        "outputId": "254f3d89-83ce-4c93-8d96-220103b9dfe4"
      },
      "execution_count": 21,
      "outputs": [
        {
          "output_type": "execute_result",
          "data": {
            "text/plain": [
              "          brand                       model  year  km driven   price  car_age\n",
              "0        Toyota        YARISSPORTPREMIUM1.2  2020      25670  565000        2\n",
              "1    Mitsubishi  MIRAGEGLSLIMITEDEDITION1.2  2019      41578  356000        3\n",
              "2    Mitsubishi                MIRAGEGLX1.2  2018      64237  316000        4\n",
              "3         Honda               BRIOAMAZEV1.2  2018      81377  356000        4\n",
              "4        Toyota                   YARISG1.2  2017      95328  416000        5\n",
              "..          ...                         ...   ...        ...     ...      ...\n",
              "534      Toyota                    VIOSE1.5  2017      44736  414000        5\n",
              "535      Toyota               YARISATIVE1.2  2017      45236  414000        5\n",
              "536      Toyota                FORTUNERV2.4  2017     159429  964000        5\n",
              "537       Honda                   JAZZSV1.5  2014     159872  464000        8\n",
              "538      Suzuki                 SWIFTGLX1.2  2013      54701  294000        9\n",
              "\n",
              "[539 rows x 6 columns]"
            ],
            "text/html": [
              "\n",
              "  <div id=\"df-e761bcdf-fb99-47c4-b7ad-5d9e34690d56\">\n",
              "    <div class=\"colab-df-container\">\n",
              "      <div>\n",
              "<style scoped>\n",
              "    .dataframe tbody tr th:only-of-type {\n",
              "        vertical-align: middle;\n",
              "    }\n",
              "\n",
              "    .dataframe tbody tr th {\n",
              "        vertical-align: top;\n",
              "    }\n",
              "\n",
              "    .dataframe thead th {\n",
              "        text-align: right;\n",
              "    }\n",
              "</style>\n",
              "<table border=\"1\" class=\"dataframe\">\n",
              "  <thead>\n",
              "    <tr style=\"text-align: right;\">\n",
              "      <th></th>\n",
              "      <th>brand</th>\n",
              "      <th>model</th>\n",
              "      <th>year</th>\n",
              "      <th>km driven</th>\n",
              "      <th>price</th>\n",
              "      <th>car_age</th>\n",
              "    </tr>\n",
              "  </thead>\n",
              "  <tbody>\n",
              "    <tr>\n",
              "      <th>0</th>\n",
              "      <td>Toyota</td>\n",
              "      <td>YARISSPORTPREMIUM1.2</td>\n",
              "      <td>2020</td>\n",
              "      <td>25670</td>\n",
              "      <td>565000</td>\n",
              "      <td>2</td>\n",
              "    </tr>\n",
              "    <tr>\n",
              "      <th>1</th>\n",
              "      <td>Mitsubishi</td>\n",
              "      <td>MIRAGEGLSLIMITEDEDITION1.2</td>\n",
              "      <td>2019</td>\n",
              "      <td>41578</td>\n",
              "      <td>356000</td>\n",
              "      <td>3</td>\n",
              "    </tr>\n",
              "    <tr>\n",
              "      <th>2</th>\n",
              "      <td>Mitsubishi</td>\n",
              "      <td>MIRAGEGLX1.2</td>\n",
              "      <td>2018</td>\n",
              "      <td>64237</td>\n",
              "      <td>316000</td>\n",
              "      <td>4</td>\n",
              "    </tr>\n",
              "    <tr>\n",
              "      <th>3</th>\n",
              "      <td>Honda</td>\n",
              "      <td>BRIOAMAZEV1.2</td>\n",
              "      <td>2018</td>\n",
              "      <td>81377</td>\n",
              "      <td>356000</td>\n",
              "      <td>4</td>\n",
              "    </tr>\n",
              "    <tr>\n",
              "      <th>4</th>\n",
              "      <td>Toyota</td>\n",
              "      <td>YARISG1.2</td>\n",
              "      <td>2017</td>\n",
              "      <td>95328</td>\n",
              "      <td>416000</td>\n",
              "      <td>5</td>\n",
              "    </tr>\n",
              "    <tr>\n",
              "      <th>...</th>\n",
              "      <td>...</td>\n",
              "      <td>...</td>\n",
              "      <td>...</td>\n",
              "      <td>...</td>\n",
              "      <td>...</td>\n",
              "      <td>...</td>\n",
              "    </tr>\n",
              "    <tr>\n",
              "      <th>534</th>\n",
              "      <td>Toyota</td>\n",
              "      <td>VIOSE1.5</td>\n",
              "      <td>2017</td>\n",
              "      <td>44736</td>\n",
              "      <td>414000</td>\n",
              "      <td>5</td>\n",
              "    </tr>\n",
              "    <tr>\n",
              "      <th>535</th>\n",
              "      <td>Toyota</td>\n",
              "      <td>YARISATIVE1.2</td>\n",
              "      <td>2017</td>\n",
              "      <td>45236</td>\n",
              "      <td>414000</td>\n",
              "      <td>5</td>\n",
              "    </tr>\n",
              "    <tr>\n",
              "      <th>536</th>\n",
              "      <td>Toyota</td>\n",
              "      <td>FORTUNERV2.4</td>\n",
              "      <td>2017</td>\n",
              "      <td>159429</td>\n",
              "      <td>964000</td>\n",
              "      <td>5</td>\n",
              "    </tr>\n",
              "    <tr>\n",
              "      <th>537</th>\n",
              "      <td>Honda</td>\n",
              "      <td>JAZZSV1.5</td>\n",
              "      <td>2014</td>\n",
              "      <td>159872</td>\n",
              "      <td>464000</td>\n",
              "      <td>8</td>\n",
              "    </tr>\n",
              "    <tr>\n",
              "      <th>538</th>\n",
              "      <td>Suzuki</td>\n",
              "      <td>SWIFTGLX1.2</td>\n",
              "      <td>2013</td>\n",
              "      <td>54701</td>\n",
              "      <td>294000</td>\n",
              "      <td>9</td>\n",
              "    </tr>\n",
              "  </tbody>\n",
              "</table>\n",
              "<p>539 rows × 6 columns</p>\n",
              "</div>\n",
              "      <button class=\"colab-df-convert\" onclick=\"convertToInteractive('df-e761bcdf-fb99-47c4-b7ad-5d9e34690d56')\"\n",
              "              title=\"Convert this dataframe to an interactive table.\"\n",
              "              style=\"display:none;\">\n",
              "        \n",
              "  <svg xmlns=\"http://www.w3.org/2000/svg\" height=\"24px\"viewBox=\"0 0 24 24\"\n",
              "       width=\"24px\">\n",
              "    <path d=\"M0 0h24v24H0V0z\" fill=\"none\"/>\n",
              "    <path d=\"M18.56 5.44l.94 2.06.94-2.06 2.06-.94-2.06-.94-.94-2.06-.94 2.06-2.06.94zm-11 1L8.5 8.5l.94-2.06 2.06-.94-2.06-.94L8.5 2.5l-.94 2.06-2.06.94zm10 10l.94 2.06.94-2.06 2.06-.94-2.06-.94-.94-2.06-.94 2.06-2.06.94z\"/><path d=\"M17.41 7.96l-1.37-1.37c-.4-.4-.92-.59-1.43-.59-.52 0-1.04.2-1.43.59L10.3 9.45l-7.72 7.72c-.78.78-.78 2.05 0 2.83L4 21.41c.39.39.9.59 1.41.59.51 0 1.02-.2 1.41-.59l7.78-7.78 2.81-2.81c.8-.78.8-2.07 0-2.86zM5.41 20L4 18.59l7.72-7.72 1.47 1.35L5.41 20z\"/>\n",
              "  </svg>\n",
              "      </button>\n",
              "      \n",
              "  <style>\n",
              "    .colab-df-container {\n",
              "      display:flex;\n",
              "      flex-wrap:wrap;\n",
              "      gap: 12px;\n",
              "    }\n",
              "\n",
              "    .colab-df-convert {\n",
              "      background-color: #E8F0FE;\n",
              "      border: none;\n",
              "      border-radius: 50%;\n",
              "      cursor: pointer;\n",
              "      display: none;\n",
              "      fill: #1967D2;\n",
              "      height: 32px;\n",
              "      padding: 0 0 0 0;\n",
              "      width: 32px;\n",
              "    }\n",
              "\n",
              "    .colab-df-convert:hover {\n",
              "      background-color: #E2EBFA;\n",
              "      box-shadow: 0px 1px 2px rgba(60, 64, 67, 0.3), 0px 1px 3px 1px rgba(60, 64, 67, 0.15);\n",
              "      fill: #174EA6;\n",
              "    }\n",
              "\n",
              "    [theme=dark] .colab-df-convert {\n",
              "      background-color: #3B4455;\n",
              "      fill: #D2E3FC;\n",
              "    }\n",
              "\n",
              "    [theme=dark] .colab-df-convert:hover {\n",
              "      background-color: #434B5C;\n",
              "      box-shadow: 0px 1px 3px 1px rgba(0, 0, 0, 0.15);\n",
              "      filter: drop-shadow(0px 1px 2px rgba(0, 0, 0, 0.3));\n",
              "      fill: #FFFFFF;\n",
              "    }\n",
              "  </style>\n",
              "\n",
              "      <script>\n",
              "        const buttonEl =\n",
              "          document.querySelector('#df-e761bcdf-fb99-47c4-b7ad-5d9e34690d56 button.colab-df-convert');\n",
              "        buttonEl.style.display =\n",
              "          google.colab.kernel.accessAllowed ? 'block' : 'none';\n",
              "\n",
              "        async function convertToInteractive(key) {\n",
              "          const element = document.querySelector('#df-e761bcdf-fb99-47c4-b7ad-5d9e34690d56');\n",
              "          const dataTable =\n",
              "            await google.colab.kernel.invokeFunction('convertToInteractive',\n",
              "                                                     [key], {});\n",
              "          if (!dataTable) return;\n",
              "\n",
              "          const docLinkHtml = 'Like what you see? Visit the ' +\n",
              "            '<a target=\"_blank\" href=https://colab.research.google.com/notebooks/data_table.ipynb>data table notebook</a>'\n",
              "            + ' to learn more about interactive tables.';\n",
              "          element.innerHTML = '';\n",
              "          dataTable['output_type'] = 'display_data';\n",
              "          await google.colab.output.renderOutput(dataTable, element);\n",
              "          const docLink = document.createElement('div');\n",
              "          docLink.innerHTML = docLinkHtml;\n",
              "          element.appendChild(docLink);\n",
              "        }\n",
              "      </script>\n",
              "    </div>\n",
              "  </div>\n",
              "  "
            ]
          },
          "metadata": {},
          "execution_count": 21
        }
      ]
    },
    {
      "cell_type": "code",
      "source": [
        "car_df['car_age'].max()"
      ],
      "metadata": {
        "colab": {
          "base_uri": "https://localhost:8080/"
        },
        "id": "8bd4Gx9kTk1p",
        "outputId": "c6b7ba41-b98c-4eb6-f61e-d9fa0d62c5cd"
      },
      "execution_count": 22,
      "outputs": [
        {
          "output_type": "execute_result",
          "data": {
            "text/plain": [
              "11"
            ]
          },
          "metadata": {},
          "execution_count": 22
        }
      ]
    },
    {
      "cell_type": "code",
      "source": [
        "car_df['car_age'].min()"
      ],
      "metadata": {
        "colab": {
          "base_uri": "https://localhost:8080/"
        },
        "id": "EIEzsvxxTywT",
        "outputId": "c674aa6a-abf5-4734-d69e-b3d0cda9d496"
      },
      "execution_count": 23,
      "outputs": [
        {
          "output_type": "execute_result",
          "data": {
            "text/plain": [
              "0"
            ]
          },
          "metadata": {},
          "execution_count": 23
        }
      ]
    },
    {
      "cell_type": "code",
      "source": [
        "car_df['price']=car_df['price'].astype('float')\n",
        "car_df['year']=car_df['year'].astype('float')\n",
        "car_df['km driven']=car_df['km driven'].astype('float')\n",
        "car_df['car_age']=car_df['car_age'].astype('float')\n",
        "car_df.info()"
      ],
      "metadata": {
        "colab": {
          "base_uri": "https://localhost:8080/"
        },
        "id": "ag2L9GLvW5eF",
        "outputId": "a2decb01-d539-4f79-98f5-3068fb16b541"
      },
      "execution_count": 24,
      "outputs": [
        {
          "output_type": "stream",
          "name": "stdout",
          "text": [
            "<class 'pandas.core.frame.DataFrame'>\n",
            "RangeIndex: 539 entries, 0 to 538\n",
            "Data columns (total 6 columns):\n",
            " #   Column     Non-Null Count  Dtype  \n",
            "---  ------     --------------  -----  \n",
            " 0   brand      539 non-null    object \n",
            " 1   model      539 non-null    object \n",
            " 2   year       539 non-null    float64\n",
            " 3   km driven  539 non-null    float64\n",
            " 4   price      539 non-null    float64\n",
            " 5   car_age    539 non-null    float64\n",
            "dtypes: float64(4), object(2)\n",
            "memory usage: 25.4+ KB\n"
          ]
        }
      ]
    },
    {
      "cell_type": "code",
      "source": [
        ""
      ],
      "metadata": {
        "id": "r6qgv9vmqQu3"
      },
      "execution_count": 24,
      "outputs": []
    },
    {
      "cell_type": "code",
      "source": [
        "sns.pairplot(car_df)"
      ],
      "metadata": {
        "colab": {
          "base_uri": "https://localhost:8080/",
          "height": 745
        },
        "id": "us4_wRiBUMwi",
        "outputId": "c58cd0cb-55b2-4c46-9573-5f8d5ce479d1"
      },
      "execution_count": 25,
      "outputs": [
        {
          "output_type": "execute_result",
          "data": {
            "text/plain": [
              "<seaborn.axisgrid.PairGrid at 0x7f89da77e3d0>"
            ]
          },
          "metadata": {},
          "execution_count": 25
        },
        {
          "output_type": "display_data",
          "data": {
            "text/plain": [
              "<Figure size 720x720 with 20 Axes>"
            ],
            "image/png": "[encoded data removed]"
          },
          "metadata": {
            "needs_background": "light"
          }
        }
      ]
    },
    {
      "cell_type": "code",
      "source": [
        "sns.heatmap(car_df.corr(),annot=True,cmap='summer')"
      ],
      "metadata": {
        "colab": {
          "base_uri": "https://localhost:8080/",
          "height": 287
        },
        "id": "Ob_LBW0mUxBx",
        "outputId": "899842a1-0f47-436f-a7c8-ce5db27c72c2"
      },
      "execution_count": 26,
      "outputs": [
        {
          "output_type": "execute_result",
          "data": {
            "text/plain": [
              "<matplotlib.axes._subplots.AxesSubplot at 0x7f89d714d2d0>"
            ]
          },
          "metadata": {},
          "execution_count": 26
        },
        {
          "output_type": "display_data",
          "data": {
            "text/plain": [
              "<Figure size 432x288 with 2 Axes>"
            ],
            "image/png": "[encoded data removed]"
          },
          "metadata": {
            "needs_background": "light"
          }
        }
      ]
    },
    {
      "cell_type": "code",
      "source": [
        "sns.regplot('km driven','price',data=car_df)"
      ],
      "metadata": {
        "colab": {
          "base_uri": "https://localhost:8080/",
          "height": 364
        },
        "id": "8CAbVxc1VEj-",
        "outputId": "2447baf7-65b5-4bbe-de8a-142e0b4fc6c2"
      },
      "execution_count": 27,
      "outputs": [
        {
          "output_type": "stream",
          "name": "stderr",
          "text": [
            "/usr/local/lib/python3.7/dist-packages/seaborn/_decorators.py:43: FutureWarning: Pass the following variables as keyword args: x, y. From version 0.12, the only valid positional argument will be `data`, and passing other arguments without an explicit keyword will result in an error or misinterpretation.\n",
            "  FutureWarning\n"
          ]
        },
        {
          "output_type": "execute_result",
          "data": {
            "text/plain": [
              "<matplotlib.axes._subplots.AxesSubplot at 0x7f89d591da50>"
            ]
          },
          "metadata": {},
          "execution_count": 27
        },
        {
          "output_type": "display_data",
          "data": {
            "text/plain": [
              "<Figure size 432x288 with 1 Axes>"
            ],
            "image/png": "[encoded data removed]"
          },
          "metadata": {
            "needs_background": "light"
          }
        }
      ]
    },
    {
      "cell_type": "code",
      "source": [
        "sns.regplot('car_age','price',data=car_df)"
      ],
      "metadata": {
        "colab": {
          "base_uri": "https://localhost:8080/",
          "height": 364
        },
        "id": "3PoHPbku-Ysb",
        "outputId": "badfa028-44e8-4436-e0c7-6ee2b56ca549"
      },
      "execution_count": 28,
      "outputs": [
        {
          "output_type": "stream",
          "name": "stderr",
          "text": [
            "/usr/local/lib/python3.7/dist-packages/seaborn/_decorators.py:43: FutureWarning: Pass the following variables as keyword args: x, y. From version 0.12, the only valid positional argument will be `data`, and passing other arguments without an explicit keyword will result in an error or misinterpretation.\n",
            "  FutureWarning\n"
          ]
        },
        {
          "output_type": "execute_result",
          "data": {
            "text/plain": [
              "<matplotlib.axes._subplots.AxesSubplot at 0x7f89d5803690>"
            ]
          },
          "metadata": {},
          "execution_count": 28
        },
        {
          "output_type": "display_data",
          "data": {
            "text/plain": [
              "<Figure size 432x288 with 1 Axes>"
            ],
            "image/png": "[encoded data removed]"
          },
          "metadata": {
            "needs_background": "light"
          }
        }
      ]
    },
    {
      "cell_type": "code",
      "source": [
        "# plt.figure(figsize=(10,5))\n",
        "# sns.barplot('car_age','price',data=car_df)"
      ],
      "metadata": {
        "id": "_MoWQ-lGVcuu"
      },
      "execution_count": 29,
      "outputs": []
    },
    {
      "cell_type": "code",
      "source": [
        "# f, ax = plt.subplots(figsize=(15,8))\n",
        "# sns.distplot(car_df['price'])\n"
      ],
      "metadata": {
        "id": "79MLNNsoWVkl"
      },
      "execution_count": 30,
      "outputs": []
    },
    {
      "cell_type": "code",
      "source": [
        "car_data=car_df"
      ],
      "metadata": {
        "id": "RoYWm5FbXTmC"
      },
      "execution_count": 31,
      "outputs": []
    },
    {
      "cell_type": "code",
      "source": [
        "car_data"
      ],
      "metadata": {
        "colab": {
          "base_uri": "https://localhost:8080/",
          "height": 424
        },
        "id": "BzV6pnPqZ1ed",
        "outputId": "32eeb27a-0cc9-4dcc-997b-63f5136f3f46"
      },
      "execution_count": 32,
      "outputs": [
        {
          "output_type": "execute_result",
          "data": {
            "text/plain": [
              "          brand                       model    year  km driven     price  \\\n",
              "0        Toyota        YARISSPORTPREMIUM1.2  2020.0    25670.0  565000.0   \n",
              "1    Mitsubishi  MIRAGEGLSLIMITEDEDITION1.2  2019.0    41578.0  356000.0   \n",
              "2    Mitsubishi                MIRAGEGLX1.2  2018.0    64237.0  316000.0   \n",
              "3         Honda               BRIOAMAZEV1.2  2018.0    81377.0  356000.0   \n",
              "4        Toyota                   YARISG1.2  2017.0    95328.0  416000.0   \n",
              "..          ...                         ...     ...        ...       ...   \n",
              "534      Toyota                    VIOSE1.5  2017.0    44736.0  414000.0   \n",
              "535      Toyota               YARISATIVE1.2  2017.0    45236.0  414000.0   \n",
              "536      Toyota                FORTUNERV2.4  2017.0   159429.0  964000.0   \n",
              "537       Honda                   JAZZSV1.5  2014.0   159872.0  464000.0   \n",
              "538      Suzuki                 SWIFTGLX1.2  2013.0    54701.0  294000.0   \n",
              "\n",
              "     car_age  \n",
              "0        2.0  \n",
              "1        3.0  \n",
              "2        4.0  \n",
              "3        4.0  \n",
              "4        5.0  \n",
              "..       ...  \n",
              "534      5.0  \n",
              "535      5.0  \n",
              "536      5.0  \n",
              "537      8.0  \n",
              "538      9.0  \n",
              "\n",
              "[539 rows x 6 columns]"
            ],
            "text/html": [
              "\n",
              "  <div id=\"df-a43af723-e666-4a91-9034-13b4da84c193\">\n",
              "    <div class=\"colab-df-container\">\n",
              "      <div>\n",
              "<style scoped>\n",
              "    .dataframe tbody tr th:only-of-type {\n",
              "        vertical-align: middle;\n",
              "    }\n",
              "\n",
              "    .dataframe tbody tr th {\n",
              "        vertical-align: top;\n",
              "    }\n",
              "\n",
              "    .dataframe thead th {\n",
              "        text-align: right;\n",
              "    }\n",
              "</style>\n",
              "<table border=\"1\" class=\"dataframe\">\n",
              "  <thead>\n",
              "    <tr style=\"text-align: right;\">\n",
              "      <th></th>\n",
              "      <th>brand</th>\n",
              "      <th>model</th>\n",
              "      <th>year</th>\n",
              "      <th>km driven</th>\n",
              "      <th>price</th>\n",
              "      <th>car_age</th>\n",
              "    </tr>\n",
              "  </thead>\n",
              "  <tbody>\n",
              "    <tr>\n",
              "      <th>0</th>\n",
              "      <td>Toyota</td>\n",
              "      <td>YARISSPORTPREMIUM1.2</td>\n",
              "      <td>2020.0</td>\n",
              "      <td>25670.0</td>\n",
              "      <td>565000.0</td>\n",
              "      <td>2.0</td>\n",
              "    </tr>\n",
              "    <tr>\n",
              "      <th>1</th>\n",
              "      <td>Mitsubishi</td>\n",
              "      <td>MIRAGEGLSLIMITEDEDITION1.2</td>\n",
              "      <td>2019.0</td>\n",
              "      <td>41578.0</td>\n",
              "      <td>356000.0</td>\n",
              "      <td>3.0</td>\n",
              "    </tr>\n",
              "    <tr>\n",
              "      <th>2</th>\n",
              "      <td>Mitsubishi</td>\n",
              "      <td>MIRAGEGLX1.2</td>\n",
              "      <td>2018.0</td>\n",
              "      <td>64237.0</td>\n",
              "      <td>316000.0</td>\n",
              "      <td>4.0</td>\n",
              "    </tr>\n",
              "    <tr>\n",
              "      <th>3</th>\n",
              "      <td>Honda</td>\n",
              "      <td>BRIOAMAZEV1.2</td>\n",
              "      <td>2018.0</td>\n",
              "      <td>81377.0</td>\n",
              "      <td>356000.0</td>\n",
              "      <td>4.0</td>\n",
              "    </tr>\n",
              "    <tr>\n",
              "      <th>4</th>\n",
              "      <td>Toyota</td>\n",
              "      <td>YARISG1.2</td>\n",
              "      <td>2017.0</td>\n",
              "      <td>95328.0</td>\n",
              "      <td>416000.0</td>\n",
              "      <td>5.0</td>\n",
              "    </tr>\n",
              "    <tr>\n",
              "      <th>...</th>\n",
              "      <td>...</td>\n",
              "      <td>...</td>\n",
              "      <td>...</td>\n",
              "      <td>...</td>\n",
              "      <td>...</td>\n",
              "      <td>...</td>\n",
              "    </tr>\n",
              "    <tr>\n",
              "      <th>534</th>\n",
              "      <td>Toyota</td>\n",
              "      <td>VIOSE1.5</td>\n",
              "      <td>2017.0</td>\n",
              "      <td>44736.0</td>\n",
              "      <td>414000.0</td>\n",
              "      <td>5.0</td>\n",
              "    </tr>\n",
              "    <tr>\n",
              "      <th>535</th>\n",
              "      <td>Toyota</td>\n",
              "      <td>YARISATIVE1.2</td>\n",
              "      <td>2017.0</td>\n",
              "      <td>45236.0</td>\n",
              "      <td>414000.0</td>\n",
              "      <td>5.0</td>\n",
              "    </tr>\n",
              "    <tr>\n",
              "      <th>536</th>\n",
              "      <td>Toyota</td>\n",
              "      <td>FORTUNERV2.4</td>\n",
              "      <td>2017.0</td>\n",
              "      <td>159429.0</td>\n",
              "      <td>964000.0</td>\n",
              "      <td>5.0</td>\n",
              "    </tr>\n",
              "    <tr>\n",
              "      <th>537</th>\n",
              "      <td>Honda</td>\n",
              "      <td>JAZZSV1.5</td>\n",
              "      <td>2014.0</td>\n",
              "      <td>159872.0</td>\n",
              "      <td>464000.0</td>\n",
              "      <td>8.0</td>\n",
              "    </tr>\n",
              "    <tr>\n",
              "      <th>538</th>\n",
              "      <td>Suzuki</td>\n",
              "      <td>SWIFTGLX1.2</td>\n",
              "      <td>2013.0</td>\n",
              "      <td>54701.0</td>\n",
              "      <td>294000.0</td>\n",
              "      <td>9.0</td>\n",
              "    </tr>\n",
              "  </tbody>\n",
              "</table>\n",
              "<p>539 rows × 6 columns</p>\n",
              "</div>\n",
              "      <button class=\"colab-df-convert\" onclick=\"convertToInteractive('df-a43af723-e666-4a91-9034-13b4da84c193')\"\n",
              "              title=\"Convert this dataframe to an interactive table.\"\n",
              "              style=\"display:none;\">\n",
              "        \n",
              "  <svg xmlns=\"http://www.w3.org/2000/svg\" height=\"24px\"viewBox=\"0 0 24 24\"\n",
              "       width=\"24px\">\n",
              "    <path d=\"M0 0h24v24H0V0z\" fill=\"none\"/>\n",
              "    <path d=\"M18.56 5.44l.94 2.06.94-2.06 2.06-.94-2.06-.94-.94-2.06-.94 2.06-2.06.94zm-11 1L8.5 8.5l.94-2.06 2.06-.94-2.06-.94L8.5 2.5l-.94 2.06-2.06.94zm10 10l.94 2.06.94-2.06 2.06-.94-2.06-.94-.94-2.06-.94 2.06-2.06.94z\"/><path d=\"M17.41 7.96l-1.37-1.37c-.4-.4-.92-.59-1.43-.59-.52 0-1.04.2-1.43.59L10.3 9.45l-7.72 7.72c-.78.78-.78 2.05 0 2.83L4 21.41c.39.39.9.59 1.41.59.51 0 1.02-.2 1.41-.59l7.78-7.78 2.81-2.81c.8-.78.8-2.07 0-2.86zM5.41 20L4 18.59l7.72-7.72 1.47 1.35L5.41 20z\"/>\n",
              "  </svg>\n",
              "      </button>\n",
              "      \n",
              "  <style>\n",
              "    .colab-df-container {\n",
              "      display:flex;\n",
              "      flex-wrap:wrap;\n",
              "      gap: 12px;\n",
              "    }\n",
              "\n",
              "    .colab-df-convert {\n",
              "      background-color: #E8F0FE;\n",
              "      border: none;\n",
              "      border-radius: 50%;\n",
              "      cursor: pointer;\n",
              "      display: none;\n",
              "      fill: #1967D2;\n",
              "      height: 32px;\n",
              "      padding: 0 0 0 0;\n",
              "      width: 32px;\n",
              "    }\n",
              "\n",
              "    .colab-df-convert:hover {\n",
              "      background-color: #E2EBFA;\n",
              "      box-shadow: 0px 1px 2px rgba(60, 64, 67, 0.3), 0px 1px 3px 1px rgba(60, 64, 67, 0.15);\n",
              "      fill: #174EA6;\n",
              "    }\n",
              "\n",
              "    [theme=dark] .colab-df-convert {\n",
              "      background-color: #3B4455;\n",
              "      fill: #D2E3FC;\n",
              "    }\n",
              "\n",
              "    [theme=dark] .colab-df-convert:hover {\n",
              "      background-color: #434B5C;\n",
              "      box-shadow: 0px 1px 3px 1px rgba(0, 0, 0, 0.15);\n",
              "      filter: drop-shadow(0px 1px 2px rgba(0, 0, 0, 0.3));\n",
              "      fill: #FFFFFF;\n",
              "    }\n",
              "  </style>\n",
              "\n",
              "      <script>\n",
              "        const buttonEl =\n",
              "          document.querySelector('#df-a43af723-e666-4a91-9034-13b4da84c193 button.colab-df-convert');\n",
              "        buttonEl.style.display =\n",
              "          google.colab.kernel.accessAllowed ? 'block' : 'none';\n",
              "\n",
              "        async function convertToInteractive(key) {\n",
              "          const element = document.querySelector('#df-a43af723-e666-4a91-9034-13b4da84c193');\n",
              "          const dataTable =\n",
              "            await google.colab.kernel.invokeFunction('convertToInteractive',\n",
              "                                                     [key], {});\n",
              "          if (!dataTable) return;\n",
              "\n",
              "          const docLinkHtml = 'Like what you see? Visit the ' +\n",
              "            '<a target=\"_blank\" href=https://colab.research.google.com/notebooks/data_table.ipynb>data table notebook</a>'\n",
              "            + ' to learn more about interactive tables.';\n",
              "          element.innerHTML = '';\n",
              "          dataTable['output_type'] = 'display_data';\n",
              "          await google.colab.output.renderOutput(dataTable, element);\n",
              "          const docLink = document.createElement('div');\n",
              "          docLink.innerHTML = docLinkHtml;\n",
              "          element.appendChild(docLink);\n",
              "        }\n",
              "      </script>\n",
              "    </div>\n",
              "  </div>\n",
              "  "
            ]
          },
          "metadata": {},
          "execution_count": 32
        }
      ]
    },
    {
      "cell_type": "code",
      "source": [
        "len(car_data)"
      ],
      "metadata": {
        "colab": {
          "base_uri": "https://localhost:8080/"
        },
        "id": "yyFG8UvgrnEK",
        "outputId": "44f62225-0756-448f-f370-7f3e686c9cab"
      },
      "execution_count": 33,
      "outputs": [
        {
          "output_type": "execute_result",
          "data": {
            "text/plain": [
              "539"
            ]
          },
          "metadata": {},
          "execution_count": 33
        }
      ]
    },
    {
      "cell_type": "code",
      "source": [
        "car_data['model'].value_counts().head(10)"
      ],
      "metadata": {
        "colab": {
          "base_uri": "https://localhost:8080/"
        },
        "id": "6CGDbIp0uHxN",
        "outputId": "958dd756-cb93-41af-85f2-200122476916"
      },
      "execution_count": 34,
      "outputs": [
        {
          "output_type": "execute_result",
          "data": {
            "text/plain": [
              "ATTRAGEGLX1.2           27\n",
              "ALMERAESPORTECH1.2      17\n",
              "MARCHE1.2               17\n",
              "MIRAGEGLX1.2            14\n",
              "YARISG1.2               13\n",
              "YARISE1.2               12\n",
              "YARISJ1.2               12\n",
              "SWIFTGL1.2              10\n",
              "YARISSPORTPREMIUM1.2     9\n",
              "CIAZGL1.2                9\n",
              "Name: model, dtype: int64"
            ]
          },
          "metadata": {},
          "execution_count": 34
        }
      ]
    },
    {
      "cell_type": "markdown",
      "source": [
        "**Data** **Preparation**"
      ],
      "metadata": {
        "id": "cgn96tW5B149"
      }
    },
    {
      "cell_type": "code",
      "source": [
        "titles=list(car_data.columns)\n",
        "titles"
      ],
      "metadata": {
        "colab": {
          "base_uri": "https://localhost:8080/"
        },
        "id": "T2kTYsZcr5Kh",
        "outputId": "ebb6c3fc-0745-4422-9955-79d5254ca1db"
      },
      "execution_count": 35,
      "outputs": [
        {
          "output_type": "execute_result",
          "data": {
            "text/plain": [
              "['brand', 'model', 'year', 'km driven', 'price', 'car_age']"
            ]
          },
          "metadata": {},
          "execution_count": 35
        }
      ]
    },
    {
      "cell_type": "code",
      "source": [
        "titles[0],titles[1]=titles[1],titles[0]\n",
        "titles"
      ],
      "metadata": {
        "colab": {
          "base_uri": "https://localhost:8080/"
        },
        "id": "BzYNlWZXs5Bc",
        "outputId": "a60cbf7d-a420-4858-8441-2e16bb739533"
      },
      "execution_count": 36,
      "outputs": [
        {
          "output_type": "execute_result",
          "data": {
            "text/plain": [
              "['model', 'brand', 'year', 'km driven', 'price', 'car_age']"
            ]
          },
          "metadata": {},
          "execution_count": 36
        }
      ]
    },
    {
      "cell_type": "code",
      "source": [
        "car_data=car_data[titles]\n",
        "car_data"
      ],
      "metadata": {
        "colab": {
          "base_uri": "https://localhost:8080/",
          "height": 424
        },
        "id": "hxHayzEztY_F",
        "outputId": "407859e9-e2fd-4566-a6bf-e7d8d45bdbb2"
      },
      "execution_count": 37,
      "outputs": [
        {
          "output_type": "execute_result",
          "data": {
            "text/plain": [
              "                          model       brand    year  km driven     price  \\\n",
              "0          YARISSPORTPREMIUM1.2      Toyota  2020.0    25670.0  565000.0   \n",
              "1    MIRAGEGLSLIMITEDEDITION1.2  Mitsubishi  2019.0    41578.0  356000.0   \n",
              "2                  MIRAGEGLX1.2  Mitsubishi  2018.0    64237.0  316000.0   \n",
              "3                 BRIOAMAZEV1.2       Honda  2018.0    81377.0  356000.0   \n",
              "4                     YARISG1.2      Toyota  2017.0    95328.0  416000.0   \n",
              "..                          ...         ...     ...        ...       ...   \n",
              "534                    VIOSE1.5      Toyota  2017.0    44736.0  414000.0   \n",
              "535               YARISATIVE1.2      Toyota  2017.0    45236.0  414000.0   \n",
              "536                FORTUNERV2.4      Toyota  2017.0   159429.0  964000.0   \n",
              "537                   JAZZSV1.5       Honda  2014.0   159872.0  464000.0   \n",
              "538                 SWIFTGLX1.2      Suzuki  2013.0    54701.0  294000.0   \n",
              "\n",
              "     car_age  \n",
              "0        2.0  \n",
              "1        3.0  \n",
              "2        4.0  \n",
              "3        4.0  \n",
              "4        5.0  \n",
              "..       ...  \n",
              "534      5.0  \n",
              "535      5.0  \n",
              "536      5.0  \n",
              "537      8.0  \n",
              "538      9.0  \n",
              "\n",
              "[539 rows x 6 columns]"
            ],
            "text/html": [
              "\n",
              "  <div id=\"df-f60d804e-c40f-43e0-a55d-68d1469e13a4\">\n",
              "    <div class=\"colab-df-container\">\n",
              "      <div>\n",
              "<style scoped>\n",
              "    .dataframe tbody tr th:only-of-type {\n",
              "        vertical-align: middle;\n",
              "    }\n",
              "\n",
              "    .dataframe tbody tr th {\n",
              "        vertical-align: top;\n",
              "    }\n",
              "\n",
              "    .dataframe thead th {\n",
              "        text-align: right;\n",
              "    }\n",
              "</style>\n",
              "<table border=\"1\" class=\"dataframe\">\n",
              "  <thead>\n",
              "    <tr style=\"text-align: right;\">\n",
              "      <th></th>\n",
              "      <th>model</th>\n",
              "      <th>brand</th>\n",
              "      <th>year</th>\n",
              "      <th>km driven</th>\n",
              "      <th>price</th>\n",
              "      <th>car_age</th>\n",
              "    </tr>\n",
              "  </thead>\n",
              "  <tbody>\n",
              "    <tr>\n",
              "      <th>0</th>\n",
              "      <td>YARISSPORTPREMIUM1.2</td>\n",
              "      <td>Toyota</td>\n",
              "      <td>2020.0</td>\n",
              "      <td>25670.0</td>\n",
              "      <td>565000.0</td>\n",
              "      <td>2.0</td>\n",
              "    </tr>\n",
              "    <tr>\n",
              "      <th>1</th>\n",
              "      <td>MIRAGEGLSLIMITEDEDITION1.2</td>\n",
              "      <td>Mitsubishi</td>\n",
              "      <td>2019.0</td>\n",
              "      <td>41578.0</td>\n",
              "      <td>356000.0</td>\n",
              "      <td>3.0</td>\n",
              "    </tr>\n",
              "    <tr>\n",
              "      <th>2</th>\n",
              "      <td>MIRAGEGLX1.2</td>\n",
              "      <td>Mitsubishi</td>\n",
              "      <td>2018.0</td>\n",
              "      <td>64237.0</td>\n",
              "      <td>316000.0</td>\n",
              "      <td>4.0</td>\n",
              "    </tr>\n",
              "    <tr>\n",
              "      <th>3</th>\n",
              "      <td>BRIOAMAZEV1.2</td>\n",
              "      <td>Honda</td>\n",
              "      <td>2018.0</td>\n",
              "      <td>81377.0</td>\n",
              "      <td>356000.0</td>\n",
              "      <td>4.0</td>\n",
              "    </tr>\n",
              "    <tr>\n",
              "      <th>4</th>\n",
              "      <td>YARISG1.2</td>\n",
              "      <td>Toyota</td>\n",
              "      <td>2017.0</td>\n",
              "      <td>95328.0</td>\n",
              "      <td>416000.0</td>\n",
              "      <td>5.0</td>\n",
              "    </tr>\n",
              "    <tr>\n",
              "      <th>...</th>\n",
              "      <td>...</td>\n",
              "      <td>...</td>\n",
              "      <td>...</td>\n",
              "      <td>...</td>\n",
              "      <td>...</td>\n",
              "      <td>...</td>\n",
              "    </tr>\n",
              "    <tr>\n",
              "      <th>534</th>\n",
              "      <td>VIOSE1.5</td>\n",
              "      <td>Toyota</td>\n",
              "      <td>2017.0</td>\n",
              "      <td>44736.0</td>\n",
              "      <td>414000.0</td>\n",
              "      <td>5.0</td>\n",
              "    </tr>\n",
              "    <tr>\n",
              "      <th>535</th>\n",
              "      <td>YARISATIVE1.2</td>\n",
              "      <td>Toyota</td>\n",
              "      <td>2017.0</td>\n",
              "      <td>45236.0</td>\n",
              "      <td>414000.0</td>\n",
              "      <td>5.0</td>\n",
              "    </tr>\n",
              "    <tr>\n",
              "      <th>536</th>\n",
              "      <td>FORTUNERV2.4</td>\n",
              "      <td>Toyota</td>\n",
              "      <td>2017.0</td>\n",
              "      <td>159429.0</td>\n",
              "      <td>964000.0</td>\n",
              "      <td>5.0</td>\n",
              "    </tr>\n",
              "    <tr>\n",
              "      <th>537</th>\n",
              "      <td>JAZZSV1.5</td>\n",
              "      <td>Honda</td>\n",
              "      <td>2014.0</td>\n",
              "      <td>159872.0</td>\n",
              "      <td>464000.0</td>\n",
              "      <td>8.0</td>\n",
              "    </tr>\n",
              "    <tr>\n",
              "      <th>538</th>\n",
              "      <td>SWIFTGLX1.2</td>\n",
              "      <td>Suzuki</td>\n",
              "      <td>2013.0</td>\n",
              "      <td>54701.0</td>\n",
              "      <td>294000.0</td>\n",
              "      <td>9.0</td>\n",
              "    </tr>\n",
              "  </tbody>\n",
              "</table>\n",
              "<p>539 rows × 6 columns</p>\n",
              "</div>\n",
              "      <button class=\"colab-df-convert\" onclick=\"convertToInteractive('df-f60d804e-c40f-43e0-a55d-68d1469e13a4')\"\n",
              "              title=\"Convert this dataframe to an interactive table.\"\n",
              "              style=\"display:none;\">\n",
              "        \n",
              "  <svg xmlns=\"http://www.w3.org/2000/svg\" height=\"24px\"viewBox=\"0 0 24 24\"\n",
              "       width=\"24px\">\n",
              "    <path d=\"M0 0h24v24H0V0z\" fill=\"none\"/>\n",
              "    <path d=\"M18.56 5.44l.94 2.06.94-2.06 2.06-.94-2.06-.94-.94-2.06-.94 2.06-2.06.94zm-11 1L8.5 8.5l.94-2.06 2.06-.94-2.06-.94L8.5 2.5l-.94 2.06-2.06.94zm10 10l.94 2.06.94-2.06 2.06-.94-2.06-.94-.94-2.06-.94 2.06-2.06.94z\"/><path d=\"M17.41 7.96l-1.37-1.37c-.4-.4-.92-.59-1.43-.59-.52 0-1.04.2-1.43.59L10.3 9.45l-7.72 7.72c-.78.78-.78 2.05 0 2.83L4 21.41c.39.39.9.59 1.41.59.51 0 1.02-.2 1.41-.59l7.78-7.78 2.81-2.81c.8-.78.8-2.07 0-2.86zM5.41 20L4 18.59l7.72-7.72 1.47 1.35L5.41 20z\"/>\n",
              "  </svg>\n",
              "      </button>\n",
              "      \n",
              "  <style>\n",
              "    .colab-df-container {\n",
              "      display:flex;\n",
              "      flex-wrap:wrap;\n",
              "      gap: 12px;\n",
              "    }\n",
              "\n",
              "    .colab-df-convert {\n",
              "      background-color: #E8F0FE;\n",
              "      border: none;\n",
              "      border-radius: 50%;\n",
              "      cursor: pointer;\n",
              "      display: none;\n",
              "      fill: #1967D2;\n",
              "      height: 32px;\n",
              "      padding: 0 0 0 0;\n",
              "      width: 32px;\n",
              "    }\n",
              "\n",
              "    .colab-df-convert:hover {\n",
              "      background-color: #E2EBFA;\n",
              "      box-shadow: 0px 1px 2px rgba(60, 64, 67, 0.3), 0px 1px 3px 1px rgba(60, 64, 67, 0.15);\n",
              "      fill: #174EA6;\n",
              "    }\n",
              "\n",
              "    [theme=dark] .colab-df-convert {\n",
              "      background-color: #3B4455;\n",
              "      fill: #D2E3FC;\n",
              "    }\n",
              "\n",
              "    [theme=dark] .colab-df-convert:hover {\n",
              "      background-color: #434B5C;\n",
              "      box-shadow: 0px 1px 3px 1px rgba(0, 0, 0, 0.15);\n",
              "      filter: drop-shadow(0px 1px 2px rgba(0, 0, 0, 0.3));\n",
              "      fill: #FFFFFF;\n",
              "    }\n",
              "  </style>\n",
              "\n",
              "      <script>\n",
              "        const buttonEl =\n",
              "          document.querySelector('#df-f60d804e-c40f-43e0-a55d-68d1469e13a4 button.colab-df-convert');\n",
              "        buttonEl.style.display =\n",
              "          google.colab.kernel.accessAllowed ? 'block' : 'none';\n",
              "\n",
              "        async function convertToInteractive(key) {\n",
              "          const element = document.querySelector('#df-f60d804e-c40f-43e0-a55d-68d1469e13a4');\n",
              "          const dataTable =\n",
              "            await google.colab.kernel.invokeFunction('convertToInteractive',\n",
              "                                                     [key], {});\n",
              "          if (!dataTable) return;\n",
              "\n",
              "          const docLinkHtml = 'Like what you see? Visit the ' +\n",
              "            '<a target=\"_blank\" href=https://colab.research.google.com/notebooks/data_table.ipynb>data table notebook</a>'\n",
              "            + ' to learn more about interactive tables.';\n",
              "          element.innerHTML = '';\n",
              "          dataTable['output_type'] = 'display_data';\n",
              "          await google.colab.output.renderOutput(dataTable, element);\n",
              "          const docLink = document.createElement('div');\n",
              "          docLink.innerHTML = docLinkHtml;\n",
              "          element.appendChild(docLink);\n",
              "        }\n",
              "      </script>\n",
              "    </div>\n",
              "  </div>\n",
              "  "
            ]
          },
          "metadata": {},
          "execution_count": 37
        }
      ]
    },
    {
      "cell_type": "code",
      "source": [
        "car_final=car_data.set_index('model')\n",
        "car_final"
      ],
      "metadata": {
        "colab": {
          "base_uri": "https://localhost:8080/",
          "height": 455
        },
        "id": "jMEvqdM8tsJm",
        "outputId": "9db9279d-2668-410c-df71-e59595e6bd12"
      },
      "execution_count": 38,
      "outputs": [
        {
          "output_type": "execute_result",
          "data": {
            "text/plain": [
              "                                 brand    year  km driven     price  car_age\n",
              "model                                                                       \n",
              "YARISSPORTPREMIUM1.2            Toyota  2020.0    25670.0  565000.0      2.0\n",
              "MIRAGEGLSLIMITEDEDITION1.2  Mitsubishi  2019.0    41578.0  356000.0      3.0\n",
              "MIRAGEGLX1.2                Mitsubishi  2018.0    64237.0  316000.0      4.0\n",
              "BRIOAMAZEV1.2                    Honda  2018.0    81377.0  356000.0      4.0\n",
              "YARISG1.2                       Toyota  2017.0    95328.0  416000.0      5.0\n",
              "...                                ...     ...        ...       ...      ...\n",
              "VIOSE1.5                        Toyota  2017.0    44736.0  414000.0      5.0\n",
              "YARISATIVE1.2                   Toyota  2017.0    45236.0  414000.0      5.0\n",
              "FORTUNERV2.4                    Toyota  2017.0   159429.0  964000.0      5.0\n",
              "JAZZSV1.5                        Honda  2014.0   159872.0  464000.0      8.0\n",
              "SWIFTGLX1.2                     Suzuki  2013.0    54701.0  294000.0      9.0\n",
              "\n",
              "[539 rows x 5 columns]"
            ],
            "text/html": [
              "\n",
              "  <div id=\"df-dfeb7108-aa45-439d-b7ee-303b972e0d07\">\n",
              "    <div class=\"colab-df-container\">\n",
              "      <div>\n",
              "<style scoped>\n",
              "    .dataframe tbody tr th:only-of-type {\n",
              "        vertical-align: middle;\n",
              "    }\n",
              "\n",
              "    .dataframe tbody tr th {\n",
              "        vertical-align: top;\n",
              "    }\n",
              "\n",
              "    .dataframe thead th {\n",
              "        text-align: right;\n",
              "    }\n",
              "</style>\n",
              "<table border=\"1\" class=\"dataframe\">\n",
              "  <thead>\n",
              "    <tr style=\"text-align: right;\">\n",
              "      <th></th>\n",
              "      <th>brand</th>\n",
              "      <th>year</th>\n",
              "      <th>km driven</th>\n",
              "      <th>price</th>\n",
              "      <th>car_age</th>\n",
              "    </tr>\n",
              "    <tr>\n",
              "      <th>model</th>\n",
              "      <th></th>\n",
              "      <th></th>\n",
              "      <th></th>\n",
              "      <th></th>\n",
              "      <th></th>\n",
              "    </tr>\n",
              "  </thead>\n",
              "  <tbody>\n",
              "    <tr>\n",
              "      <th>YARISSPORTPREMIUM1.2</th>\n",
              "      <td>Toyota</td>\n",
              "      <td>2020.0</td>\n",
              "      <td>25670.0</td>\n",
              "      <td>565000.0</td>\n",
              "      <td>2.0</td>\n",
              "    </tr>\n",
              "    <tr>\n",
              "      <th>MIRAGEGLSLIMITEDEDITION1.2</th>\n",
              "      <td>Mitsubishi</td>\n",
              "      <td>2019.0</td>\n",
              "      <td>41578.0</td>\n",
              "      <td>356000.0</td>\n",
              "      <td>3.0</td>\n",
              "    </tr>\n",
              "    <tr>\n",
              "      <th>MIRAGEGLX1.2</th>\n",
              "      <td>Mitsubishi</td>\n",
              "      <td>2018.0</td>\n",
              "      <td>64237.0</td>\n",
              "      <td>316000.0</td>\n",
              "      <td>4.0</td>\n",
              "    </tr>\n",
              "    <tr>\n",
              "      <th>BRIOAMAZEV1.2</th>\n",
              "      <td>Honda</td>\n",
              "      <td>2018.0</td>\n",
              "      <td>81377.0</td>\n",
              "      <td>356000.0</td>\n",
              "      <td>4.0</td>\n",
              "    </tr>\n",
              "    <tr>\n",
              "      <th>YARISG1.2</th>\n",
              "      <td>Toyota</td>\n",
              "      <td>2017.0</td>\n",
              "      <td>95328.0</td>\n",
              "      <td>416000.0</td>\n",
              "      <td>5.0</td>\n",
              "    </tr>\n",
              "    <tr>\n",
              "      <th>...</th>\n",
              "      <td>...</td>\n",
              "      <td>...</td>\n",
              "      <td>...</td>\n",
              "      <td>...</td>\n",
              "      <td>...</td>\n",
              "    </tr>\n",
              "    <tr>\n",
              "      <th>VIOSE1.5</th>\n",
              "      <td>Toyota</td>\n",
              "      <td>2017.0</td>\n",
              "      <td>44736.0</td>\n",
              "      <td>414000.0</td>\n",
              "      <td>5.0</td>\n",
              "    </tr>\n",
              "    <tr>\n",
              "      <th>YARISATIVE1.2</th>\n",
              "      <td>Toyota</td>\n",
              "      <td>2017.0</td>\n",
              "      <td>45236.0</td>\n",
              "      <td>414000.0</td>\n",
              "      <td>5.0</td>\n",
              "    </tr>\n",
              "    <tr>\n",
              "      <th>FORTUNERV2.4</th>\n",
              "      <td>Toyota</td>\n",
              "      <td>2017.0</td>\n",
              "      <td>159429.0</td>\n",
              "      <td>964000.0</td>\n",
              "      <td>5.0</td>\n",
              "    </tr>\n",
              "    <tr>\n",
              "      <th>JAZZSV1.5</th>\n",
              "      <td>Honda</td>\n",
              "      <td>2014.0</td>\n",
              "      <td>159872.0</td>\n",
              "      <td>464000.0</td>\n",
              "      <td>8.0</td>\n",
              "    </tr>\n",
              "    <tr>\n",
              "      <th>SWIFTGLX1.2</th>\n",
              "      <td>Suzuki</td>\n",
              "      <td>2013.0</td>\n",
              "      <td>54701.0</td>\n",
              "      <td>294000.0</td>\n",
              "      <td>9.0</td>\n",
              "    </tr>\n",
              "  </tbody>\n",
              "</table>\n",
              "<p>539 rows × 5 columns</p>\n",
              "</div>\n",
              "      <button class=\"colab-df-convert\" onclick=\"convertToInteractive('df-dfeb7108-aa45-439d-b7ee-303b972e0d07')\"\n",
              "              title=\"Convert this dataframe to an interactive table.\"\n",
              "              style=\"display:none;\">\n",
              "        \n",
              "  <svg xmlns=\"http://www.w3.org/2000/svg\" height=\"24px\"viewBox=\"0 0 24 24\"\n",
              "       width=\"24px\">\n",
              "    <path d=\"M0 0h24v24H0V0z\" fill=\"none\"/>\n",
              "    <path d=\"M18.56 5.44l.94 2.06.94-2.06 2.06-.94-2.06-.94-.94-2.06-.94 2.06-2.06.94zm-11 1L8.5 8.5l.94-2.06 2.06-.94-2.06-.94L8.5 2.5l-.94 2.06-2.06.94zm10 10l.94 2.06.94-2.06 2.06-.94-2.06-.94-.94-2.06-.94 2.06-2.06.94z\"/><path d=\"M17.41 7.96l-1.37-1.37c-.4-.4-.92-.59-1.43-.59-.52 0-1.04.2-1.43.59L10.3 9.45l-7.72 7.72c-.78.78-.78 2.05 0 2.83L4 21.41c.39.39.9.59 1.41.59.51 0 1.02-.2 1.41-.59l7.78-7.78 2.81-2.81c.8-.78.8-2.07 0-2.86zM5.41 20L4 18.59l7.72-7.72 1.47 1.35L5.41 20z\"/>\n",
              "  </svg>\n",
              "      </button>\n",
              "      \n",
              "  <style>\n",
              "    .colab-df-container {\n",
              "      display:flex;\n",
              "      flex-wrap:wrap;\n",
              "      gap: 12px;\n",
              "    }\n",
              "\n",
              "    .colab-df-convert {\n",
              "      background-color: #E8F0FE;\n",
              "      border: none;\n",
              "      border-radius: 50%;\n",
              "      cursor: pointer;\n",
              "      display: none;\n",
              "      fill: #1967D2;\n",
              "      height: 32px;\n",
              "      padding: 0 0 0 0;\n",
              "      width: 32px;\n",
              "    }\n",
              "\n",
              "    .colab-df-convert:hover {\n",
              "      background-color: #E2EBFA;\n",
              "      box-shadow: 0px 1px 2px rgba(60, 64, 67, 0.3), 0px 1px 3px 1px rgba(60, 64, 67, 0.15);\n",
              "      fill: #174EA6;\n",
              "    }\n",
              "\n",
              "    [theme=dark] .colab-df-convert {\n",
              "      background-color: #3B4455;\n",
              "      fill: #D2E3FC;\n",
              "    }\n",
              "\n",
              "    [theme=dark] .colab-df-convert:hover {\n",
              "      background-color: #434B5C;\n",
              "      box-shadow: 0px 1px 3px 1px rgba(0, 0, 0, 0.15);\n",
              "      filter: drop-shadow(0px 1px 2px rgba(0, 0, 0, 0.3));\n",
              "      fill: #FFFFFF;\n",
              "    }\n",
              "  </style>\n",
              "\n",
              "      <script>\n",
              "        const buttonEl =\n",
              "          document.querySelector('#df-dfeb7108-aa45-439d-b7ee-303b972e0d07 button.colab-df-convert');\n",
              "        buttonEl.style.display =\n",
              "          google.colab.kernel.accessAllowed ? 'block' : 'none';\n",
              "\n",
              "        async function convertToInteractive(key) {\n",
              "          const element = document.querySelector('#df-dfeb7108-aa45-439d-b7ee-303b972e0d07');\n",
              "          const dataTable =\n",
              "            await google.colab.kernel.invokeFunction('convertToInteractive',\n",
              "                                                     [key], {});\n",
              "          if (!dataTable) return;\n",
              "\n",
              "          const docLinkHtml = 'Like what you see? Visit the ' +\n",
              "            '<a target=\"_blank\" href=https://colab.research.google.com/notebooks/data_table.ipynb>data table notebook</a>'\n",
              "            + ' to learn more about interactive tables.';\n",
              "          element.innerHTML = '';\n",
              "          dataTable['output_type'] = 'display_data';\n",
              "          await google.colab.output.renderOutput(dataTable, element);\n",
              "          const docLink = document.createElement('div');\n",
              "          docLink.innerHTML = docLinkHtml;\n",
              "          element.appendChild(docLink);\n",
              "        }\n",
              "      </script>\n",
              "    </div>\n",
              "  </div>\n",
              "  "
            ]
          },
          "metadata": {},
          "execution_count": 38
        }
      ]
    },
    {
      "cell_type": "code",
      "source": [
        "car_model1=car_final.filter(regex='ATTRAGEGLX1.2',axis=0)"
      ],
      "metadata": {
        "id": "06UwzKyLujDP"
      },
      "execution_count": 39,
      "outputs": []
    },
    {
      "cell_type": "markdown",
      "source": [
        "car_model1= รถรุ่นATTRAGEGLX1.2ทั้งหมด"
      ],
      "metadata": {
        "id": "K9hgs9c1M7Bi"
      }
    },
    {
      "cell_type": "code",
      "source": [
        "car_model1"
      ],
      "metadata": {
        "colab": {
          "base_uri": "https://localhost:8080/",
          "height": 927
        },
        "id": "VWmglcfou3UO",
        "outputId": "d70cc2f6-296d-4623-f5cf-7561a6915766"
      },
      "execution_count": 40,
      "outputs": [
        {
          "output_type": "execute_result",
          "data": {
            "text/plain": [
              "                    brand    year  km driven     price  car_age\n",
              "model                                                          \n",
              "ATTRAGEGLX1.2  Mitsubishi  2019.0    13594.0  349000.0      3.0\n",
              "ATTRAGEGLX1.2  Mitsubishi  2019.0    23102.0  336000.0      3.0\n",
              "ATTRAGEGLX1.2  Mitsubishi  2019.0    33996.0  349000.0      3.0\n",
              "ATTRAGEGLX1.2  Mitsubishi  2019.0    35472.0  339000.0      3.0\n",
              "ATTRAGEGLX1.2  Mitsubishi  2019.0    25573.0  356000.0      3.0\n",
              "ATTRAGEGLX1.2  Mitsubishi  2019.0    14685.0  359000.0      3.0\n",
              "ATTRAGEGLX1.2  Mitsubishi  2018.0    33589.0  309000.0      4.0\n",
              "ATTRAGEGLX1.2  Mitsubishi  2019.0    28668.0  326000.0      3.0\n",
              "ATTRAGEGLX1.2  Mitsubishi  2019.0    42505.0  323000.0      3.0\n",
              "ATTRAGEGLX1.2  Mitsubishi  2020.0    20471.0  385000.0      2.0\n",
              "ATTRAGEGLX1.2  Mitsubishi  2019.0    27352.0  349000.0      3.0\n",
              "ATTRAGEGLX1.2  Mitsubishi  2020.0    12776.0  366900.0      2.0\n",
              "ATTRAGEGLX1.2  Mitsubishi  2020.0    28566.0  381900.0      2.0\n",
              "ATTRAGEGLX1.2  Mitsubishi  2019.0    20462.0  324900.0      3.0\n",
              "ATTRAGEGLX1.2  Mitsubishi  2020.0    18247.0  349000.0      2.0\n",
              "ATTRAGEGLX1.2  Mitsubishi  2019.0    34387.0  336000.0      3.0\n",
              "ATTRAGEGLX1.2  Mitsubishi  2021.0    11129.0  399000.0      1.0\n",
              "ATTRAGEGLX1.2  Mitsubishi  2020.0    10044.0  379000.0      2.0\n",
              "ATTRAGEGLX1.2  Mitsubishi  2018.0    71383.0  317900.0      4.0\n",
              "ATTRAGEGLX1.2  Mitsubishi  2019.0    38249.0  329900.0      3.0\n",
              "ATTRAGEGLX1.2  Mitsubishi  2019.0    25487.0  329000.0      3.0\n",
              "ATTRAGEGLX1.2  Mitsubishi  2020.0     6413.0  416000.0      2.0\n",
              "ATTRAGEGLX1.2  Mitsubishi  2021.0    15345.0  389000.0      1.0\n",
              "ATTRAGEGLX1.2  Mitsubishi  2018.0    40127.0  329000.0      4.0\n",
              "ATTRAGEGLX1.2  Mitsubishi  2018.0    50352.0  319000.0      4.0\n",
              "ATTRAGEGLX1.2  Mitsubishi  2015.0    82141.0  244000.0      7.0\n",
              "ATTRAGEGLX1.2  Mitsubishi  2016.0    69797.0  304000.0      6.0"
            ],
            "text/html": [
              "\n",
              "  <div id=\"df-a045baa6-cffd-4226-b37e-89ee1046e430\">\n",
              "    <div class=\"colab-df-container\">\n",
              "      <div>\n",
              "<style scoped>\n",
              "    .dataframe tbody tr th:only-of-type {\n",
              "        vertical-align: middle;\n",
              "    }\n",
              "\n",
              "    .dataframe tbody tr th {\n",
              "        vertical-align: top;\n",
              "    }\n",
              "\n",
              "    .dataframe thead th {\n",
              "        text-align: right;\n",
              "    }\n",
              "</style>\n",
              "<table border=\"1\" class=\"dataframe\">\n",
              "  <thead>\n",
              "    <tr style=\"text-align: right;\">\n",
              "      <th></th>\n",
              "      <th>brand</th>\n",
              "      <th>year</th>\n",
              "      <th>km driven</th>\n",
              "      <th>price</th>\n",
              "      <th>car_age</th>\n",
              "    </tr>\n",
              "    <tr>\n",
              "      <th>model</th>\n",
              "      <th></th>\n",
              "      <th></th>\n",
              "      <th></th>\n",
              "      <th></th>\n",
              "      <th></th>\n",
              "    </tr>\n",
              "  </thead>\n",
              "  <tbody>\n",
              "    <tr>\n",
              "      <th>ATTRAGEGLX1.2</th>\n",
              "      <td>Mitsubishi</td>\n",
              "      <td>2019.0</td>\n",
              "      <td>13594.0</td>\n",
              "      <td>349000.0</td>\n",
              "      <td>3.0</td>\n",
              "    </tr>\n",
              "    <tr>\n",
              "      <th>ATTRAGEGLX1.2</th>\n",
              "      <td>Mitsubishi</td>\n",
              "      <td>2019.0</td>\n",
              "      <td>23102.0</td>\n",
              "      <td>336000.0</td>\n",
              "      <td>3.0</td>\n",
              "    </tr>\n",
              "    <tr>\n",
              "      <th>ATTRAGEGLX1.2</th>\n",
              "      <td>Mitsubishi</td>\n",
              "      <td>2019.0</td>\n",
              "      <td>33996.0</td>\n",
              "      <td>349000.0</td>\n",
              "      <td>3.0</td>\n",
              "    </tr>\n",
              "    <tr>\n",
              "      <th>ATTRAGEGLX1.2</th>\n",
              "      <td>Mitsubishi</td>\n",
              "      <td>2019.0</td>\n",
              "      <td>35472.0</td>\n",
              "      <td>339000.0</td>\n",
              "      <td>3.0</td>\n",
              "    </tr>\n",
              "    <tr>\n",
              "      <th>ATTRAGEGLX1.2</th>\n",
              "      <td>Mitsubishi</td>\n",
              "      <td>2019.0</td>\n",
              "      <td>25573.0</td>\n",
              "      <td>356000.0</td>\n",
              "      <td>3.0</td>\n",
              "    </tr>\n",
              "    <tr>\n",
              "      <th>ATTRAGEGLX1.2</th>\n",
              "      <td>Mitsubishi</td>\n",
              "      <td>2019.0</td>\n",
              "      <td>14685.0</td>\n",
              "      <td>359000.0</td>\n",
              "      <td>3.0</td>\n",
              "    </tr>\n",
              "    <tr>\n",
              "      <th>ATTRAGEGLX1.2</th>\n",
              "      <td>Mitsubishi</td>\n",
              "      <td>2018.0</td>\n",
              "      <td>33589.0</td>\n",
              "      <td>309000.0</td>\n",
              "      <td>4.0</td>\n",
              "    </tr>\n",
              "    <tr>\n",
              "      <th>ATTRAGEGLX1.2</th>\n",
              "      <td>Mitsubishi</td>\n",
              "      <td>2019.0</td>\n",
              "      <td>28668.0</td>\n",
              "      <td>326000.0</td>\n",
              "      <td>3.0</td>\n",
              "    </tr>\n",
              "    <tr>\n",
              "      <th>ATTRAGEGLX1.2</th>\n",
              "      <td>Mitsubishi</td>\n",
              "      <td>2019.0</td>\n",
              "      <td>42505.0</td>\n",
              "      <td>323000.0</td>\n",
              "      <td>3.0</td>\n",
              "    </tr>\n",
              "    <tr>\n",
              "      <th>ATTRAGEGLX1.2</th>\n",
              "      <td>Mitsubishi</td>\n",
              "      <td>2020.0</td>\n",
              "      <td>20471.0</td>\n",
              "      <td>385000.0</td>\n",
              "      <td>2.0</td>\n",
              "    </tr>\n",
              "    <tr>\n",
              "      <th>ATTRAGEGLX1.2</th>\n",
              "      <td>Mitsubishi</td>\n",
              "      <td>2019.0</td>\n",
              "      <td>27352.0</td>\n",
              "      <td>349000.0</td>\n",
              "      <td>3.0</td>\n",
              "    </tr>\n",
              "    <tr>\n",
              "      <th>ATTRAGEGLX1.2</th>\n",
              "      <td>Mitsubishi</td>\n",
              "      <td>2020.0</td>\n",
              "      <td>12776.0</td>\n",
              "      <td>366900.0</td>\n",
              "      <td>2.0</td>\n",
              "    </tr>\n",
              "    <tr>\n",
              "      <th>ATTRAGEGLX1.2</th>\n",
              "      <td>Mitsubishi</td>\n",
              "      <td>2020.0</td>\n",
              "      <td>28566.0</td>\n",
              "      <td>381900.0</td>\n",
              "      <td>2.0</td>\n",
              "    </tr>\n",
              "    <tr>\n",
              "      <th>ATTRAGEGLX1.2</th>\n",
              "      <td>Mitsubishi</td>\n",
              "      <td>2019.0</td>\n",
              "      <td>20462.0</td>\n",
              "      <td>324900.0</td>\n",
              "      <td>3.0</td>\n",
              "    </tr>\n",
              "    <tr>\n",
              "      <th>ATTRAGEGLX1.2</th>\n",
              "      <td>Mitsubishi</td>\n",
              "      <td>2020.0</td>\n",
              "      <td>18247.0</td>\n",
              "      <td>349000.0</td>\n",
              "      <td>2.0</td>\n",
              "    </tr>\n",
              "    <tr>\n",
              "      <th>ATTRAGEGLX1.2</th>\n",
              "      <td>Mitsubishi</td>\n",
              "      <td>2019.0</td>\n",
              "      <td>34387.0</td>\n",
              "      <td>336000.0</td>\n",
              "      <td>3.0</td>\n",
              "    </tr>\n",
              "    <tr>\n",
              "      <th>ATTRAGEGLX1.2</th>\n",
              "      <td>Mitsubishi</td>\n",
              "      <td>2021.0</td>\n",
              "      <td>11129.0</td>\n",
              "      <td>399000.0</td>\n",
              "      <td>1.0</td>\n",
              "    </tr>\n",
              "    <tr>\n",
              "      <th>ATTRAGEGLX1.2</th>\n",
              "      <td>Mitsubishi</td>\n",
              "      <td>2020.0</td>\n",
              "      <td>10044.0</td>\n",
              "      <td>379000.0</td>\n",
              "      <td>2.0</td>\n",
              "    </tr>\n",
              "    <tr>\n",
              "      <th>ATTRAGEGLX1.2</th>\n",
              "      <td>Mitsubishi</td>\n",
              "      <td>2018.0</td>\n",
              "      <td>71383.0</td>\n",
              "      <td>317900.0</td>\n",
              "      <td>4.0</td>\n",
              "    </tr>\n",
              "    <tr>\n",
              "      <th>ATTRAGEGLX1.2</th>\n",
              "      <td>Mitsubishi</td>\n",
              "      <td>2019.0</td>\n",
              "      <td>38249.0</td>\n",
              "      <td>329900.0</td>\n",
              "      <td>3.0</td>\n",
              "    </tr>\n",
              "    <tr>\n",
              "      <th>ATTRAGEGLX1.2</th>\n",
              "      <td>Mitsubishi</td>\n",
              "      <td>2019.0</td>\n",
              "      <td>25487.0</td>\n",
              "      <td>329000.0</td>\n",
              "      <td>3.0</td>\n",
              "    </tr>\n",
              "    <tr>\n",
              "      <th>ATTRAGEGLX1.2</th>\n",
              "      <td>Mitsubishi</td>\n",
              "      <td>2020.0</td>\n",
              "      <td>6413.0</td>\n",
              "      <td>416000.0</td>\n",
              "      <td>2.0</td>\n",
              "    </tr>\n",
              "    <tr>\n",
              "      <th>ATTRAGEGLX1.2</th>\n",
              "      <td>Mitsubishi</td>\n",
              "      <td>2021.0</td>\n",
              "      <td>15345.0</td>\n",
              "      <td>389000.0</td>\n",
              "      <td>1.0</td>\n",
              "    </tr>\n",
              "    <tr>\n",
              "      <th>ATTRAGEGLX1.2</th>\n",
              "      <td>Mitsubishi</td>\n",
              "      <td>2018.0</td>\n",
              "      <td>40127.0</td>\n",
              "      <td>329000.0</td>\n",
              "      <td>4.0</td>\n",
              "    </tr>\n",
              "    <tr>\n",
              "      <th>ATTRAGEGLX1.2</th>\n",
              "      <td>Mitsubishi</td>\n",
              "      <td>2018.0</td>\n",
              "      <td>50352.0</td>\n",
              "      <td>319000.0</td>\n",
              "      <td>4.0</td>\n",
              "    </tr>\n",
              "    <tr>\n",
              "      <th>ATTRAGEGLX1.2</th>\n",
              "      <td>Mitsubishi</td>\n",
              "      <td>2015.0</td>\n",
              "      <td>82141.0</td>\n",
              "      <td>244000.0</td>\n",
              "      <td>7.0</td>\n",
              "    </tr>\n",
              "    <tr>\n",
              "      <th>ATTRAGEGLX1.2</th>\n",
              "      <td>Mitsubishi</td>\n",
              "      <td>2016.0</td>\n",
              "      <td>69797.0</td>\n",
              "      <td>304000.0</td>\n",
              "      <td>6.0</td>\n",
              "    </tr>\n",
              "  </tbody>\n",
              "</table>\n",
              "</div>\n",
              "      <button class=\"colab-df-convert\" onclick=\"convertToInteractive('df-a045baa6-cffd-4226-b37e-89ee1046e430')\"\n",
              "              title=\"Convert this dataframe to an interactive table.\"\n",
              "              style=\"display:none;\">\n",
              "        \n",
              "  <svg xmlns=\"http://www.w3.org/2000/svg\" height=\"24px\"viewBox=\"0 0 24 24\"\n",
              "       width=\"24px\">\n",
              "    <path d=\"M0 0h24v24H0V0z\" fill=\"none\"/>\n",
              "    <path d=\"M18.56 5.44l.94 2.06.94-2.06 2.06-.94-2.06-.94-.94-2.06-.94 2.06-2.06.94zm-11 1L8.5 8.5l.94-2.06 2.06-.94-2.06-.94L8.5 2.5l-.94 2.06-2.06.94zm10 10l.94 2.06.94-2.06 2.06-.94-2.06-.94-.94-2.06-.94 2.06-2.06.94z\"/><path d=\"M17.41 7.96l-1.37-1.37c-.4-.4-.92-.59-1.43-.59-.52 0-1.04.2-1.43.59L10.3 9.45l-7.72 7.72c-.78.78-.78 2.05 0 2.83L4 21.41c.39.39.9.59 1.41.59.51 0 1.02-.2 1.41-.59l7.78-7.78 2.81-2.81c.8-.78.8-2.07 0-2.86zM5.41 20L4 18.59l7.72-7.72 1.47 1.35L5.41 20z\"/>\n",
              "  </svg>\n",
              "      </button>\n",
              "      \n",
              "  <style>\n",
              "    .colab-df-container {\n",
              "      display:flex;\n",
              "      flex-wrap:wrap;\n",
              "      gap: 12px;\n",
              "    }\n",
              "\n",
              "    .colab-df-convert {\n",
              "      background-color: #E8F0FE;\n",
              "      border: none;\n",
              "      border-radius: 50%;\n",
              "      cursor: pointer;\n",
              "      display: none;\n",
              "      fill: #1967D2;\n",
              "      height: 32px;\n",
              "      padding: 0 0 0 0;\n",
              "      width: 32px;\n",
              "    }\n",
              "\n",
              "    .colab-df-convert:hover {\n",
              "      background-color: #E2EBFA;\n",
              "      box-shadow: 0px 1px 2px rgba(60, 64, 67, 0.3), 0px 1px 3px 1px rgba(60, 64, 67, 0.15);\n",
              "      fill: #174EA6;\n",
              "    }\n",
              "\n",
              "    [theme=dark] .colab-df-convert {\n",
              "      background-color: #3B4455;\n",
              "      fill: #D2E3FC;\n",
              "    }\n",
              "\n",
              "    [theme=dark] .colab-df-convert:hover {\n",
              "      background-color: #434B5C;\n",
              "      box-shadow: 0px 1px 3px 1px rgba(0, 0, 0, 0.15);\n",
              "      filter: drop-shadow(0px 1px 2px rgba(0, 0, 0, 0.3));\n",
              "      fill: #FFFFFF;\n",
              "    }\n",
              "  </style>\n",
              "\n",
              "      <script>\n",
              "        const buttonEl =\n",
              "          document.querySelector('#df-a045baa6-cffd-4226-b37e-89ee1046e430 button.colab-df-convert');\n",
              "        buttonEl.style.display =\n",
              "          google.colab.kernel.accessAllowed ? 'block' : 'none';\n",
              "\n",
              "        async function convertToInteractive(key) {\n",
              "          const element = document.querySelector('#df-a045baa6-cffd-4226-b37e-89ee1046e430');\n",
              "          const dataTable =\n",
              "            await google.colab.kernel.invokeFunction('convertToInteractive',\n",
              "                                                     [key], {});\n",
              "          if (!dataTable) return;\n",
              "\n",
              "          const docLinkHtml = 'Like what you see? Visit the ' +\n",
              "            '<a target=\"_blank\" href=https://colab.research.google.com/notebooks/data_table.ipynb>data table notebook</a>'\n",
              "            + ' to learn more about interactive tables.';\n",
              "          element.innerHTML = '';\n",
              "          dataTable['output_type'] = 'display_data';\n",
              "          await google.colab.output.renderOutput(dataTable, element);\n",
              "          const docLink = document.createElement('div');\n",
              "          docLink.innerHTML = docLinkHtml;\n",
              "          element.appendChild(docLink);\n",
              "        }\n",
              "      </script>\n",
              "    </div>\n",
              "  </div>\n",
              "  "
            ]
          },
          "metadata": {},
          "execution_count": 40
        }
      ]
    },
    {
      "cell_type": "code",
      "source": [
        "sns.heatmap(car_model1.corr(),annot=True,cmap='summer')"
      ],
      "metadata": {
        "colab": {
          "base_uri": "https://localhost:8080/",
          "height": 287
        },
        "id": "hbudbutGvFCf",
        "outputId": "35bb1837-cbe5-4487-c25b-40139a94c289"
      },
      "execution_count": 41,
      "outputs": [
        {
          "output_type": "execute_result",
          "data": {
            "text/plain": [
              "<matplotlib.axes._subplots.AxesSubplot at 0x7f89d577d810>"
            ]
          },
          "metadata": {},
          "execution_count": 41
        },
        {
          "output_type": "display_data",
          "data": {
            "text/plain": [
              "<Figure size 432x288 with 2 Axes>"
            ],
            "image/png": "[encoded data removed]"
          },
          "metadata": {
            "needs_background": "light"
          }
        }
      ]
    },
    {
      "cell_type": "code",
      "source": [
        "sns.regplot('km driven','price',data=car_model1)"
      ],
      "metadata": {
        "colab": {
          "base_uri": "https://localhost:8080/",
          "height": 353
        },
        "id": "hG9wab5DxXeN",
        "outputId": "2d9e1a49-1050-46d8-8a06-3507eec5da73"
      },
      "execution_count": 42,
      "outputs": [
        {
          "output_type": "stream",
          "name": "stderr",
          "text": [
            "/usr/local/lib/python3.7/dist-packages/seaborn/_decorators.py:43: FutureWarning: Pass the following variables as keyword args: x, y. From version 0.12, the only valid positional argument will be `data`, and passing other arguments without an explicit keyword will result in an error or misinterpretation.\n",
            "  FutureWarning\n"
          ]
        },
        {
          "output_type": "execute_result",
          "data": {
            "text/plain": [
              "<matplotlib.axes._subplots.AxesSubplot at 0x7f89d5779e50>"
            ]
          },
          "metadata": {},
          "execution_count": 42
        },
        {
          "output_type": "display_data",
          "data": {
            "text/plain": [
              "<Figure size 432x288 with 1 Axes>"
            ],
            "image/png": "[encoded data removed]"
          },
          "metadata": {
            "needs_background": "light"
          }
        }
      ]
    },
    {
      "cell_type": "markdown",
      "source": [
        "hign negative correlation 👆👇"
      ],
      "metadata": {
        "id": "pVV4auQnzYED"
      }
    },
    {
      "cell_type": "code",
      "source": [
        "sns.regplot('car_age','price',data=car_model1)"
      ],
      "metadata": {
        "colab": {
          "base_uri": "https://localhost:8080/",
          "height": 356
        },
        "id": "6Y7_F3k2xlof",
        "outputId": "6d7b9979-e6a6-48d4-bc2b-ca6f8be4dd43"
      },
      "execution_count": 43,
      "outputs": [
        {
          "output_type": "stream",
          "name": "stderr",
          "text": [
            "/usr/local/lib/python3.7/dist-packages/seaborn/_decorators.py:43: FutureWarning: Pass the following variables as keyword args: x, y. From version 0.12, the only valid positional argument will be `data`, and passing other arguments without an explicit keyword will result in an error or misinterpretation.\n",
            "  FutureWarning\n"
          ]
        },
        {
          "output_type": "execute_result",
          "data": {
            "text/plain": [
              "<matplotlib.axes._subplots.AxesSubplot at 0x7f89d56d6810>"
            ]
          },
          "metadata": {},
          "execution_count": 43
        },
        {
          "output_type": "display_data",
          "data": {
            "text/plain": [
              "<Figure size 432x288 with 1 Axes>"
            ],
            "image/png": "[encoded data removed]"
          },
          "metadata": {
            "needs_background": "light"
          }
        }
      ]
    },
    {
      "cell_type": "code",
      "source": [
        "#ดูความสัมพันธ์\n",
        "car_model1[['price','km driven', 'car_age']].corr()"
      ],
      "metadata": {
        "colab": {
          "base_uri": "https://localhost:8080/",
          "height": 143
        },
        "id": "_ofgIdjT2AnG",
        "outputId": "c929fd5d-e16b-4515-8527-cec434cbaceb"
      },
      "execution_count": 44,
      "outputs": [
        {
          "output_type": "execute_result",
          "data": {
            "text/plain": [
              "              price  km driven   car_age\n",
              "price      1.000000  -0.813310 -0.887964\n",
              "km driven -0.813310   1.000000  0.863089\n",
              "car_age   -0.887964   0.863089  1.000000"
            ],
            "text/html": [
              "\n",
              "  <div id=\"df-f04e2cbc-0f9d-4e4f-8032-b9956a0114af\">\n",
              "    <div class=\"colab-df-container\">\n",
              "      <div>\n",
              "<style scoped>\n",
              "    .dataframe tbody tr th:only-of-type {\n",
              "        vertical-align: middle;\n",
              "    }\n",
              "\n",
              "    .dataframe tbody tr th {\n",
              "        vertical-align: top;\n",
              "    }\n",
              "\n",
              "    .dataframe thead th {\n",
              "        text-align: right;\n",
              "    }\n",
              "</style>\n",
              "<table border=\"1\" class=\"dataframe\">\n",
              "  <thead>\n",
              "    <tr style=\"text-align: right;\">\n",
              "      <th></th>\n",
              "      <th>price</th>\n",
              "      <th>km driven</th>\n",
              "      <th>car_age</th>\n",
              "    </tr>\n",
              "  </thead>\n",
              "  <tbody>\n",
              "    <tr>\n",
              "      <th>price</th>\n",
              "      <td>1.000000</td>\n",
              "      <td>-0.813310</td>\n",
              "      <td>-0.887964</td>\n",
              "    </tr>\n",
              "    <tr>\n",
              "      <th>km driven</th>\n",
              "      <td>-0.813310</td>\n",
              "      <td>1.000000</td>\n",
              "      <td>0.863089</td>\n",
              "    </tr>\n",
              "    <tr>\n",
              "      <th>car_age</th>\n",
              "      <td>-0.887964</td>\n",
              "      <td>0.863089</td>\n",
              "      <td>1.000000</td>\n",
              "    </tr>\n",
              "  </tbody>\n",
              "</table>\n",
              "</div>\n",
              "      <button class=\"colab-df-convert\" onclick=\"convertToInteractive('df-f04e2cbc-0f9d-4e4f-8032-b9956a0114af')\"\n",
              "              title=\"Convert this dataframe to an interactive table.\"\n",
              "              style=\"display:none;\">\n",
              "        \n",
              "  <svg xmlns=\"http://www.w3.org/2000/svg\" height=\"24px\"viewBox=\"0 0 24 24\"\n",
              "       width=\"24px\">\n",
              "    <path d=\"M0 0h24v24H0V0z\" fill=\"none\"/>\n",
              "    <path d=\"M18.56 5.44l.94 2.06.94-2.06 2.06-.94-2.06-.94-.94-2.06-.94 2.06-2.06.94zm-11 1L8.5 8.5l.94-2.06 2.06-.94-2.06-.94L8.5 2.5l-.94 2.06-2.06.94zm10 10l.94 2.06.94-2.06 2.06-.94-2.06-.94-.94-2.06-.94 2.06-2.06.94z\"/><path d=\"M17.41 7.96l-1.37-1.37c-.4-.4-.92-.59-1.43-.59-.52 0-1.04.2-1.43.59L10.3 9.45l-7.72 7.72c-.78.78-.78 2.05 0 2.83L4 21.41c.39.39.9.59 1.41.59.51 0 1.02-.2 1.41-.59l7.78-7.78 2.81-2.81c.8-.78.8-2.07 0-2.86zM5.41 20L4 18.59l7.72-7.72 1.47 1.35L5.41 20z\"/>\n",
              "  </svg>\n",
              "      </button>\n",
              "      \n",
              "  <style>\n",
              "    .colab-df-container {\n",
              "      display:flex;\n",
              "      flex-wrap:wrap;\n",
              "      gap: 12px;\n",
              "    }\n",
              "\n",
              "    .colab-df-convert {\n",
              "      background-color: #E8F0FE;\n",
              "      border: none;\n",
              "      border-radius: 50%;\n",
              "      cursor: pointer;\n",
              "      display: none;\n",
              "      fill: #1967D2;\n",
              "      height: 32px;\n",
              "      padding: 0 0 0 0;\n",
              "      width: 32px;\n",
              "    }\n",
              "\n",
              "    .colab-df-convert:hover {\n",
              "      background-color: #E2EBFA;\n",
              "      box-shadow: 0px 1px 2px rgba(60, 64, 67, 0.3), 0px 1px 3px 1px rgba(60, 64, 67, 0.15);\n",
              "      fill: #174EA6;\n",
              "    }\n",
              "\n",
              "    [theme=dark] .colab-df-convert {\n",
              "      background-color: #3B4455;\n",
              "      fill: #D2E3FC;\n",
              "    }\n",
              "\n",
              "    [theme=dark] .colab-df-convert:hover {\n",
              "      background-color: #434B5C;\n",
              "      box-shadow: 0px 1px 3px 1px rgba(0, 0, 0, 0.15);\n",
              "      filter: drop-shadow(0px 1px 2px rgba(0, 0, 0, 0.3));\n",
              "      fill: #FFFFFF;\n",
              "    }\n",
              "  </style>\n",
              "\n",
              "      <script>\n",
              "        const buttonEl =\n",
              "          document.querySelector('#df-f04e2cbc-0f9d-4e4f-8032-b9956a0114af button.colab-df-convert');\n",
              "        buttonEl.style.display =\n",
              "          google.colab.kernel.accessAllowed ? 'block' : 'none';\n",
              "\n",
              "        async function convertToInteractive(key) {\n",
              "          const element = document.querySelector('#df-f04e2cbc-0f9d-4e4f-8032-b9956a0114af');\n",
              "          const dataTable =\n",
              "            await google.colab.kernel.invokeFunction('convertToInteractive',\n",
              "                                                     [key], {});\n",
              "          if (!dataTable) return;\n",
              "\n",
              "          const docLinkHtml = 'Like what you see? Visit the ' +\n",
              "            '<a target=\"_blank\" href=https://colab.research.google.com/notebooks/data_table.ipynb>data table notebook</a>'\n",
              "            + ' to learn more about interactive tables.';\n",
              "          element.innerHTML = '';\n",
              "          dataTable['output_type'] = 'display_data';\n",
              "          await google.colab.output.renderOutput(dataTable, element);\n",
              "          const docLink = document.createElement('div');\n",
              "          docLink.innerHTML = docLinkHtml;\n",
              "          element.appendChild(docLink);\n",
              "        }\n",
              "      </script>\n",
              "    </div>\n",
              "  </div>\n",
              "  "
            ]
          },
          "metadata": {},
          "execution_count": 44
        }
      ]
    },
    {
      "cell_type": "markdown",
      "source": [
        "clean & drop columns"
      ],
      "metadata": {
        "id": "Ar1i3dFTvhTn"
      }
    },
    {
      "cell_type": "code",
      "source": [
        "#drop columns ที่ไม่จำเป็นต่อ model\n",
        "car_df_ATTRAGEGLX=car_model1\n",
        "car_df_ATTRAGEGLX=car_df_ATTRAGEGLX.drop(columns='brand')\n",
        "car_df_ATTRAGEGLX=car_df_ATTRAGEGLX.drop(columns='year')\n",
        "car_df_ATTRAGEGLX"
      ],
      "metadata": {
        "colab": {
          "base_uri": "https://localhost:8080/",
          "height": 927
        },
        "id": "2blK5QvlvaKk",
        "outputId": "429bb394-f82a-4467-f21a-b0400206a812"
      },
      "execution_count": 45,
      "outputs": [
        {
          "output_type": "execute_result",
          "data": {
            "text/plain": [
              "               km driven     price  car_age\n",
              "model                                      \n",
              "ATTRAGEGLX1.2    13594.0  349000.0      3.0\n",
              "ATTRAGEGLX1.2    23102.0  336000.0      3.0\n",
              "ATTRAGEGLX1.2    33996.0  349000.0      3.0\n",
              "ATTRAGEGLX1.2    35472.0  339000.0      3.0\n",
              "ATTRAGEGLX1.2    25573.0  356000.0      3.0\n",
              "ATTRAGEGLX1.2    14685.0  359000.0      3.0\n",
              "ATTRAGEGLX1.2    33589.0  309000.0      4.0\n",
              "ATTRAGEGLX1.2    28668.0  326000.0      3.0\n",
              "ATTRAGEGLX1.2    42505.0  323000.0      3.0\n",
              "ATTRAGEGLX1.2    20471.0  385000.0      2.0\n",
              "ATTRAGEGLX1.2    27352.0  349000.0      3.0\n",
              "ATTRAGEGLX1.2    12776.0  366900.0      2.0\n",
              "ATTRAGEGLX1.2    28566.0  381900.0      2.0\n",
              "ATTRAGEGLX1.2    20462.0  324900.0      3.0\n",
              "ATTRAGEGLX1.2    18247.0  349000.0      2.0\n",
              "ATTRAGEGLX1.2    34387.0  336000.0      3.0\n",
              "ATTRAGEGLX1.2    11129.0  399000.0      1.0\n",
              "ATTRAGEGLX1.2    10044.0  379000.0      2.0\n",
              "ATTRAGEGLX1.2    71383.0  317900.0      4.0\n",
              "ATTRAGEGLX1.2    38249.0  329900.0      3.0\n",
              "ATTRAGEGLX1.2    25487.0  329000.0      3.0\n",
              "ATTRAGEGLX1.2     6413.0  416000.0      2.0\n",
              "ATTRAGEGLX1.2    15345.0  389000.0      1.0\n",
              "ATTRAGEGLX1.2    40127.0  329000.0      4.0\n",
              "ATTRAGEGLX1.2    50352.0  319000.0      4.0\n",
              "ATTRAGEGLX1.2    82141.0  244000.0      7.0\n",
              "ATTRAGEGLX1.2    69797.0  304000.0      6.0"
            ],
            "text/html": [
              "\n",
              "  <div id=\"df-f95b8efd-692b-4a2c-bc6a-1f70b345d88b\">\n",
              "    <div class=\"colab-df-container\">\n",
              "      <div>\n",
              "<style scoped>\n",
              "    .dataframe tbody tr th:only-of-type {\n",
              "        vertical-align: middle;\n",
              "    }\n",
              "\n",
              "    .dataframe tbody tr th {\n",
              "        vertical-align: top;\n",
              "    }\n",
              "\n",
              "    .dataframe thead th {\n",
              "        text-align: right;\n",
              "    }\n",
              "</style>\n",
              "<table border=\"1\" class=\"dataframe\">\n",
              "  <thead>\n",
              "    <tr style=\"text-align: right;\">\n",
              "      <th></th>\n",
              "      <th>km driven</th>\n",
              "      <th>price</th>\n",
              "      <th>car_age</th>\n",
              "    </tr>\n",
              "    <tr>\n",
              "      <th>model</th>\n",
              "      <th></th>\n",
              "      <th></th>\n",
              "      <th></th>\n",
              "    </tr>\n",
              "  </thead>\n",
              "  <tbody>\n",
              "    <tr>\n",
              "      <th>ATTRAGEGLX1.2</th>\n",
              "      <td>13594.0</td>\n",
              "      <td>349000.0</td>\n",
              "      <td>3.0</td>\n",
              "    </tr>\n",
              "    <tr>\n",
              "      <th>ATTRAGEGLX1.2</th>\n",
              "      <td>23102.0</td>\n",
              "      <td>336000.0</td>\n",
              "      <td>3.0</td>\n",
              "    </tr>\n",
              "    <tr>\n",
              "      <th>ATTRAGEGLX1.2</th>\n",
              "      <td>33996.0</td>\n",
              "      <td>349000.0</td>\n",
              "      <td>3.0</td>\n",
              "    </tr>\n",
              "    <tr>\n",
              "      <th>ATTRAGEGLX1.2</th>\n",
              "      <td>35472.0</td>\n",
              "      <td>339000.0</td>\n",
              "      <td>3.0</td>\n",
              "    </tr>\n",
              "    <tr>\n",
              "      <th>ATTRAGEGLX1.2</th>\n",
              "      <td>25573.0</td>\n",
              "      <td>356000.0</td>\n",
              "      <td>3.0</td>\n",
              "    </tr>\n",
              "    <tr>\n",
              "      <th>ATTRAGEGLX1.2</th>\n",
              "      <td>14685.0</td>\n",
              "      <td>359000.0</td>\n",
              "      <td>3.0</td>\n",
              "    </tr>\n",
              "    <tr>\n",
              "      <th>ATTRAGEGLX1.2</th>\n",
              "      <td>33589.0</td>\n",
              "      <td>309000.0</td>\n",
              "      <td>4.0</td>\n",
              "    </tr>\n",
              "    <tr>\n",
              "      <th>ATTRAGEGLX1.2</th>\n",
              "      <td>28668.0</td>\n",
              "      <td>326000.0</td>\n",
              "      <td>3.0</td>\n",
              "    </tr>\n",
              "    <tr>\n",
              "      <th>ATTRAGEGLX1.2</th>\n",
              "      <td>42505.0</td>\n",
              "      <td>323000.0</td>\n",
              "      <td>3.0</td>\n",
              "    </tr>\n",
              "    <tr>\n",
              "      <th>ATTRAGEGLX1.2</th>\n",
              "      <td>20471.0</td>\n",
              "      <td>385000.0</td>\n",
              "      <td>2.0</td>\n",
              "    </tr>\n",
              "    <tr>\n",
              "      <th>ATTRAGEGLX1.2</th>\n",
              "      <td>27352.0</td>\n",
              "      <td>349000.0</td>\n",
              "      <td>3.0</td>\n",
              "    </tr>\n",
              "    <tr>\n",
              "      <th>ATTRAGEGLX1.2</th>\n",
              "      <td>12776.0</td>\n",
              "      <td>366900.0</td>\n",
              "      <td>2.0</td>\n",
              "    </tr>\n",
              "    <tr>\n",
              "      <th>ATTRAGEGLX1.2</th>\n",
              "      <td>28566.0</td>\n",
              "      <td>381900.0</td>\n",
              "      <td>2.0</td>\n",
              "    </tr>\n",
              "    <tr>\n",
              "      <th>ATTRAGEGLX1.2</th>\n",
              "      <td>20462.0</td>\n",
              "      <td>324900.0</td>\n",
              "      <td>3.0</td>\n",
              "    </tr>\n",
              "    <tr>\n",
              "      <th>ATTRAGEGLX1.2</th>\n",
              "      <td>18247.0</td>\n",
              "      <td>349000.0</td>\n",
              "      <td>2.0</td>\n",
              "    </tr>\n",
              "    <tr>\n",
              "      <th>ATTRAGEGLX1.2</th>\n",
              "      <td>34387.0</td>\n",
              "      <td>336000.0</td>\n",
              "      <td>3.0</td>\n",
              "    </tr>\n",
              "    <tr>\n",
              "      <th>ATTRAGEGLX1.2</th>\n",
              "      <td>11129.0</td>\n",
              "      <td>399000.0</td>\n",
              "      <td>1.0</td>\n",
              "    </tr>\n",
              "    <tr>\n",
              "      <th>ATTRAGEGLX1.2</th>\n",
              "      <td>10044.0</td>\n",
              "      <td>379000.0</td>\n",
              "      <td>2.0</td>\n",
              "    </tr>\n",
              "    <tr>\n",
              "      <th>ATTRAGEGLX1.2</th>\n",
              "      <td>71383.0</td>\n",
              "      <td>317900.0</td>\n",
              "      <td>4.0</td>\n",
              "    </tr>\n",
              "    <tr>\n",
              "      <th>ATTRAGEGLX1.2</th>\n",
              "      <td>38249.0</td>\n",
              "      <td>329900.0</td>\n",
              "      <td>3.0</td>\n",
              "    </tr>\n",
              "    <tr>\n",
              "      <th>ATTRAGEGLX1.2</th>\n",
              "      <td>25487.0</td>\n",
              "      <td>329000.0</td>\n",
              "      <td>3.0</td>\n",
              "    </tr>\n",
              "    <tr>\n",
              "      <th>ATTRAGEGLX1.2</th>\n",
              "      <td>6413.0</td>\n",
              "      <td>416000.0</td>\n",
              "      <td>2.0</td>\n",
              "    </tr>\n",
              "    <tr>\n",
              "      <th>ATTRAGEGLX1.2</th>\n",
              "      <td>15345.0</td>\n",
              "      <td>389000.0</td>\n",
              "      <td>1.0</td>\n",
              "    </tr>\n",
              "    <tr>\n",
              "      <th>ATTRAGEGLX1.2</th>\n",
              "      <td>40127.0</td>\n",
              "      <td>329000.0</td>\n",
              "      <td>4.0</td>\n",
              "    </tr>\n",
              "    <tr>\n",
              "      <th>ATTRAGEGLX1.2</th>\n",
              "      <td>50352.0</td>\n",
              "      <td>319000.0</td>\n",
              "      <td>4.0</td>\n",
              "    </tr>\n",
              "    <tr>\n",
              "      <th>ATTRAGEGLX1.2</th>\n",
              "      <td>82141.0</td>\n",
              "      <td>244000.0</td>\n",
              "      <td>7.0</td>\n",
              "    </tr>\n",
              "    <tr>\n",
              "      <th>ATTRAGEGLX1.2</th>\n",
              "      <td>69797.0</td>\n",
              "      <td>304000.0</td>\n",
              "      <td>6.0</td>\n",
              "    </tr>\n",
              "  </tbody>\n",
              "</table>\n",
              "</div>\n",
              "      <button class=\"colab-df-convert\" onclick=\"convertToInteractive('df-f95b8efd-692b-4a2c-bc6a-1f70b345d88b')\"\n",
              "              title=\"Convert this dataframe to an interactive table.\"\n",
              "              style=\"display:none;\">\n",
              "        \n",
              "  <svg xmlns=\"http://www.w3.org/2000/svg\" height=\"24px\"viewBox=\"0 0 24 24\"\n",
              "       width=\"24px\">\n",
              "    <path d=\"M0 0h24v24H0V0z\" fill=\"none\"/>\n",
              "    <path d=\"M18.56 5.44l.94 2.06.94-2.06 2.06-.94-2.06-.94-.94-2.06-.94 2.06-2.06.94zm-11 1L8.5 8.5l.94-2.06 2.06-.94-2.06-.94L8.5 2.5l-.94 2.06-2.06.94zm10 10l.94 2.06.94-2.06 2.06-.94-2.06-.94-.94-2.06-.94 2.06-2.06.94z\"/><path d=\"M17.41 7.96l-1.37-1.37c-.4-.4-.92-.59-1.43-.59-.52 0-1.04.2-1.43.59L10.3 9.45l-7.72 7.72c-.78.78-.78 2.05 0 2.83L4 21.41c.39.39.9.59 1.41.59.51 0 1.02-.2 1.41-.59l7.78-7.78 2.81-2.81c.8-.78.8-2.07 0-2.86zM5.41 20L4 18.59l7.72-7.72 1.47 1.35L5.41 20z\"/>\n",
              "  </svg>\n",
              "      </button>\n",
              "      \n",
              "  <style>\n",
              "    .colab-df-container {\n",
              "      display:flex;\n",
              "      flex-wrap:wrap;\n",
              "      gap: 12px;\n",
              "    }\n",
              "\n",
              "    .colab-df-convert {\n",
              "      background-color: #E8F0FE;\n",
              "      border: none;\n",
              "      border-radius: 50%;\n",
              "      cursor: pointer;\n",
              "      display: none;\n",
              "      fill: #1967D2;\n",
              "      height: 32px;\n",
              "      padding: 0 0 0 0;\n",
              "      width: 32px;\n",
              "    }\n",
              "\n",
              "    .colab-df-convert:hover {\n",
              "      background-color: #E2EBFA;\n",
              "      box-shadow: 0px 1px 2px rgba(60, 64, 67, 0.3), 0px 1px 3px 1px rgba(60, 64, 67, 0.15);\n",
              "      fill: #174EA6;\n",
              "    }\n",
              "\n",
              "    [theme=dark] .colab-df-convert {\n",
              "      background-color: #3B4455;\n",
              "      fill: #D2E3FC;\n",
              "    }\n",
              "\n",
              "    [theme=dark] .colab-df-convert:hover {\n",
              "      background-color: #434B5C;\n",
              "      box-shadow: 0px 1px 3px 1px rgba(0, 0, 0, 0.15);\n",
              "      filter: drop-shadow(0px 1px 2px rgba(0, 0, 0, 0.3));\n",
              "      fill: #FFFFFF;\n",
              "    }\n",
              "  </style>\n",
              "\n",
              "      <script>\n",
              "        const buttonEl =\n",
              "          document.querySelector('#df-f95b8efd-692b-4a2c-bc6a-1f70b345d88b button.colab-df-convert');\n",
              "        buttonEl.style.display =\n",
              "          google.colab.kernel.accessAllowed ? 'block' : 'none';\n",
              "\n",
              "        async function convertToInteractive(key) {\n",
              "          const element = document.querySelector('#df-f95b8efd-692b-4a2c-bc6a-1f70b345d88b');\n",
              "          const dataTable =\n",
              "            await google.colab.kernel.invokeFunction('convertToInteractive',\n",
              "                                                     [key], {});\n",
              "          if (!dataTable) return;\n",
              "\n",
              "          const docLinkHtml = 'Like what you see? Visit the ' +\n",
              "            '<a target=\"_blank\" href=https://colab.research.google.com/notebooks/data_table.ipynb>data table notebook</a>'\n",
              "            + ' to learn more about interactive tables.';\n",
              "          element.innerHTML = '';\n",
              "          dataTable['output_type'] = 'display_data';\n",
              "          await google.colab.output.renderOutput(dataTable, element);\n",
              "          const docLink = document.createElement('div');\n",
              "          docLink.innerHTML = docLinkHtml;\n",
              "          element.appendChild(docLink);\n",
              "        }\n",
              "      </script>\n",
              "    </div>\n",
              "  </div>\n",
              "  "
            ]
          },
          "metadata": {},
          "execution_count": 45
        }
      ]
    },
    {
      "cell_type": "code",
      "source": [
        "car_df_ATTRAGEGLX.index = np.arange(0, len(car_df_ATTRAGEGLX))\n",
        "car_df_ATTRAGEGLX"
      ],
      "metadata": {
        "colab": {
          "base_uri": "https://localhost:8080/",
          "height": 896
        },
        "id": "_hjwMuuywSHE",
        "outputId": "c7c7da51-d233-479d-fc8b-8291262ffd8e"
      },
      "execution_count": 46,
      "outputs": [
        {
          "output_type": "execute_result",
          "data": {
            "text/plain": [
              "    km driven     price  car_age\n",
              "0     13594.0  349000.0      3.0\n",
              "1     23102.0  336000.0      3.0\n",
              "2     33996.0  349000.0      3.0\n",
              "3     35472.0  339000.0      3.0\n",
              "4     25573.0  356000.0      3.0\n",
              "5     14685.0  359000.0      3.0\n",
              "6     33589.0  309000.0      4.0\n",
              "7     28668.0  326000.0      3.0\n",
              "8     42505.0  323000.0      3.0\n",
              "9     20471.0  385000.0      2.0\n",
              "10    27352.0  349000.0      3.0\n",
              "11    12776.0  366900.0      2.0\n",
              "12    28566.0  381900.0      2.0\n",
              "13    20462.0  324900.0      3.0\n",
              "14    18247.0  349000.0      2.0\n",
              "15    34387.0  336000.0      3.0\n",
              "16    11129.0  399000.0      1.0\n",
              "17    10044.0  379000.0      2.0\n",
              "18    71383.0  317900.0      4.0\n",
              "19    38249.0  329900.0      3.0\n",
              "20    25487.0  329000.0      3.0\n",
              "21     6413.0  416000.0      2.0\n",
              "22    15345.0  389000.0      1.0\n",
              "23    40127.0  329000.0      4.0\n",
              "24    50352.0  319000.0      4.0\n",
              "25    82141.0  244000.0      7.0\n",
              "26    69797.0  304000.0      6.0"
            ],
            "text/html": [
              "\n",
              "  <div id=\"df-ac12680a-a20a-4693-a5d7-2ac021681bbc\">\n",
              "    <div class=\"colab-df-container\">\n",
              "      <div>\n",
              "<style scoped>\n",
              "    .dataframe tbody tr th:only-of-type {\n",
              "        vertical-align: middle;\n",
              "    }\n",
              "\n",
              "    .dataframe tbody tr th {\n",
              "        vertical-align: top;\n",
              "    }\n",
              "\n",
              "    .dataframe thead th {\n",
              "        text-align: right;\n",
              "    }\n",
              "</style>\n",
              "<table border=\"1\" class=\"dataframe\">\n",
              "  <thead>\n",
              "    <tr style=\"text-align: right;\">\n",
              "      <th></th>\n",
              "      <th>km driven</th>\n",
              "      <th>price</th>\n",
              "      <th>car_age</th>\n",
              "    </tr>\n",
              "  </thead>\n",
              "  <tbody>\n",
              "    <tr>\n",
              "      <th>0</th>\n",
              "      <td>13594.0</td>\n",
              "      <td>349000.0</td>\n",
              "      <td>3.0</td>\n",
              "    </tr>\n",
              "    <tr>\n",
              "      <th>1</th>\n",
              "      <td>23102.0</td>\n",
              "      <td>336000.0</td>\n",
              "      <td>3.0</td>\n",
              "    </tr>\n",
              "    <tr>\n",
              "      <th>2</th>\n",
              "      <td>33996.0</td>\n",
              "      <td>349000.0</td>\n",
              "      <td>3.0</td>\n",
              "    </tr>\n",
              "    <tr>\n",
              "      <th>3</th>\n",
              "      <td>35472.0</td>\n",
              "      <td>339000.0</td>\n",
              "      <td>3.0</td>\n",
              "    </tr>\n",
              "    <tr>\n",
              "      <th>4</th>\n",
              "      <td>25573.0</td>\n",
              "      <td>356000.0</td>\n",
              "      <td>3.0</td>\n",
              "    </tr>\n",
              "    <tr>\n",
              "      <th>5</th>\n",
              "      <td>14685.0</td>\n",
              "      <td>359000.0</td>\n",
              "      <td>3.0</td>\n",
              "    </tr>\n",
              "    <tr>\n",
              "      <th>6</th>\n",
              "      <td>33589.0</td>\n",
              "      <td>309000.0</td>\n",
              "      <td>4.0</td>\n",
              "    </tr>\n",
              "    <tr>\n",
              "      <th>7</th>\n",
              "      <td>28668.0</td>\n",
              "      <td>326000.0</td>\n",
              "      <td>3.0</td>\n",
              "    </tr>\n",
              "    <tr>\n",
              "      <th>8</th>\n",
              "      <td>42505.0</td>\n",
              "      <td>323000.0</td>\n",
              "      <td>3.0</td>\n",
              "    </tr>\n",
              "    <tr>\n",
              "      <th>9</th>\n",
              "      <td>20471.0</td>\n",
              "      <td>385000.0</td>\n",
              "      <td>2.0</td>\n",
              "    </tr>\n",
              "    <tr>\n",
              "      <th>10</th>\n",
              "      <td>27352.0</td>\n",
              "      <td>349000.0</td>\n",
              "      <td>3.0</td>\n",
              "    </tr>\n",
              "    <tr>\n",
              "      <th>11</th>\n",
              "      <td>12776.0</td>\n",
              "      <td>366900.0</td>\n",
              "      <td>2.0</td>\n",
              "    </tr>\n",
              "    <tr>\n",
              "      <th>12</th>\n",
              "      <td>28566.0</td>\n",
              "      <td>381900.0</td>\n",
              "      <td>2.0</td>\n",
              "    </tr>\n",
              "    <tr>\n",
              "      <th>13</th>\n",
              "      <td>20462.0</td>\n",
              "      <td>324900.0</td>\n",
              "      <td>3.0</td>\n",
              "    </tr>\n",
              "    <tr>\n",
              "      <th>14</th>\n",
              "      <td>18247.0</td>\n",
              "      <td>349000.0</td>\n",
              "      <td>2.0</td>\n",
              "    </tr>\n",
              "    <tr>\n",
              "      <th>15</th>\n",
              "      <td>34387.0</td>\n",
              "      <td>336000.0</td>\n",
              "      <td>3.0</td>\n",
              "    </tr>\n",
              "    <tr>\n",
              "      <th>16</th>\n",
              "      <td>11129.0</td>\n",
              "      <td>399000.0</td>\n",
              "      <td>1.0</td>\n",
              "    </tr>\n",
              "    <tr>\n",
              "      <th>17</th>\n",
              "      <td>10044.0</td>\n",
              "      <td>379000.0</td>\n",
              "      <td>2.0</td>\n",
              "    </tr>\n",
              "    <tr>\n",
              "      <th>18</th>\n",
              "      <td>71383.0</td>\n",
              "      <td>317900.0</td>\n",
              "      <td>4.0</td>\n",
              "    </tr>\n",
              "    <tr>\n",
              "      <th>19</th>\n",
              "      <td>38249.0</td>\n",
              "      <td>329900.0</td>\n",
              "      <td>3.0</td>\n",
              "    </tr>\n",
              "    <tr>\n",
              "      <th>20</th>\n",
              "      <td>25487.0</td>\n",
              "      <td>329000.0</td>\n",
              "      <td>3.0</td>\n",
              "    </tr>\n",
              "    <tr>\n",
              "      <th>21</th>\n",
              "      <td>6413.0</td>\n",
              "      <td>416000.0</td>\n",
              "      <td>2.0</td>\n",
              "    </tr>\n",
              "    <tr>\n",
              "      <th>22</th>\n",
              "      <td>15345.0</td>\n",
              "      <td>389000.0</td>\n",
              "      <td>1.0</td>\n",
              "    </tr>\n",
              "    <tr>\n",
              "      <th>23</th>\n",
              "      <td>40127.0</td>\n",
              "      <td>329000.0</td>\n",
              "      <td>4.0</td>\n",
              "    </tr>\n",
              "    <tr>\n",
              "      <th>24</th>\n",
              "      <td>50352.0</td>\n",
              "      <td>319000.0</td>\n",
              "      <td>4.0</td>\n",
              "    </tr>\n",
              "    <tr>\n",
              "      <th>25</th>\n",
              "      <td>82141.0</td>\n",
              "      <td>244000.0</td>\n",
              "      <td>7.0</td>\n",
              "    </tr>\n",
              "    <tr>\n",
              "      <th>26</th>\n",
              "      <td>69797.0</td>\n",
              "      <td>304000.0</td>\n",
              "      <td>6.0</td>\n",
              "    </tr>\n",
              "  </tbody>\n",
              "</table>\n",
              "</div>\n",
              "      <button class=\"colab-df-convert\" onclick=\"convertToInteractive('df-ac12680a-a20a-4693-a5d7-2ac021681bbc')\"\n",
              "              title=\"Convert this dataframe to an interactive table.\"\n",
              "              style=\"display:none;\">\n",
              "        \n",
              "  <svg xmlns=\"http://www.w3.org/2000/svg\" height=\"24px\"viewBox=\"0 0 24 24\"\n",
              "       width=\"24px\">\n",
              "    <path d=\"M0 0h24v24H0V0z\" fill=\"none\"/>\n",
              "    <path d=\"M18.56 5.44l.94 2.06.94-2.06 2.06-.94-2.06-.94-.94-2.06-.94 2.06-2.06.94zm-11 1L8.5 8.5l.94-2.06 2.06-.94-2.06-.94L8.5 2.5l-.94 2.06-2.06.94zm10 10l.94 2.06.94-2.06 2.06-.94-2.06-.94-.94-2.06-.94 2.06-2.06.94z\"/><path d=\"M17.41 7.96l-1.37-1.37c-.4-.4-.92-.59-1.43-.59-.52 0-1.04.2-1.43.59L10.3 9.45l-7.72 7.72c-.78.78-.78 2.05 0 2.83L4 21.41c.39.39.9.59 1.41.59.51 0 1.02-.2 1.41-.59l7.78-7.78 2.81-2.81c.8-.78.8-2.07 0-2.86zM5.41 20L4 18.59l7.72-7.72 1.47 1.35L5.41 20z\"/>\n",
              "  </svg>\n",
              "      </button>\n",
              "      \n",
              "  <style>\n",
              "    .colab-df-container {\n",
              "      display:flex;\n",
              "      flex-wrap:wrap;\n",
              "      gap: 12px;\n",
              "    }\n",
              "\n",
              "    .colab-df-convert {\n",
              "      background-color: #E8F0FE;\n",
              "      border: none;\n",
              "      border-radius: 50%;\n",
              "      cursor: pointer;\n",
              "      display: none;\n",
              "      fill: #1967D2;\n",
              "      height: 32px;\n",
              "      padding: 0 0 0 0;\n",
              "      width: 32px;\n",
              "    }\n",
              "\n",
              "    .colab-df-convert:hover {\n",
              "      background-color: #E2EBFA;\n",
              "      box-shadow: 0px 1px 2px rgba(60, 64, 67, 0.3), 0px 1px 3px 1px rgba(60, 64, 67, 0.15);\n",
              "      fill: #174EA6;\n",
              "    }\n",
              "\n",
              "    [theme=dark] .colab-df-convert {\n",
              "      background-color: #3B4455;\n",
              "      fill: #D2E3FC;\n",
              "    }\n",
              "\n",
              "    [theme=dark] .colab-df-convert:hover {\n",
              "      background-color: #434B5C;\n",
              "      box-shadow: 0px 1px 3px 1px rgba(0, 0, 0, 0.15);\n",
              "      filter: drop-shadow(0px 1px 2px rgba(0, 0, 0, 0.3));\n",
              "      fill: #FFFFFF;\n",
              "    }\n",
              "  </style>\n",
              "\n",
              "      <script>\n",
              "        const buttonEl =\n",
              "          document.querySelector('#df-ac12680a-a20a-4693-a5d7-2ac021681bbc button.colab-df-convert');\n",
              "        buttonEl.style.display =\n",
              "          google.colab.kernel.accessAllowed ? 'block' : 'none';\n",
              "\n",
              "        async function convertToInteractive(key) {\n",
              "          const element = document.querySelector('#df-ac12680a-a20a-4693-a5d7-2ac021681bbc');\n",
              "          const dataTable =\n",
              "            await google.colab.kernel.invokeFunction('convertToInteractive',\n",
              "                                                     [key], {});\n",
              "          if (!dataTable) return;\n",
              "\n",
              "          const docLinkHtml = 'Like what you see? Visit the ' +\n",
              "            '<a target=\"_blank\" href=https://colab.research.google.com/notebooks/data_table.ipynb>data table notebook</a>'\n",
              "            + ' to learn more about interactive tables.';\n",
              "          element.innerHTML = '';\n",
              "          dataTable['output_type'] = 'display_data';\n",
              "          await google.colab.output.renderOutput(dataTable, element);\n",
              "          const docLink = document.createElement('div');\n",
              "          docLink.innerHTML = docLinkHtml;\n",
              "          element.appendChild(docLink);\n",
              "        }\n",
              "      </script>\n",
              "    </div>\n",
              "  </div>\n",
              "  "
            ]
          },
          "metadata": {},
          "execution_count": 46
        }
      ]
    },
    {
      "cell_type": "markdown",
      "source": [
        "test regression"
      ],
      "metadata": {
        "id": "TXs_Lp5WunCK"
      }
    },
    {
      "cell_type": "code",
      "source": [
        "#สร้างobject\n",
        "#model=LinearRegression()\n",
        "#model"
      ],
      "metadata": {
        "id": "THU3zxAIOOFi"
      },
      "execution_count": 47,
      "outputs": []
    },
    {
      "cell_type": "code",
      "source": [
        "#model.fit(car_model1[['price']], car_model1['km driven'])"
      ],
      "metadata": {
        "id": "N7krvofTPNhw"
      },
      "execution_count": 48,
      "outputs": []
    },
    {
      "cell_type": "code",
      "source": [
        "#สร้างmodelเพื่อทำนายราคารถยนต์จากจำนวนกิโลเมตร\n",
        "#X2=car_model1[['km driven']] #2D array  [[2d]]\n",
        "#y2=car_model1['price']"
      ],
      "metadata": {
        "id": "0V4HXfiIQl-D"
      },
      "execution_count": 49,
      "outputs": []
    },
    {
      "cell_type": "code",
      "source": [
        "#model_km=model.fit(X2,y2)"
      ],
      "metadata": {
        "id": "mrTcQs7mRDmq"
      },
      "execution_count": 50,
      "outputs": []
    },
    {
      "cell_type": "code",
      "source": [
        "#model_km.score(X2,y2) # R score"
      ],
      "metadata": {
        "id": "T3p2H9M_Q8-j"
      },
      "execution_count": 51,
      "outputs": []
    },
    {
      "cell_type": "code",
      "source": [
        "#model_km.predict([[50000]]) #predict ว่าถ้ารถเคยวิ่ง n กิโลเมตร จะราคาเท่าไร"
      ],
      "metadata": {
        "id": "UzXoqAzTRh5u"
      },
      "execution_count": 52,
      "outputs": []
    },
    {
      "cell_type": "code",
      "source": [
        "#predictแบบเป็นช่วงๆๆๆๆๆ\n",
        "#np.arange(10000,50000, 5000) #ค่า10k-50k ช่วงละ 5k"
      ],
      "metadata": {
        "id": "ZCJcBj7VUdoU"
      },
      "execution_count": 53,
      "outputs": []
    },
    {
      "cell_type": "code",
      "source": [
        "#np.arange(10000,50000, 5000).reshape(-1,1) #รีเชปให้เปนทูดี"
      ],
      "metadata": {
        "id": "IbNQkuUKVGu0"
      },
      "execution_count": 54,
      "outputs": []
    },
    {
      "cell_type": "code",
      "source": [
        "#model_km.predict(np.arange(10000,50000, 5000).reshape(-1,1))"
      ],
      "metadata": {
        "id": "WVrscbqOVWED"
      },
      "execution_count": 55,
      "outputs": []
    },
    {
      "cell_type": "code",
      "source": [
        ""
      ],
      "metadata": {
        "id": "9PZ9kgnsVja0"
      },
      "execution_count": 55,
      "outputs": []
    },
    {
      "cell_type": "markdown",
      "source": [
        "ราคา=intercept coef(ค่าสัมปสิทธิ์)+(age coef)*age. +(km coef)*km"
      ],
      "metadata": {
        "id": "xQj5gvv8S26V"
      }
    },
    {
      "cell_type": "markdown",
      "source": [
        "multiple lenear regression test"
      ],
      "metadata": {
        "id": "dDP6o0xYvEr3"
      }
    },
    {
      "cell_type": "code",
      "source": [
        "#car_model1_final=car_model1.drop(columns='brand')"
      ],
      "metadata": {
        "id": "li6neowBYz86"
      },
      "execution_count": 56,
      "outputs": []
    },
    {
      "cell_type": "code",
      "source": [
        "#car_model1_final=car_model1_final.drop(columns='year')\n",
        "#car_model1_final=car_model1_final.drop(columns='year')\n",
        "#car_model1_final"
      ],
      "metadata": {
        "id": "TYiMLB4Ycens"
      },
      "execution_count": 57,
      "outputs": []
    },
    {
      "cell_type": "code",
      "source": [
        "#car_model_test1=car_model1_final"
      ],
      "metadata": {
        "id": "JGbZn1HXcm2S"
      },
      "execution_count": 58,
      "outputs": []
    },
    {
      "cell_type": "code",
      "source": [
        "#car_model_test1.index = np.arange(0, len(car_model_test1))\n",
        "#car_model_test1"
      ],
      "metadata": {
        "id": "Rqp7HCr8fk7x"
      },
      "execution_count": 59,
      "outputs": []
    },
    {
      "cell_type": "code",
      "source": [
        "#x1=car_model_test1.drop(columns='price')\n",
        "#y1=car_model_test1['price']\n",
        "#modeltest=LinearRegression()\n",
        "#modeltest.fit(x1,y1)"
      ],
      "metadata": {
        "id": "O649lY2Ac1nH"
      },
      "execution_count": 60,
      "outputs": []
    },
    {
      "cell_type": "code",
      "source": [
        "#modeltest.predict([[20000,2]])"
      ],
      "metadata": {
        "id": "JW_hw2ZMpBVL"
      },
      "execution_count": 61,
      "outputs": []
    },
    {
      "cell_type": "code",
      "source": [
        "#car_model_test1.info()"
      ],
      "metadata": {
        "id": "mbO9iK_8Ct9a"
      },
      "execution_count": 62,
      "outputs": []
    },
    {
      "cell_type": "code",
      "source": [
        "#prediction=modeltest.predict(x1)\n",
        "\n",
        "#dc=pd.concat([car_model_test1['price'],pd.Series(prediction,name='predict_price')],axis='columns')\n",
        "#dc"
      ],
      "metadata": {
        "id": "-UrrTM6Ddg4C"
      },
      "execution_count": 63,
      "outputs": []
    },
    {
      "cell_type": "code",
      "source": [
        "#modeltest.coef_"
      ],
      "metadata": {
        "id": "Lnx9YelRhOoW"
      },
      "execution_count": 64,
      "outputs": []
    },
    {
      "cell_type": "code",
      "source": [
        "#modeltest.score(x1,y1) # R score"
      ],
      "metadata": {
        "id": "VpAgBc62m8Iu"
      },
      "execution_count": 65,
      "outputs": []
    },
    {
      "cell_type": "code",
      "source": [
        "\n",
        "#car_df_ATTRAGEGLX1=car_df_ATTRAGEGLX\n"
      ],
      "metadata": {
        "id": "6NMkW1SAgvjL"
      },
      "execution_count": 66,
      "outputs": []
    },
    {
      "cell_type": "markdown",
      "source": [
        "**modelling**\n"
      ],
      "metadata": {
        "id": "0jLRAxAyWqZC"
      }
    },
    {
      "cell_type": "markdown",
      "source": [
        "split data tarin and test"
      ],
      "metadata": {
        "id": "8I5K_RUDg1Gn"
      }
    },
    {
      "cell_type": "code",
      "source": [
        "x_col=['km driven', 'car_age']\n",
        "y_col=['price']"
      ],
      "metadata": {
        "id": "PgW43OrfttUk"
      },
      "execution_count": 67,
      "outputs": []
    },
    {
      "cell_type": "code",
      "source": [
        "X=car_df_ATTRAGEGLX[x_col]\n",
        "y=car_df_ATTRAGEGLX[y_col]"
      ],
      "metadata": {
        "id": "p8dAHtzs6k1M"
      },
      "execution_count": 68,
      "outputs": []
    },
    {
      "cell_type": "code",
      "source": [
        "test_size=.3\n",
        "X_train, X_test, y_train, y_test = train_test_split(X,y, test_size=test_size,random_state=2)"
      ],
      "metadata": {
        "id": "5BFFRrJu6_Ny"
      },
      "execution_count": 69,
      "outputs": []
    },
    {
      "cell_type": "code",
      "source": [
        "X_train.head()"
      ],
      "metadata": {
        "colab": {
          "base_uri": "https://localhost:8080/",
          "height": 206
        },
        "id": "Z_vOkaVE7kQw",
        "outputId": "8bc5a789-d1e3-4546-c98a-1f372fd90c2d"
      },
      "execution_count": 70,
      "outputs": [
        {
          "output_type": "execute_result",
          "data": {
            "text/plain": [
              "    km driven  car_age\n",
              "24    50352.0      4.0\n",
              "14    18247.0      2.0\n",
              "4     25573.0      3.0\n",
              "10    27352.0      3.0\n",
              "5     14685.0      3.0"
            ],
            "text/html": [
              "\n",
              "  <div id=\"df-c61b40f9-018b-4a71-9e45-9c06e8eddf61\">\n",
              "    <div class=\"colab-df-container\">\n",
              "      <div>\n",
              "<style scoped>\n",
              "    .dataframe tbody tr th:only-of-type {\n",
              "        vertical-align: middle;\n",
              "    }\n",
              "\n",
              "    .dataframe tbody tr th {\n",
              "        vertical-align: top;\n",
              "    }\n",
              "\n",
              "    .dataframe thead th {\n",
              "        text-align: right;\n",
              "    }\n",
              "</style>\n",
              "<table border=\"1\" class=\"dataframe\">\n",
              "  <thead>\n",
              "    <tr style=\"text-align: right;\">\n",
              "      <th></th>\n",
              "      <th>km driven</th>\n",
              "      <th>car_age</th>\n",
              "    </tr>\n",
              "  </thead>\n",
              "  <tbody>\n",
              "    <tr>\n",
              "      <th>24</th>\n",
              "      <td>50352.0</td>\n",
              "      <td>4.0</td>\n",
              "    </tr>\n",
              "    <tr>\n",
              "      <th>14</th>\n",
              "      <td>18247.0</td>\n",
              "      <td>2.0</td>\n",
              "    </tr>\n",
              "    <tr>\n",
              "      <th>4</th>\n",
              "      <td>25573.0</td>\n",
              "      <td>3.0</td>\n",
              "    </tr>\n",
              "    <tr>\n",
              "      <th>10</th>\n",
              "      <td>27352.0</td>\n",
              "      <td>3.0</td>\n",
              "    </tr>\n",
              "    <tr>\n",
              "      <th>5</th>\n",
              "      <td>14685.0</td>\n",
              "      <td>3.0</td>\n",
              "    </tr>\n",
              "  </tbody>\n",
              "</table>\n",
              "</div>\n",
              "      <button class=\"colab-df-convert\" onclick=\"convertToInteractive('df-c61b40f9-018b-4a71-9e45-9c06e8eddf61')\"\n",
              "              title=\"Convert this dataframe to an interactive table.\"\n",
              "              style=\"display:none;\">\n",
              "        \n",
              "  <svg xmlns=\"http://www.w3.org/2000/svg\" height=\"24px\"viewBox=\"0 0 24 24\"\n",
              "       width=\"24px\">\n",
              "    <path d=\"M0 0h24v24H0V0z\" fill=\"none\"/>\n",
              "    <path d=\"M18.56 5.44l.94 2.06.94-2.06 2.06-.94-2.06-.94-.94-2.06-.94 2.06-2.06.94zm-11 1L8.5 8.5l.94-2.06 2.06-.94-2.06-.94L8.5 2.5l-.94 2.06-2.06.94zm10 10l.94 2.06.94-2.06 2.06-.94-2.06-.94-.94-2.06-.94 2.06-2.06.94z\"/><path d=\"M17.41 7.96l-1.37-1.37c-.4-.4-.92-.59-1.43-.59-.52 0-1.04.2-1.43.59L10.3 9.45l-7.72 7.72c-.78.78-.78 2.05 0 2.83L4 21.41c.39.39.9.59 1.41.59.51 0 1.02-.2 1.41-.59l7.78-7.78 2.81-2.81c.8-.78.8-2.07 0-2.86zM5.41 20L4 18.59l7.72-7.72 1.47 1.35L5.41 20z\"/>\n",
              "  </svg>\n",
              "      </button>\n",
              "      \n",
              "  <style>\n",
              "    .colab-df-container {\n",
              "      display:flex;\n",
              "      flex-wrap:wrap;\n",
              "      gap: 12px;\n",
              "    }\n",
              "\n",
              "    .colab-df-convert {\n",
              "      background-color: #E8F0FE;\n",
              "      border: none;\n",
              "      border-radius: 50%;\n",
              "      cursor: pointer;\n",
              "      display: none;\n",
              "      fill: #1967D2;\n",
              "      height: 32px;\n",
              "      padding: 0 0 0 0;\n",
              "      width: 32px;\n",
              "    }\n",
              "\n",
              "    .colab-df-convert:hover {\n",
              "      background-color: #E2EBFA;\n",
              "      box-shadow: 0px 1px 2px rgba(60, 64, 67, 0.3), 0px 1px 3px 1px rgba(60, 64, 67, 0.15);\n",
              "      fill: #174EA6;\n",
              "    }\n",
              "\n",
              "    [theme=dark] .colab-df-convert {\n",
              "      background-color: #3B4455;\n",
              "      fill: #D2E3FC;\n",
              "    }\n",
              "\n",
              "    [theme=dark] .colab-df-convert:hover {\n",
              "      background-color: #434B5C;\n",
              "      box-shadow: 0px 1px 3px 1px rgba(0, 0, 0, 0.15);\n",
              "      filter: drop-shadow(0px 1px 2px rgba(0, 0, 0, 0.3));\n",
              "      fill: #FFFFFF;\n",
              "    }\n",
              "  </style>\n",
              "\n",
              "      <script>\n",
              "        const buttonEl =\n",
              "          document.querySelector('#df-c61b40f9-018b-4a71-9e45-9c06e8eddf61 button.colab-df-convert');\n",
              "        buttonEl.style.display =\n",
              "          google.colab.kernel.accessAllowed ? 'block' : 'none';\n",
              "\n",
              "        async function convertToInteractive(key) {\n",
              "          const element = document.querySelector('#df-c61b40f9-018b-4a71-9e45-9c06e8eddf61');\n",
              "          const dataTable =\n",
              "            await google.colab.kernel.invokeFunction('convertToInteractive',\n",
              "                                                     [key], {});\n",
              "          if (!dataTable) return;\n",
              "\n",
              "          const docLinkHtml = 'Like what you see? Visit the ' +\n",
              "            '<a target=\"_blank\" href=https://colab.research.google.com/notebooks/data_table.ipynb>data table notebook</a>'\n",
              "            + ' to learn more about interactive tables.';\n",
              "          element.innerHTML = '';\n",
              "          dataTable['output_type'] = 'display_data';\n",
              "          await google.colab.output.renderOutput(dataTable, element);\n",
              "          const docLink = document.createElement('div');\n",
              "          docLink.innerHTML = docLinkHtml;\n",
              "          element.appendChild(docLink);\n",
              "        }\n",
              "      </script>\n",
              "    </div>\n",
              "  </div>\n",
              "  "
            ]
          },
          "metadata": {},
          "execution_count": 70
        }
      ]
    },
    {
      "cell_type": "code",
      "source": [
        "y_train.head()"
      ],
      "metadata": {
        "colab": {
          "base_uri": "https://localhost:8080/",
          "height": 206
        },
        "id": "gtnvAs8u7sC_",
        "outputId": "a532b20a-f541-4a69-b152-ad1d00e62366"
      },
      "execution_count": 71,
      "outputs": [
        {
          "output_type": "execute_result",
          "data": {
            "text/plain": [
              "       price\n",
              "24  319000.0\n",
              "14  349000.0\n",
              "4   356000.0\n",
              "10  349000.0\n",
              "5   359000.0"
            ],
            "text/html": [
              "\n",
              "  <div id=\"df-0f0428df-8100-4993-aad5-3d6f13789c91\">\n",
              "    <div class=\"colab-df-container\">\n",
              "      <div>\n",
              "<style scoped>\n",
              "    .dataframe tbody tr th:only-of-type {\n",
              "        vertical-align: middle;\n",
              "    }\n",
              "\n",
              "    .dataframe tbody tr th {\n",
              "        vertical-align: top;\n",
              "    }\n",
              "\n",
              "    .dataframe thead th {\n",
              "        text-align: right;\n",
              "    }\n",
              "</style>\n",
              "<table border=\"1\" class=\"dataframe\">\n",
              "  <thead>\n",
              "    <tr style=\"text-align: right;\">\n",
              "      <th></th>\n",
              "      <th>price</th>\n",
              "    </tr>\n",
              "  </thead>\n",
              "  <tbody>\n",
              "    <tr>\n",
              "      <th>24</th>\n",
              "      <td>319000.0</td>\n",
              "    </tr>\n",
              "    <tr>\n",
              "      <th>14</th>\n",
              "      <td>349000.0</td>\n",
              "    </tr>\n",
              "    <tr>\n",
              "      <th>4</th>\n",
              "      <td>356000.0</td>\n",
              "    </tr>\n",
              "    <tr>\n",
              "      <th>10</th>\n",
              "      <td>349000.0</td>\n",
              "    </tr>\n",
              "    <tr>\n",
              "      <th>5</th>\n",
              "      <td>359000.0</td>\n",
              "    </tr>\n",
              "  </tbody>\n",
              "</table>\n",
              "</div>\n",
              "      <button class=\"colab-df-convert\" onclick=\"convertToInteractive('df-0f0428df-8100-4993-aad5-3d6f13789c91')\"\n",
              "              title=\"Convert this dataframe to an interactive table.\"\n",
              "              style=\"display:none;\">\n",
              "        \n",
              "  <svg xmlns=\"http://www.w3.org/2000/svg\" height=\"24px\"viewBox=\"0 0 24 24\"\n",
              "       width=\"24px\">\n",
              "    <path d=\"M0 0h24v24H0V0z\" fill=\"none\"/>\n",
              "    <path d=\"M18.56 5.44l.94 2.06.94-2.06 2.06-.94-2.06-.94-.94-2.06-.94 2.06-2.06.94zm-11 1L8.5 8.5l.94-2.06 2.06-.94-2.06-.94L8.5 2.5l-.94 2.06-2.06.94zm10 10l.94 2.06.94-2.06 2.06-.94-2.06-.94-.94-2.06-.94 2.06-2.06.94z\"/><path d=\"M17.41 7.96l-1.37-1.37c-.4-.4-.92-.59-1.43-.59-.52 0-1.04.2-1.43.59L10.3 9.45l-7.72 7.72c-.78.78-.78 2.05 0 2.83L4 21.41c.39.39.9.59 1.41.59.51 0 1.02-.2 1.41-.59l7.78-7.78 2.81-2.81c.8-.78.8-2.07 0-2.86zM5.41 20L4 18.59l7.72-7.72 1.47 1.35L5.41 20z\"/>\n",
              "  </svg>\n",
              "      </button>\n",
              "      \n",
              "  <style>\n",
              "    .colab-df-container {\n",
              "      display:flex;\n",
              "      flex-wrap:wrap;\n",
              "      gap: 12px;\n",
              "    }\n",
              "\n",
              "    .colab-df-convert {\n",
              "      background-color: #E8F0FE;\n",
              "      border: none;\n",
              "      border-radius: 50%;\n",
              "      cursor: pointer;\n",
              "      display: none;\n",
              "      fill: #1967D2;\n",
              "      height: 32px;\n",
              "      padding: 0 0 0 0;\n",
              "      width: 32px;\n",
              "    }\n",
              "\n",
              "    .colab-df-convert:hover {\n",
              "      background-color: #E2EBFA;\n",
              "      box-shadow: 0px 1px 2px rgba(60, 64, 67, 0.3), 0px 1px 3px 1px rgba(60, 64, 67, 0.15);\n",
              "      fill: #174EA6;\n",
              "    }\n",
              "\n",
              "    [theme=dark] .colab-df-convert {\n",
              "      background-color: #3B4455;\n",
              "      fill: #D2E3FC;\n",
              "    }\n",
              "\n",
              "    [theme=dark] .colab-df-convert:hover {\n",
              "      background-color: #434B5C;\n",
              "      box-shadow: 0px 1px 3px 1px rgba(0, 0, 0, 0.15);\n",
              "      filter: drop-shadow(0px 1px 2px rgba(0, 0, 0, 0.3));\n",
              "      fill: #FFFFFF;\n",
              "    }\n",
              "  </style>\n",
              "\n",
              "      <script>\n",
              "        const buttonEl =\n",
              "          document.querySelector('#df-0f0428df-8100-4993-aad5-3d6f13789c91 button.colab-df-convert');\n",
              "        buttonEl.style.display =\n",
              "          google.colab.kernel.accessAllowed ? 'block' : 'none';\n",
              "\n",
              "        async function convertToInteractive(key) {\n",
              "          const element = document.querySelector('#df-0f0428df-8100-4993-aad5-3d6f13789c91');\n",
              "          const dataTable =\n",
              "            await google.colab.kernel.invokeFunction('convertToInteractive',\n",
              "                                                     [key], {});\n",
              "          if (!dataTable) return;\n",
              "\n",
              "          const docLinkHtml = 'Like what you see? Visit the ' +\n",
              "            '<a target=\"_blank\" href=https://colab.research.google.com/notebooks/data_table.ipynb>data table notebook</a>'\n",
              "            + ' to learn more about interactive tables.';\n",
              "          element.innerHTML = '';\n",
              "          dataTable['output_type'] = 'display_data';\n",
              "          await google.colab.output.renderOutput(dataTable, element);\n",
              "          const docLink = document.createElement('div');\n",
              "          docLink.innerHTML = docLinkHtml;\n",
              "          element.appendChild(docLink);\n",
              "        }\n",
              "      </script>\n",
              "    </div>\n",
              "  </div>\n",
              "  "
            ]
          },
          "metadata": {},
          "execution_count": 71
        }
      ]
    },
    {
      "cell_type": "markdown",
      "source": [
        "Multiple Regression Model"
      ],
      "metadata": {
        "id": "q_0OK9_J77Yh"
      }
    },
    {
      "cell_type": "code",
      "source": [
        "#สร้างmodelสำหรับรถรุ่น attrage\n",
        "model_attrage=LinearRegression()\n",
        "model_attrage"
      ],
      "metadata": {
        "colab": {
          "base_uri": "https://localhost:8080/"
        },
        "id": "tgPf-7fR75cV",
        "outputId": "ea15f0a3-a914-4219-f312-43164bf9ea30"
      },
      "execution_count": 72,
      "outputs": [
        {
          "output_type": "execute_result",
          "data": {
            "text/plain": [
              "LinearRegression()"
            ]
          },
          "metadata": {},
          "execution_count": 72
        }
      ]
    },
    {
      "cell_type": "code",
      "source": [
        "model_attrage.fit(X_train, y_train)"
      ],
      "metadata": {
        "colab": {
          "base_uri": "https://localhost:8080/"
        },
        "id": "a_k3uDHj8gji",
        "outputId": "8f1e1e7a-89e3-489f-c9c4-95cdc033b72d"
      },
      "execution_count": 73,
      "outputs": [
        {
          "output_type": "execute_result",
          "data": {
            "text/plain": [
              "LinearRegression()"
            ]
          },
          "metadata": {},
          "execution_count": 73
        }
      ]
    },
    {
      "cell_type": "code",
      "source": [
        ""
      ],
      "metadata": {
        "id": "JVa-q98RZRMR"
      },
      "execution_count": 73,
      "outputs": []
    },
    {
      "cell_type": "markdown",
      "source": [
        "Predict price"
      ],
      "metadata": {
        "id": "RXwF9WFv-ARl"
      }
    },
    {
      "cell_type": "code",
      "source": [
        "model_attrage.predict([[20000,5]]) #20k=km 5=age"
      ],
      "metadata": {
        "colab": {
          "base_uri": "https://localhost:8080/"
        },
        "id": "FKNaeHAJ-N-m",
        "outputId": "9a7e8119-c2ee-483a-d55f-715a100d8bf5"
      },
      "execution_count": 74,
      "outputs": [
        {
          "output_type": "stream",
          "name": "stderr",
          "text": [
            "/usr/local/lib/python3.7/dist-packages/sklearn/base.py:451: UserWarning: X does not have valid feature names, but LinearRegression was fitted with feature names\n",
            "  \"X does not have valid feature names, but\"\n"
          ]
        },
        {
          "output_type": "execute_result",
          "data": {
            "text/plain": [
              "array([[331699.86665174]])"
            ]
          },
          "metadata": {},
          "execution_count": 74
        }
      ]
    },
    {
      "cell_type": "code",
      "source": [
        "y_train.info()"
      ],
      "metadata": {
        "colab": {
          "base_uri": "https://localhost:8080/"
        },
        "id": "18fq17j_CVtf",
        "outputId": "4ab127a5-993e-4e63-bc4f-aaef8ef6e217"
      },
      "execution_count": 75,
      "outputs": [
        {
          "output_type": "stream",
          "name": "stdout",
          "text": [
            "<class 'pandas.core.frame.DataFrame'>\n",
            "Int64Index: 18 entries, 24 to 8\n",
            "Data columns (total 1 columns):\n",
            " #   Column  Non-Null Count  Dtype  \n",
            "---  ------  --------------  -----  \n",
            " 0   price   18 non-null     float64\n",
            "dtypes: float64(1)\n",
            "memory usage: 288.0 bytes\n"
          ]
        }
      ]
    },
    {
      "cell_type": "code",
      "source": [
        "predict_result_test=model_attrage.predict(X_test)\n",
        "predict_result_test"
      ],
      "metadata": {
        "colab": {
          "base_uri": "https://localhost:8080/"
        },
        "id": "m32BADnWIcae",
        "outputId": "1583f48f-f94f-4fd5-9a67-1db669128f5d"
      },
      "execution_count": 76,
      "outputs": [
        {
          "output_type": "execute_result",
          "data": {
            "text/plain": [
              "array([[269367.88577576],\n",
              "       [356251.81989412],\n",
              "       [361695.05804673],\n",
              "       [348190.13749264],\n",
              "       [378132.36219358],\n",
              "       [356207.85388966],\n",
              "       [332593.3686336 ],\n",
              "       [341421.79487272],\n",
              "       [368763.01082569]])"
            ]
          },
          "metadata": {},
          "execution_count": 76
        }
      ]
    },
    {
      "cell_type": "code",
      "source": [
        "predict_result=model_attrage.predict(X_train)\n",
        "predict_result"
      ],
      "metadata": {
        "colab": {
          "base_uri": "https://localhost:8080/"
        },
        "id": "VO12ZC1kCcCg",
        "outputId": "ec32093c-708b-4944-8103-4732fcf419e1"
      },
      "execution_count": 77,
      "outputs": [
        {
          "output_type": "execute_result",
          "data": {
            "text/plain": [
              "array([[321230.55167438],\n",
              "       [363202.59875646],\n",
              "       [348131.84230333],\n",
              "       [346925.94530575],\n",
              "       [355512.28441106],\n",
              "       [339539.40253867],\n",
              "       [349806.81221959],\n",
              "       [342422.30300562],\n",
              "       [346033.89333902],\n",
              "       [328161.57854356],\n",
              "       [371224.28794666],\n",
              "       [306974.66648264],\n",
              "       [366911.12178837],\n",
              "       [375274.54221505],\n",
              "       [287840.09874034],\n",
              "       [351596.33896136],\n",
              "       [342157.26324955],\n",
              "       [336654.4685186 ]])"
            ]
          },
          "metadata": {},
          "execution_count": 77
        }
      ]
    },
    {
      "cell_type": "code",
      "source": [
        ""
      ],
      "metadata": {
        "id": "m05xr4JJD4mm"
      },
      "execution_count": 77,
      "outputs": []
    },
    {
      "cell_type": "code",
      "source": [
        "\n",
        "x1_test = np.squeeze(predict_result_test)\n",
        "x1_test"
      ],
      "metadata": {
        "colab": {
          "base_uri": "https://localhost:8080/"
        },
        "id": "PfyzCJ_1E8hx",
        "outputId": "3c16692c-cde7-4ebe-c27b-47514c08a808"
      },
      "execution_count": 78,
      "outputs": [
        {
          "output_type": "execute_result",
          "data": {
            "text/plain": [
              "array([269367.88577576, 356251.81989412, 361695.05804673, 348190.13749264,\n",
              "       378132.36219358, 356207.85388966, 332593.3686336 , 341421.79487272,\n",
              "       368763.01082569])"
            ]
          },
          "metadata": {},
          "execution_count": 78
        }
      ]
    },
    {
      "cell_type": "code",
      "source": [
        "y1_test = np.squeeze(y_test)\n",
        "y1_test.index = np.arange(0, len(y1_test))\n",
        "y1_test"
      ],
      "metadata": {
        "colab": {
          "base_uri": "https://localhost:8080/"
        },
        "id": "mKtzwTv9JAHi",
        "outputId": "04398834-fb75-49ae-b461-4933f5baab25"
      },
      "execution_count": 79,
      "outputs": [
        {
          "output_type": "execute_result",
          "data": {
            "text/plain": [
              "0    244000.0\n",
              "1    349000.0\n",
              "2    385000.0\n",
              "3    329000.0\n",
              "4    399000.0\n",
              "5    381900.0\n",
              "6    309000.0\n",
              "7    339000.0\n",
              "8    379000.0\n",
              "Name: price, dtype: float64"
            ]
          },
          "metadata": {},
          "execution_count": 79
        }
      ]
    },
    {
      "cell_type": "code",
      "source": [
        "x1_train = np.squeeze(predict_result)\n",
        "x1_train"
      ],
      "metadata": {
        "colab": {
          "base_uri": "https://localhost:8080/"
        },
        "id": "XQIAg3i9FGg3",
        "outputId": "4a986519-ac30-4ba5-b128-645a24411b7d"
      },
      "execution_count": 80,
      "outputs": [
        {
          "output_type": "execute_result",
          "data": {
            "text/plain": [
              "array([321230.55167438, 363202.59875646, 348131.84230333, 346925.94530575,\n",
              "       355512.28441106, 339539.40253867, 349806.81221959, 342422.30300562,\n",
              "       346033.89333902, 328161.57854356, 371224.28794666, 306974.66648264,\n",
              "       366911.12178837, 375274.54221505, 287840.09874034, 351596.33896136,\n",
              "       342157.26324955, 336654.4685186 ])"
            ]
          },
          "metadata": {},
          "execution_count": 80
        }
      ]
    },
    {
      "cell_type": "code",
      "source": [
        "y1_train = np.squeeze(y_train)\n",
        "y1_train.index = np.arange(0, len(y1_train))\n",
        "y1_train"
      ],
      "metadata": {
        "colab": {
          "base_uri": "https://localhost:8080/"
        },
        "id": "bON_7hiREGX9",
        "outputId": "85cbbdd2-fe65-49b7-bf7d-06df7806b6bb"
      },
      "execution_count": 81,
      "outputs": [
        {
          "output_type": "execute_result",
          "data": {
            "text/plain": [
              "0     319000.0\n",
              "1     349000.0\n",
              "2     356000.0\n",
              "3     349000.0\n",
              "4     359000.0\n",
              "5     329900.0\n",
              "6     336000.0\n",
              "7     349000.0\n",
              "8     326000.0\n",
              "9     329000.0\n",
              "10    416000.0\n",
              "11    317900.0\n",
              "12    366900.0\n",
              "13    389000.0\n",
              "14    304000.0\n",
              "15    324900.0\n",
              "16    336000.0\n",
              "17    323000.0\n",
              "Name: price, dtype: float64"
            ]
          },
          "metadata": {},
          "execution_count": 81
        }
      ]
    },
    {
      "cell_type": "code",
      "source": [
        "#concat เทียบราคาจริงกับราคาpredict ของ data train\n",
        "dfc_train=pd.concat([y1_train ,pd.Series(x1_train,name='price_predict_train')],axis='columns')\n",
        "dfc_train"
      ],
      "metadata": {
        "colab": {
          "base_uri": "https://localhost:8080/",
          "height": 614
        },
        "id": "Ck1QNRcW-vDD",
        "outputId": "fb0f4dc9-7d25-4abe-88ca-c173ec7391bf"
      },
      "execution_count": 82,
      "outputs": [
        {
          "output_type": "execute_result",
          "data": {
            "text/plain": [
              "       price  price_predict_train\n",
              "0   319000.0        321230.551674\n",
              "1   349000.0        363202.598756\n",
              "2   356000.0        348131.842303\n",
              "3   349000.0        346925.945306\n",
              "4   359000.0        355512.284411\n",
              "5   329900.0        339539.402539\n",
              "6   336000.0        349806.812220\n",
              "7   349000.0        342422.303006\n",
              "8   326000.0        346033.893339\n",
              "9   329000.0        328161.578544\n",
              "10  416000.0        371224.287947\n",
              "11  317900.0        306974.666483\n",
              "12  366900.0        366911.121788\n",
              "13  389000.0        375274.542215\n",
              "14  304000.0        287840.098740\n",
              "15  324900.0        351596.338961\n",
              "16  336000.0        342157.263250\n",
              "17  323000.0        336654.468519"
            ],
            "text/html": [
              "\n",
              "  <div id=\"df-f41b9633-40cb-4c3f-8c03-b9e60af979c1\">\n",
              "    <div class=\"colab-df-container\">\n",
              "      <div>\n",
              "<style scoped>\n",
              "    .dataframe tbody tr th:only-of-type {\n",
              "        vertical-align: middle;\n",
              "    }\n",
              "\n",
              "    .dataframe tbody tr th {\n",
              "        vertical-align: top;\n",
              "    }\n",
              "\n",
              "    .dataframe thead th {\n",
              "        text-align: right;\n",
              "    }\n",
              "</style>\n",
              "<table border=\"1\" class=\"dataframe\">\n",
              "  <thead>\n",
              "    <tr style=\"text-align: right;\">\n",
              "      <th></th>\n",
              "      <th>price</th>\n",
              "      <th>price_predict_train</th>\n",
              "    </tr>\n",
              "  </thead>\n",
              "  <tbody>\n",
              "    <tr>\n",
              "      <th>0</th>\n",
              "      <td>319000.0</td>\n",
              "      <td>321230.551674</td>\n",
              "    </tr>\n",
              "    <tr>\n",
              "      <th>1</th>\n",
              "      <td>349000.0</td>\n",
              "      <td>363202.598756</td>\n",
              "    </tr>\n",
              "    <tr>\n",
              "      <th>2</th>\n",
              "      <td>356000.0</td>\n",
              "      <td>348131.842303</td>\n",
              "    </tr>\n",
              "    <tr>\n",
              "      <th>3</th>\n",
              "      <td>349000.0</td>\n",
              "      <td>346925.945306</td>\n",
              "    </tr>\n",
              "    <tr>\n",
              "      <th>4</th>\n",
              "      <td>359000.0</td>\n",
              "      <td>355512.284411</td>\n",
              "    </tr>\n",
              "    <tr>\n",
              "      <th>5</th>\n",
              "      <td>329900.0</td>\n",
              "      <td>339539.402539</td>\n",
              "    </tr>\n",
              "    <tr>\n",
              "      <th>6</th>\n",
              "      <td>336000.0</td>\n",
              "      <td>349806.812220</td>\n",
              "    </tr>\n",
              "    <tr>\n",
              "      <th>7</th>\n",
              "      <td>349000.0</td>\n",
              "      <td>342422.303006</td>\n",
              "    </tr>\n",
              "    <tr>\n",
              "      <th>8</th>\n",
              "      <td>326000.0</td>\n",
              "      <td>346033.893339</td>\n",
              "    </tr>\n",
              "    <tr>\n",
              "      <th>9</th>\n",
              "      <td>329000.0</td>\n",
              "      <td>328161.578544</td>\n",
              "    </tr>\n",
              "    <tr>\n",
              "      <th>10</th>\n",
              "      <td>416000.0</td>\n",
              "      <td>371224.287947</td>\n",
              "    </tr>\n",
              "    <tr>\n",
              "      <th>11</th>\n",
              "      <td>317900.0</td>\n",
              "      <td>306974.666483</td>\n",
              "    </tr>\n",
              "    <tr>\n",
              "      <th>12</th>\n",
              "      <td>366900.0</td>\n",
              "      <td>366911.121788</td>\n",
              "    </tr>\n",
              "    <tr>\n",
              "      <th>13</th>\n",
              "      <td>389000.0</td>\n",
              "      <td>375274.542215</td>\n",
              "    </tr>\n",
              "    <tr>\n",
              "      <th>14</th>\n",
              "      <td>304000.0</td>\n",
              "      <td>287840.098740</td>\n",
              "    </tr>\n",
              "    <tr>\n",
              "      <th>15</th>\n",
              "      <td>324900.0</td>\n",
              "      <td>351596.338961</td>\n",
              "    </tr>\n",
              "    <tr>\n",
              "      <th>16</th>\n",
              "      <td>336000.0</td>\n",
              "      <td>342157.263250</td>\n",
              "    </tr>\n",
              "    <tr>\n",
              "      <th>17</th>\n",
              "      <td>323000.0</td>\n",
              "      <td>336654.468519</td>\n",
              "    </tr>\n",
              "  </tbody>\n",
              "</table>\n",
              "</div>\n",
              "      <button class=\"colab-df-convert\" onclick=\"convertToInteractive('df-f41b9633-40cb-4c3f-8c03-b9e60af979c1')\"\n",
              "              title=\"Convert this dataframe to an interactive table.\"\n",
              "              style=\"display:none;\">\n",
              "        \n",
              "  <svg xmlns=\"http://www.w3.org/2000/svg\" height=\"24px\"viewBox=\"0 0 24 24\"\n",
              "       width=\"24px\">\n",
              "    <path d=\"M0 0h24v24H0V0z\" fill=\"none\"/>\n",
              "    <path d=\"M18.56 5.44l.94 2.06.94-2.06 2.06-.94-2.06-.94-.94-2.06-.94 2.06-2.06.94zm-11 1L8.5 8.5l.94-2.06 2.06-.94-2.06-.94L8.5 2.5l-.94 2.06-2.06.94zm10 10l.94 2.06.94-2.06 2.06-.94-2.06-.94-.94-2.06-.94 2.06-2.06.94z\"/><path d=\"M17.41 7.96l-1.37-1.37c-.4-.4-.92-.59-1.43-.59-.52 0-1.04.2-1.43.59L10.3 9.45l-7.72 7.72c-.78.78-.78 2.05 0 2.83L4 21.41c.39.39.9.59 1.41.59.51 0 1.02-.2 1.41-.59l7.78-7.78 2.81-2.81c.8-.78.8-2.07 0-2.86zM5.41 20L4 18.59l7.72-7.72 1.47 1.35L5.41 20z\"/>\n",
              "  </svg>\n",
              "      </button>\n",
              "      \n",
              "  <style>\n",
              "    .colab-df-container {\n",
              "      display:flex;\n",
              "      flex-wrap:wrap;\n",
              "      gap: 12px;\n",
              "    }\n",
              "\n",
              "    .colab-df-convert {\n",
              "      background-color: #E8F0FE;\n",
              "      border: none;\n",
              "      border-radius: 50%;\n",
              "      cursor: pointer;\n",
              "      display: none;\n",
              "      fill: #1967D2;\n",
              "      height: 32px;\n",
              "      padding: 0 0 0 0;\n",
              "      width: 32px;\n",
              "    }\n",
              "\n",
              "    .colab-df-convert:hover {\n",
              "      background-color: #E2EBFA;\n",
              "      box-shadow: 0px 1px 2px rgba(60, 64, 67, 0.3), 0px 1px 3px 1px rgba(60, 64, 67, 0.15);\n",
              "      fill: #174EA6;\n",
              "    }\n",
              "\n",
              "    [theme=dark] .colab-df-convert {\n",
              "      background-color: #3B4455;\n",
              "      fill: #D2E3FC;\n",
              "    }\n",
              "\n",
              "    [theme=dark] .colab-df-convert:hover {\n",
              "      background-color: #434B5C;\n",
              "      box-shadow: 0px 1px 3px 1px rgba(0, 0, 0, 0.15);\n",
              "      filter: drop-shadow(0px 1px 2px rgba(0, 0, 0, 0.3));\n",
              "      fill: #FFFFFF;\n",
              "    }\n",
              "  </style>\n",
              "\n",
              "      <script>\n",
              "        const buttonEl =\n",
              "          document.querySelector('#df-f41b9633-40cb-4c3f-8c03-b9e60af979c1 button.colab-df-convert');\n",
              "        buttonEl.style.display =\n",
              "          google.colab.kernel.accessAllowed ? 'block' : 'none';\n",
              "\n",
              "        async function convertToInteractive(key) {\n",
              "          const element = document.querySelector('#df-f41b9633-40cb-4c3f-8c03-b9e60af979c1');\n",
              "          const dataTable =\n",
              "            await google.colab.kernel.invokeFunction('convertToInteractive',\n",
              "                                                     [key], {});\n",
              "          if (!dataTable) return;\n",
              "\n",
              "          const docLinkHtml = 'Like what you see? Visit the ' +\n",
              "            '<a target=\"_blank\" href=https://colab.research.google.com/notebooks/data_table.ipynb>data table notebook</a>'\n",
              "            + ' to learn more about interactive tables.';\n",
              "          element.innerHTML = '';\n",
              "          dataTable['output_type'] = 'display_data';\n",
              "          await google.colab.output.renderOutput(dataTable, element);\n",
              "          const docLink = document.createElement('div');\n",
              "          docLink.innerHTML = docLinkHtml;\n",
              "          element.appendChild(docLink);\n",
              "        }\n",
              "      </script>\n",
              "    </div>\n",
              "  </div>\n",
              "  "
            ]
          },
          "metadata": {},
          "execution_count": 82
        }
      ]
    },
    {
      "cell_type": "code",
      "source": [
        "#concat เทียบราคาจริงกับราคาpredict ของ data test\n",
        "dfc_test=pd.concat([y1_test ,pd.Series(x1_test,name='price_predict_test')],axis='columns')\n",
        "dfc_test"
      ],
      "metadata": {
        "colab": {
          "base_uri": "https://localhost:8080/",
          "height": 332
        },
        "id": "_5mZUnxpB1bK",
        "outputId": "2168f5b7-c0df-4334-db5a-68cf88b9c090"
      },
      "execution_count": 83,
      "outputs": [
        {
          "output_type": "execute_result",
          "data": {
            "text/plain": [
              "      price  price_predict_test\n",
              "0  244000.0       269367.885776\n",
              "1  349000.0       356251.819894\n",
              "2  385000.0       361695.058047\n",
              "3  329000.0       348190.137493\n",
              "4  399000.0       378132.362194\n",
              "5  381900.0       356207.853890\n",
              "6  309000.0       332593.368634\n",
              "7  339000.0       341421.794873\n",
              "8  379000.0       368763.010826"
            ],
            "text/html": [
              "\n",
              "  <div id=\"df-1db745b0-1317-4ac4-91ce-0d530a7f2f2e\">\n",
              "    <div class=\"colab-df-container\">\n",
              "      <div>\n",
              "<style scoped>\n",
              "    .dataframe tbody tr th:only-of-type {\n",
              "        vertical-align: middle;\n",
              "    }\n",
              "\n",
              "    .dataframe tbody tr th {\n",
              "        vertical-align: top;\n",
              "    }\n",
              "\n",
              "    .dataframe thead th {\n",
              "        text-align: right;\n",
              "    }\n",
              "</style>\n",
              "<table border=\"1\" class=\"dataframe\">\n",
              "  <thead>\n",
              "    <tr style=\"text-align: right;\">\n",
              "      <th></th>\n",
              "      <th>price</th>\n",
              "      <th>price_predict_test</th>\n",
              "    </tr>\n",
              "  </thead>\n",
              "  <tbody>\n",
              "    <tr>\n",
              "      <th>0</th>\n",
              "      <td>244000.0</td>\n",
              "      <td>269367.885776</td>\n",
              "    </tr>\n",
              "    <tr>\n",
              "      <th>1</th>\n",
              "      <td>349000.0</td>\n",
              "      <td>356251.819894</td>\n",
              "    </tr>\n",
              "    <tr>\n",
              "      <th>2</th>\n",
              "      <td>385000.0</td>\n",
              "      <td>361695.058047</td>\n",
              "    </tr>\n",
              "    <tr>\n",
              "      <th>3</th>\n",
              "      <td>329000.0</td>\n",
              "      <td>348190.137493</td>\n",
              "    </tr>\n",
              "    <tr>\n",
              "      <th>4</th>\n",
              "      <td>399000.0</td>\n",
              "      <td>378132.362194</td>\n",
              "    </tr>\n",
              "    <tr>\n",
              "      <th>5</th>\n",
              "      <td>381900.0</td>\n",
              "      <td>356207.853890</td>\n",
              "    </tr>\n",
              "    <tr>\n",
              "      <th>6</th>\n",
              "      <td>309000.0</td>\n",
              "      <td>332593.368634</td>\n",
              "    </tr>\n",
              "    <tr>\n",
              "      <th>7</th>\n",
              "      <td>339000.0</td>\n",
              "      <td>341421.794873</td>\n",
              "    </tr>\n",
              "    <tr>\n",
              "      <th>8</th>\n",
              "      <td>379000.0</td>\n",
              "      <td>368763.010826</td>\n",
              "    </tr>\n",
              "  </tbody>\n",
              "</table>\n",
              "</div>\n",
              "      <button class=\"colab-df-convert\" onclick=\"convertToInteractive('df-1db745b0-1317-4ac4-91ce-0d530a7f2f2e')\"\n",
              "              title=\"Convert this dataframe to an interactive table.\"\n",
              "              style=\"display:none;\">\n",
              "        \n",
              "  <svg xmlns=\"http://www.w3.org/2000/svg\" height=\"24px\"viewBox=\"0 0 24 24\"\n",
              "       width=\"24px\">\n",
              "    <path d=\"M0 0h24v24H0V0z\" fill=\"none\"/>\n",
              "    <path d=\"M18.56 5.44l.94 2.06.94-2.06 2.06-.94-2.06-.94-.94-2.06-.94 2.06-2.06.94zm-11 1L8.5 8.5l.94-2.06 2.06-.94-2.06-.94L8.5 2.5l-.94 2.06-2.06.94zm10 10l.94 2.06.94-2.06 2.06-.94-2.06-.94-.94-2.06-.94 2.06-2.06.94z\"/><path d=\"M17.41 7.96l-1.37-1.37c-.4-.4-.92-.59-1.43-.59-.52 0-1.04.2-1.43.59L10.3 9.45l-7.72 7.72c-.78.78-.78 2.05 0 2.83L4 21.41c.39.39.9.59 1.41.59.51 0 1.02-.2 1.41-.59l7.78-7.78 2.81-2.81c.8-.78.8-2.07 0-2.86zM5.41 20L4 18.59l7.72-7.72 1.47 1.35L5.41 20z\"/>\n",
              "  </svg>\n",
              "      </button>\n",
              "      \n",
              "  <style>\n",
              "    .colab-df-container {\n",
              "      display:flex;\n",
              "      flex-wrap:wrap;\n",
              "      gap: 12px;\n",
              "    }\n",
              "\n",
              "    .colab-df-convert {\n",
              "      background-color: #E8F0FE;\n",
              "      border: none;\n",
              "      border-radius: 50%;\n",
              "      cursor: pointer;\n",
              "      display: none;\n",
              "      fill: #1967D2;\n",
              "      height: 32px;\n",
              "      padding: 0 0 0 0;\n",
              "      width: 32px;\n",
              "    }\n",
              "\n",
              "    .colab-df-convert:hover {\n",
              "      background-color: #E2EBFA;\n",
              "      box-shadow: 0px 1px 2px rgba(60, 64, 67, 0.3), 0px 1px 3px 1px rgba(60, 64, 67, 0.15);\n",
              "      fill: #174EA6;\n",
              "    }\n",
              "\n",
              "    [theme=dark] .colab-df-convert {\n",
              "      background-color: #3B4455;\n",
              "      fill: #D2E3FC;\n",
              "    }\n",
              "\n",
              "    [theme=dark] .colab-df-convert:hover {\n",
              "      background-color: #434B5C;\n",
              "      box-shadow: 0px 1px 3px 1px rgba(0, 0, 0, 0.15);\n",
              "      filter: drop-shadow(0px 1px 2px rgba(0, 0, 0, 0.3));\n",
              "      fill: #FFFFFF;\n",
              "    }\n",
              "  </style>\n",
              "\n",
              "      <script>\n",
              "        const buttonEl =\n",
              "          document.querySelector('#df-1db745b0-1317-4ac4-91ce-0d530a7f2f2e button.colab-df-convert');\n",
              "        buttonEl.style.display =\n",
              "          google.colab.kernel.accessAllowed ? 'block' : 'none';\n",
              "\n",
              "        async function convertToInteractive(key) {\n",
              "          const element = document.querySelector('#df-1db745b0-1317-4ac4-91ce-0d530a7f2f2e');\n",
              "          const dataTable =\n",
              "            await google.colab.kernel.invokeFunction('convertToInteractive',\n",
              "                                                     [key], {});\n",
              "          if (!dataTable) return;\n",
              "\n",
              "          const docLinkHtml = 'Like what you see? Visit the ' +\n",
              "            '<a target=\"_blank\" href=https://colab.research.google.com/notebooks/data_table.ipynb>data table notebook</a>'\n",
              "            + ' to learn more about interactive tables.';\n",
              "          element.innerHTML = '';\n",
              "          dataTable['output_type'] = 'display_data';\n",
              "          await google.colab.output.renderOutput(dataTable, element);\n",
              "          const docLink = document.createElement('div');\n",
              "          docLink.innerHTML = docLinkHtml;\n",
              "          element.appendChild(docLink);\n",
              "        }\n",
              "      </script>\n",
              "    </div>\n",
              "  </div>\n",
              "  "
            ]
          },
          "metadata": {},
          "execution_count": 83
        }
      ]
    },
    {
      "cell_type": "code",
      "source": [
        "#predict price \n",
        "#n1=km,n2=age\n",
        "model_attrage.predict([[200000,7]]) "
      ],
      "metadata": {
        "colab": {
          "base_uri": "https://localhost:8080/"
        },
        "id": "m3yFaILqGOn0",
        "outputId": "d24fdbba-d4b2-4bd8-ec13-7cfd5615ace9"
      },
      "execution_count": 84,
      "outputs": [
        {
          "output_type": "stream",
          "name": "stderr",
          "text": [
            "/usr/local/lib/python3.7/dist-packages/sklearn/base.py:451: UserWarning: X does not have valid feature names, but LinearRegression was fitted with feature names\n",
            "  \"X does not have valid feature names, but\"\n"
          ]
        },
        {
          "output_type": "execute_result",
          "data": {
            "text/plain": [
              "array([[189477.0402233]])"
            ]
          },
          "metadata": {},
          "execution_count": 84
        }
      ]
    },
    {
      "cell_type": "code",
      "source": [
        ""
      ],
      "metadata": {
        "id": "xrIJbJVPN1qb"
      },
      "execution_count": 84,
      "outputs": []
    },
    {
      "cell_type": "markdown",
      "source": [
        "**Evaluation**"
      ],
      "metadata": {
        "id": "6j7TW42a-FgU"
      }
    },
    {
      "cell_type": "code",
      "source": [
        "model_attrage.intercept_, model_attrage.coef_"
      ],
      "metadata": {
        "colab": {
          "base_uri": "https://localhost:8080/"
        },
        "id": "8ZtBxsDp8tXH",
        "outputId": "b1afa2bf-9fbc-429a-aead-305de65796ed"
      },
      "execution_count": 85,
      "outputs": [
        {
          "output_type": "execute_result",
          "data": {
            "text/plain": [
              "(array([395780.98614632]), array([[-6.77851039e-01, -1.01048197e+04]]))"
            ]
          },
          "metadata": {},
          "execution_count": 85
        }
      ]
    },
    {
      "cell_type": "markdown",
      "source": [
        "R2 or R-Squared"
      ],
      "metadata": {
        "id": "JcmhPSVbmHCn"
      }
    },
    {
      "cell_type": "code",
      "source": [
        "# R-squared train\n",
        "model_attrage.score(X_train, y_train)"
      ],
      "metadata": {
        "colab": {
          "base_uri": "https://localhost:8080/"
        },
        "id": "SeoXrqVo88sF",
        "outputId": "ac9dc9e8-7c7e-4f19-c518-67899e9d67d6"
      },
      "execution_count": 86,
      "outputs": [
        {
          "output_type": "execute_result",
          "data": {
            "text/plain": [
              "0.6453044481877764"
            ]
          },
          "metadata": {},
          "execution_count": 86
        }
      ]
    },
    {
      "cell_type": "code",
      "source": [
        "# R-squared test \n",
        "model_attrage.score(X_test, y_test)"
      ],
      "metadata": {
        "colab": {
          "base_uri": "https://localhost:8080/"
        },
        "id": "xJ14wUWh9KDX",
        "outputId": "1d3fffb0-7a3d-4c5c-eac1-7bc51c233494"
      },
      "execution_count": 87,
      "outputs": [
        {
          "output_type": "execute_result",
          "data": {
            "text/plain": [
              "0.8209898502018833"
            ]
          },
          "metadata": {},
          "execution_count": 87
        }
      ]
    },
    {
      "cell_type": "markdown",
      "source": [
        "Loss Function \"*Root* *Mean* *Square* *Error*\" **(RMSE)**"
      ],
      "metadata": {
        "id": "s3Od-uT2ZSSq"
      }
    },
    {
      "cell_type": "code",
      "source": [
        "from math import sqrt"
      ],
      "metadata": {
        "id": "RFs2fgUVeakf"
      },
      "execution_count": 88,
      "outputs": []
    },
    {
      "cell_type": "code",
      "source": [
        "rmse_test=sqrt(mean_squared_error(y1_test, x1_test))\n",
        "rmse_test"
      ],
      "metadata": {
        "colab": {
          "base_uri": "https://localhost:8080/"
        },
        "id": "4HNS1OHHdbj6",
        "outputId": "34d43b5d-c0ad-4901-f625-76883f6dc586"
      },
      "execution_count": 89,
      "outputs": [
        {
          "output_type": "execute_result",
          "data": {
            "text/plain": [
              "19351.580405047014"
            ]
          },
          "metadata": {},
          "execution_count": 89
        }
      ]
    },
    {
      "cell_type": "code",
      "source": [
        "rmse_train=sqrt(mean_squared_error(y1_train, x1_train))\n",
        "rmse_train"
      ],
      "metadata": {
        "colab": {
          "base_uri": "https://localhost:8080/"
        },
        "id": "UMaD_IhujM3K",
        "outputId": "1496beae-1288-4085-e159-62765bda3217"
      },
      "execution_count": 90,
      "outputs": [
        {
          "output_type": "execute_result",
          "data": {
            "text/plain": [
              "15854.799409345802"
            ]
          },
          "metadata": {},
          "execution_count": 90
        }
      ]
    },
    {
      "cell_type": "markdown",
      "source": [
        "**Deployment**\n",
        "\n",
        "```\n",
        "\n",
        "\n",
        "สามารถนำ model ไปใช้เพื่อคาดการณ์ ราคารถยนต์ เพื่อประกอบการตัดสินใจในการตั้งราคาซื้อขายรถยนต์สำหรับผู้ประกอบการธุรกิจรถยนต์มือสองได้\n",
        "\n",
        "\n",
        "\n",
        "```\n",
        "\n",
        "\n"
      ],
      "metadata": {
        "id": "6Lsb44gHN4sL"
      }
    }
  ]
}