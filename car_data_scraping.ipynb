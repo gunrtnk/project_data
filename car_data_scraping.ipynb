{
  "nbformat": 4,
  "nbformat_minor": 0,
  "metadata": {
    "colab": {
      "name": "car.ipynb",
      "provenance": [],
      "authorship_tag": "ABX9TyNYaeVaMzVSRe4XW6USktEH",
      "include_colab_link": true
    },
    "kernelspec": {
      "name": "python3",
      "display_name": "Python 3"
    },
    "language_info": {
      "name": "python"
    }
  },
  "cells": [
    {
      "cell_type": "markdown",
      "metadata": {
        "id": "view-in-github",
        "colab_type": "text"
      },
      "source": [
        "<a href=\"https://colab.research.google.com/github/gunrtnk/project_data/blob/main/car_data_scraping.ipynb\" target=\"_parent\"><img src=\"https://colab.research.google.com/assets/colab-badge.svg\" alt=\"Open In Colab\"/></a>"
      ]
    },
    {
      "cell_type": "code",
      "execution_count": 1,
      "metadata": {
        "colab": {
          "base_uri": "https://localhost:8080/"
        },
        "id": "yluT-YagraA6",
        "outputId": "b397af09-3949-422e-8901-1fda0fb9747a"
      },
      "outputs": [
        {
          "output_type": "stream",
          "name": "stdout",
          "text": [
            "Requirement already satisfied: bs4 in /usr/local/lib/python3.7/dist-packages (0.0.1)\n",
            "Requirement already satisfied: beautifulsoup4 in /usr/local/lib/python3.7/dist-packages (from bs4) (4.6.3)\n"
          ]
        }
      ],
      "source": [
        "# pip install bs4"
      ]
    },
    {
      "cell_type": "code",
      "source": [
        "# pip install requests"
      ],
      "metadata": {
        "colab": {
          "base_uri": "https://localhost:8080/"
        },
        "id": "p-YSobF8rqe0",
        "outputId": "b08bd804-c623-4cef-d253-71737d9b2848"
      },
      "execution_count": 2,
      "outputs": [
        {
          "output_type": "stream",
          "name": "stdout",
          "text": [
            "Requirement already satisfied: requests in /usr/local/lib/python3.7/dist-packages (2.23.0)\n",
            "Requirement already satisfied: chardet<4,>=3.0.2 in /usr/local/lib/python3.7/dist-packages (from requests) (3.0.4)\n",
            "Requirement already satisfied: certifi>=2017.4.17 in /usr/local/lib/python3.7/dist-packages (from requests) (2021.10.8)\n",
            "Requirement already satisfied: idna<3,>=2.5 in /usr/local/lib/python3.7/dist-packages (from requests) (2.10)\n",
            "Requirement already satisfied: urllib3!=1.25.0,!=1.25.1,<1.26,>=1.21.1 in /usr/local/lib/python3.7/dist-packages (from requests) (1.24.3)\n"
          ]
        }
      ]
    },
    {
      "cell_type": "code",
      "source": [
        ""
      ],
      "metadata": {
        "id": "z4MTgYvkypaE"
      },
      "execution_count": 2,
      "outputs": []
    },
    {
      "cell_type": "code",
      "source": [
        "import pandas as pd"
      ],
      "metadata": {
        "id": "lKMZW4CZypMk"
      },
      "execution_count": 3,
      "outputs": []
    },
    {
      "cell_type": "code",
      "source": [
        "import bs4"
      ],
      "metadata": {
        "id": "ii9-YjcXr5mR"
      },
      "execution_count": 4,
      "outputs": []
    },
    {
      "cell_type": "code",
      "source": [
        "import requests"
      ],
      "metadata": {
        "id": "mUX82jN5sA4A"
      },
      "execution_count": 5,
      "outputs": []
    },
    {
      "cell_type": "code",
      "source": [
        ""
      ],
      "metadata": {
        "id": "DwKs1VoKV3Zy"
      },
      "execution_count": 114,
      "outputs": []
    },
    {
      "cell_type": "code",
      "source": [
        "page=1\n",
        "year_list=[]\n",
        "brand_list=[]\n",
        "model_list=[]\n",
        "km_driven_list=[]\n",
        "price_list=[]\n",
        "while page <=30:\n",
        "    url = \"https://www.carsome.co.th/buy-car?pageNo=\" + str(page)\n",
        "    res = requests.get(url)\n",
        "    soup = bs4.BeautifulSoup(res.text)\n",
        "    for c in soup.find_all('div' ,{'class' : 'mod-card__content'}):\n",
        "        year_list.append(c.find('div',{'class' : 'mod-card__title__year-brand-model'}).text.split()[0].replace(',',''))\n",
        "        brand_list.append(c.find('div',{'class' : 'mod-card__title__year-brand-model'}).text.split()[1])\n",
        "        model_list.append(c.find('div',{'class' : 'mod-card__title__variant-engine'}).text.replace(' ','').replace('\\n',''))\n",
        "        km_driven_list.append(c.find('div',{'class' : 'mod-card__car-other'}).text.split()[0].replace(',',''))\n",
        "        price_list.append(int(c.find('div',{'class' : 'mod-card__price__total'}).text.split()[0].replace(',','')))\n",
        "    print('compleat page number',page)\n",
        "    page +=1\n",
        "    \n",
        "car_df=pd.DataFrame([brand_list,model_list,year_list,km_driven_list,price_list]).transpose()\n",
        "car_df.columns=['brand','model','year','km driven','price']\n"
      ],
      "metadata": {
        "id": "QqC-cIs_sDvf",
        "colab": {
          "base_uri": "https://localhost:8080/"
        },
        "outputId": "ac22c725-6a45-4e71-ec4e-2cb6f239e801"
      },
      "execution_count": 119,
      "outputs": [
        {
          "output_type": "stream",
          "name": "stdout",
          "text": [
            "compleat page number 1\n",
            "compleat page number 2\n",
            "compleat page number 3\n",
            "compleat page number 4\n",
            "compleat page number 5\n",
            "compleat page number 6\n",
            "compleat page number 7\n",
            "compleat page number 8\n",
            "compleat page number 9\n",
            "compleat page number 10\n",
            "compleat page number 11\n",
            "compleat page number 12\n",
            "compleat page number 13\n",
            "compleat page number 14\n",
            "compleat page number 15\n",
            "compleat page number 16\n",
            "compleat page number 17\n",
            "compleat page number 18\n",
            "compleat page number 19\n",
            "compleat page number 20\n",
            "compleat page number 21\n",
            "compleat page number 22\n",
            "compleat page number 23\n",
            "compleat page number 24\n",
            "compleat page number 25\n",
            "compleat page number 26\n",
            "compleat page number 27\n",
            "compleat page number 28\n",
            "compleat page number 29\n",
            "compleat page number 30\n"
          ]
        }
      ]
    },
    {
      "cell_type": "code",
      "source": [
        "car_df"
      ],
      "metadata": {
        "id": "ankpOjJzsVJb",
        "colab": {
          "base_uri": "https://localhost:8080/",
          "height": 424
        },
        "outputId": "1a0dd31a-3c8d-4d75-fb0a-b1c56ab3ce72"
      },
      "execution_count": 120,
      "outputs": [
        {
          "output_type": "execute_result",
          "data": {
            "text/plain": [
              "          brand                       model  year km driven   price\n",
              "0        Toyota        YARISSPORTPREMIUM1.2  2020     25670  565000\n",
              "1    Mitsubishi  MIRAGEGLSLIMITEDEDITION1.2  2019     41578  356000\n",
              "2    Mitsubishi                MIRAGEGLX1.2  2018     64237  316000\n",
              "3         Honda               BRIOAMAZEV1.2  2018     81377  356000\n",
              "4        Toyota                   YARISG1.2  2017     95328  416000\n",
              "..          ...                         ...   ...       ...     ...\n",
              "534      Toyota                    VIOSE1.5  2017     44736  414000\n",
              "535      Toyota               YARISATIVE1.2  2017     45236  414000\n",
              "536      Toyota                FORTUNERV2.4  2017    159429  964000\n",
              "537       Honda                   JAZZSV1.5  2014    159872  464000\n",
              "538      Suzuki                 SWIFTGLX1.2  2013     54701  294000\n",
              "\n",
              "[539 rows x 5 columns]"
            ],
            "text/html": [
              "\n",
              "  <div id=\"df-56bc2ebf-7467-4321-9e2a-15c3e9befb9f\">\n",
              "    <div class=\"colab-df-container\">\n",
              "      <div>\n",
              "<style scoped>\n",
              "    .dataframe tbody tr th:only-of-type {\n",
              "        vertical-align: middle;\n",
              "    }\n",
              "\n",
              "    .dataframe tbody tr th {\n",
              "        vertical-align: top;\n",
              "    }\n",
              "\n",
              "    .dataframe thead th {\n",
              "        text-align: right;\n",
              "    }\n",
              "</style>\n",
              "<table border=\"1\" class=\"dataframe\">\n",
              "  <thead>\n",
              "    <tr style=\"text-align: right;\">\n",
              "      <th></th>\n",
              "      <th>brand</th>\n",
              "      <th>model</th>\n",
              "      <th>year</th>\n",
              "      <th>km driven</th>\n",
              "      <th>price</th>\n",
              "    </tr>\n",
              "  </thead>\n",
              "  <tbody>\n",
              "    <tr>\n",
              "      <th>0</th>\n",
              "      <td>Toyota</td>\n",
              "      <td>YARISSPORTPREMIUM1.2</td>\n",
              "      <td>2020</td>\n",
              "      <td>25670</td>\n",
              "      <td>565000</td>\n",
              "    </tr>\n",
              "    <tr>\n",
              "      <th>1</th>\n",
              "      <td>Mitsubishi</td>\n",
              "      <td>MIRAGEGLSLIMITEDEDITION1.2</td>\n",
              "      <td>2019</td>\n",
              "      <td>41578</td>\n",
              "      <td>356000</td>\n",
              "    </tr>\n",
              "    <tr>\n",
              "      <th>2</th>\n",
              "      <td>Mitsubishi</td>\n",
              "      <td>MIRAGEGLX1.2</td>\n",
              "      <td>2018</td>\n",
              "      <td>64237</td>\n",
              "      <td>316000</td>\n",
              "    </tr>\n",
              "    <tr>\n",
              "      <th>3</th>\n",
              "      <td>Honda</td>\n",
              "      <td>BRIOAMAZEV1.2</td>\n",
              "      <td>2018</td>\n",
              "      <td>81377</td>\n",
              "      <td>356000</td>\n",
              "    </tr>\n",
              "    <tr>\n",
              "      <th>4</th>\n",
              "      <td>Toyota</td>\n",
              "      <td>YARISG1.2</td>\n",
              "      <td>2017</td>\n",
              "      <td>95328</td>\n",
              "      <td>416000</td>\n",
              "    </tr>\n",
              "    <tr>\n",
              "      <th>...</th>\n",
              "      <td>...</td>\n",
              "      <td>...</td>\n",
              "      <td>...</td>\n",
              "      <td>...</td>\n",
              "      <td>...</td>\n",
              "    </tr>\n",
              "    <tr>\n",
              "      <th>534</th>\n",
              "      <td>Toyota</td>\n",
              "      <td>VIOSE1.5</td>\n",
              "      <td>2017</td>\n",
              "      <td>44736</td>\n",
              "      <td>414000</td>\n",
              "    </tr>\n",
              "    <tr>\n",
              "      <th>535</th>\n",
              "      <td>Toyota</td>\n",
              "      <td>YARISATIVE1.2</td>\n",
              "      <td>2017</td>\n",
              "      <td>45236</td>\n",
              "      <td>414000</td>\n",
              "    </tr>\n",
              "    <tr>\n",
              "      <th>536</th>\n",
              "      <td>Toyota</td>\n",
              "      <td>FORTUNERV2.4</td>\n",
              "      <td>2017</td>\n",
              "      <td>159429</td>\n",
              "      <td>964000</td>\n",
              "    </tr>\n",
              "    <tr>\n",
              "      <th>537</th>\n",
              "      <td>Honda</td>\n",
              "      <td>JAZZSV1.5</td>\n",
              "      <td>2014</td>\n",
              "      <td>159872</td>\n",
              "      <td>464000</td>\n",
              "    </tr>\n",
              "    <tr>\n",
              "      <th>538</th>\n",
              "      <td>Suzuki</td>\n",
              "      <td>SWIFTGLX1.2</td>\n",
              "      <td>2013</td>\n",
              "      <td>54701</td>\n",
              "      <td>294000</td>\n",
              "    </tr>\n",
              "  </tbody>\n",
              "</table>\n",
              "<p>539 rows × 5 columns</p>\n",
              "</div>\n",
              "      <button class=\"colab-df-convert\" onclick=\"convertToInteractive('df-56bc2ebf-7467-4321-9e2a-15c3e9befb9f')\"\n",
              "              title=\"Convert this dataframe to an interactive table.\"\n",
              "              style=\"display:none;\">\n",
              "        \n",
              "  <svg xmlns=\"http://www.w3.org/2000/svg\" height=\"24px\"viewBox=\"0 0 24 24\"\n",
              "       width=\"24px\">\n",
              "    <path d=\"M0 0h24v24H0V0z\" fill=\"none\"/>\n",
              "    <path d=\"M18.56 5.44l.94 2.06.94-2.06 2.06-.94-2.06-.94-.94-2.06-.94 2.06-2.06.94zm-11 1L8.5 8.5l.94-2.06 2.06-.94-2.06-.94L8.5 2.5l-.94 2.06-2.06.94zm10 10l.94 2.06.94-2.06 2.06-.94-2.06-.94-.94-2.06-.94 2.06-2.06.94z\"/><path d=\"M17.41 7.96l-1.37-1.37c-.4-.4-.92-.59-1.43-.59-.52 0-1.04.2-1.43.59L10.3 9.45l-7.72 7.72c-.78.78-.78 2.05 0 2.83L4 21.41c.39.39.9.59 1.41.59.51 0 1.02-.2 1.41-.59l7.78-7.78 2.81-2.81c.8-.78.8-2.07 0-2.86zM5.41 20L4 18.59l7.72-7.72 1.47 1.35L5.41 20z\"/>\n",
              "  </svg>\n",
              "      </button>\n",
              "      \n",
              "  <style>\n",
              "    .colab-df-container {\n",
              "      display:flex;\n",
              "      flex-wrap:wrap;\n",
              "      gap: 12px;\n",
              "    }\n",
              "\n",
              "    .colab-df-convert {\n",
              "      background-color: #E8F0FE;\n",
              "      border: none;\n",
              "      border-radius: 50%;\n",
              "      cursor: pointer;\n",
              "      display: none;\n",
              "      fill: #1967D2;\n",
              "      height: 32px;\n",
              "      padding: 0 0 0 0;\n",
              "      width: 32px;\n",
              "    }\n",
              "\n",
              "    .colab-df-convert:hover {\n",
              "      background-color: #E2EBFA;\n",
              "      box-shadow: 0px 1px 2px rgba(60, 64, 67, 0.3), 0px 1px 3px 1px rgba(60, 64, 67, 0.15);\n",
              "      fill: #174EA6;\n",
              "    }\n",
              "\n",
              "    [theme=dark] .colab-df-convert {\n",
              "      background-color: #3B4455;\n",
              "      fill: #D2E3FC;\n",
              "    }\n",
              "\n",
              "    [theme=dark] .colab-df-convert:hover {\n",
              "      background-color: #434B5C;\n",
              "      box-shadow: 0px 1px 3px 1px rgba(0, 0, 0, 0.15);\n",
              "      filter: drop-shadow(0px 1px 2px rgba(0, 0, 0, 0.3));\n",
              "      fill: #FFFFFF;\n",
              "    }\n",
              "  </style>\n",
              "\n",
              "      <script>\n",
              "        const buttonEl =\n",
              "          document.querySelector('#df-56bc2ebf-7467-4321-9e2a-15c3e9befb9f button.colab-df-convert');\n",
              "        buttonEl.style.display =\n",
              "          google.colab.kernel.accessAllowed ? 'block' : 'none';\n",
              "\n",
              "        async function convertToInteractive(key) {\n",
              "          const element = document.querySelector('#df-56bc2ebf-7467-4321-9e2a-15c3e9befb9f');\n",
              "          const dataTable =\n",
              "            await google.colab.kernel.invokeFunction('convertToInteractive',\n",
              "                                                     [key], {});\n",
              "          if (!dataTable) return;\n",
              "\n",
              "          const docLinkHtml = 'Like what you see? Visit the ' +\n",
              "            '<a target=\"_blank\" href=https://colab.research.google.com/notebooks/data_table.ipynb>data table notebook</a>'\n",
              "            + ' to learn more about interactive tables.';\n",
              "          element.innerHTML = '';\n",
              "          dataTable['output_type'] = 'display_data';\n",
              "          await google.colab.output.renderOutput(dataTable, element);\n",
              "          const docLink = document.createElement('div');\n",
              "          docLink.innerHTML = docLinkHtml;\n",
              "          element.appendChild(docLink);\n",
              "        }\n",
              "      </script>\n",
              "    </div>\n",
              "  </div>\n",
              "  "
            ]
          },
          "metadata": {},
          "execution_count": 120
        }
      ]
    },
    {
      "cell_type": "code",
      "source": [
        "car_df.to_csv (r'car_used_dataframe.csv', index = False, header=True)"
      ],
      "metadata": {
        "id": "EFkUmdMnsuwv"
      },
      "execution_count": 123,
      "outputs": []
    },
    {
      "cell_type": "code",
      "source": [
        "car_df.to_excel('car_uesd_data.xlsx',engine='openpyxl')"
      ],
      "metadata": {
        "id": "1oGT40PLQkXg"
      },
      "execution_count": 124,
      "outputs": []
    },
    {
      "cell_type": "code",
      "source": [
        ""
      ],
      "metadata": {
        "id": "-Oki34vITqub"
      },
      "execution_count": 110,
      "outputs": []
    },
    {
      "cell_type": "code",
      "source": [
        "# namecar = soup.find_all('h2' ,{'class' : 'listing__title'})"
      ],
      "metadata": {
        "id": "cQdubw5xs46k"
      },
      "execution_count": 9,
      "outputs": []
    },
    {
      "cell_type": "code",
      "source": [
        "# pricecar = soup.find('div' ,{'class' : 'listing__price'})"
      ],
      "metadata": {
        "id": "UUAUY2M_ugK3"
      },
      "execution_count": 10,
      "outputs": []
    },
    {
      "cell_type": "code",
      "source": [
        "# speccar = soup.find_all('div' ,{'class' : 'listing__specs'})"
      ],
      "metadata": {
        "id": "pV_IpIlcuf7-"
      },
      "execution_count": 11,
      "outputs": []
    },
    {
      "cell_type": "code",
      "source": [
        "# int(pricecar.text.split()[0].replace(',','')) "
      ],
      "metadata": {
        "id": "MDws7m8PtQAv"
      },
      "execution_count": null,
      "outputs": []
    },
    {
      "cell_type": "code",
      "source": [
        ""
      ],
      "metadata": {
        "id": "tLMMR6cj3geU"
      },
      "execution_count": null,
      "outputs": []
    },
    {
      "cell_type": "code",
      "source": [
        "#car = soup.find('div' ,{'class' : 'mod-card__content'})"
      ],
      "metadata": {
        "id": "-UrRn6LoxBIR"
      },
      "execution_count": 43,
      "outputs": []
    },
    {
      "cell_type": "code",
      "source": [
        "#Year_Brand=car.find('div',{'class' : 'mod-card__title__year-brand-model'})"
      ],
      "metadata": {
        "id": "R6RHdLGpynAE"
      },
      "execution_count": 45,
      "outputs": []
    },
    {
      "cell_type": "code",
      "source": [
        "#brand=Year_Brand.text.split()[1]"
      ],
      "metadata": {
        "id": "q2PrY2YBFEUm"
      },
      "execution_count": 76,
      "outputs": []
    },
    {
      "cell_type": "code",
      "source": [
        "#brand"
      ],
      "metadata": {
        "colab": {
          "base_uri": "https://localhost:8080/",
          "height": 35
        },
        "id": "8yrcxWFJFLY1",
        "outputId": "bee0828a-2d4a-482a-a364-69de579d2b2a"
      },
      "execution_count": 77,
      "outputs": [
        {
          "output_type": "execute_result",
          "data": {
            "text/plain": [
              "'Toyota'"
            ],
            "application/vnd.google.colaboratory.intrinsic+json": {
              "type": "string"
            }
          },
          "metadata": {},
          "execution_count": 77
        }
      ]
    },
    {
      "cell_type": "code",
      "source": [
        "#year=int(Year_Brand.text.split()[0].replace(',',''))"
      ],
      "metadata": {
        "id": "nphioMq91ddf"
      },
      "execution_count": 70,
      "outputs": []
    },
    {
      "cell_type": "code",
      "source": [
        "#year"
      ],
      "metadata": {
        "colab": {
          "base_uri": "https://localhost:8080/"
        },
        "id": "lwCr-IzcEiCa",
        "outputId": "09a22ad3-9f4d-4e74-881d-765653b5c501"
      },
      "execution_count": 71,
      "outputs": [
        {
          "output_type": "execute_result",
          "data": {
            "text/plain": [
              "2020"
            ]
          },
          "metadata": {},
          "execution_count": 71
        }
      ]
    },
    {
      "cell_type": "code",
      "source": [
        "#Model=car.find('div',{'class' : 'mod-card__title__variant-engine'})"
      ],
      "metadata": {
        "id": "TDXe9ipbBe-3"
      },
      "execution_count": 48,
      "outputs": []
    },
    {
      "cell_type": "code",
      "source": [
        "#model=Model.text.replace(' ','').replace('\\n','')"
      ],
      "metadata": {
        "id": "cI75dRADB9xI"
      },
      "execution_count": 83,
      "outputs": []
    },
    {
      "cell_type": "code",
      "source": [
        "#model"
      ],
      "metadata": {
        "colab": {
          "base_uri": "https://localhost:8080/",
          "height": 35
        },
        "id": "ro0PRES5GWhh",
        "outputId": "ac39b6e6-2171-4c81-a8a2-38caf821bd07"
      },
      "execution_count": 84,
      "outputs": [
        {
          "output_type": "execute_result",
          "data": {
            "text/plain": [
              "'YARISSPORTPREMIUM1.2'"
            ],
            "application/vnd.google.colaboratory.intrinsic+json": {
              "type": "string"
            }
          },
          "metadata": {},
          "execution_count": 84
        }
      ]
    },
    {
      "cell_type": "code",
      "source": [
        "#KM=car.find('div',{'class' : 'mod-card__car-other'})"
      ],
      "metadata": {
        "id": "1ixX-EfQ2Vgr"
      },
      "execution_count": 50,
      "outputs": []
    },
    {
      "cell_type": "code",
      "source": [
        "#km_driven=int(KM.text.split()[0].replace(',',''))"
      ],
      "metadata": {
        "id": "9X1QYshECdbS"
      },
      "execution_count": 68,
      "outputs": []
    },
    {
      "cell_type": "code",
      "source": [
        "#km_driven"
      ],
      "metadata": {
        "colab": {
          "base_uri": "https://localhost:8080/"
        },
        "id": "AX_kgNUiETTL",
        "outputId": "89dfa4ba-6da1-436e-d681-f7c3fd4f40cd"
      },
      "execution_count": 69,
      "outputs": [
        {
          "output_type": "execute_result",
          "data": {
            "text/plain": [
              "25670"
            ]
          },
          "metadata": {},
          "execution_count": 69
        }
      ]
    },
    {
      "cell_type": "code",
      "source": [
        "#Price=car.find('div',{'class' : 'mod-card__price__total'})"
      ],
      "metadata": {
        "id": "Dez4I1zl20J8"
      },
      "execution_count": 53,
      "outputs": []
    },
    {
      "cell_type": "code",
      "source": [
        "#price_car=int(Price.text.split()[0].replace(',',''))"
      ],
      "metadata": {
        "id": "aRE22mJWC50F"
      },
      "execution_count": 61,
      "outputs": []
    },
    {
      "cell_type": "code",
      "source": [
        "#price_car"
      ],
      "metadata": {
        "colab": {
          "base_uri": "https://localhost:8080/"
        },
        "id": "1JPGPF7RDDmU",
        "outputId": "c0bb8595-f06a-4315-9abc-fb9e596042ec"
      },
      "execution_count": 62,
      "outputs": [
        {
          "output_type": "execute_result",
          "data": {
            "text/plain": [
              "565000"
            ]
          },
          "metadata": {},
          "execution_count": 62
        }
      ]
    },
    {
      "cell_type": "code",
      "source": [
        "# brand,model,year,km_driven,price_car"
      ],
      "metadata": {
        "id": "Tx8UaRS1DEBK"
      },
      "execution_count": null,
      "outputs": []
    },
    {
      "cell_type": "code",
      "source": [
        "#len(soup.find_all('div' ,{'class' : 'mod-card__content'})) #นับ .find_all "
      ],
      "metadata": {
        "colab": {
          "base_uri": "https://localhost:8080/"
        },
        "id": "0UccG_MLKNAK",
        "outputId": "8bf1dfa4-9714-4669-9d8f-1fad873f0334"
      },
      "execution_count": 87,
      "outputs": [
        {
          "output_type": "execute_result",
          "data": {
            "text/plain": [
              "18"
            ]
          },
          "metadata": {},
          "execution_count": 87
        }
      ]
    },
    {
      "cell_type": "code",
      "source": [
        "#car_df.set_index('brand')"
      ],
      "metadata": {
        "id": "OgRaf4JFU3iW"
      },
      "execution_count": null,
      "outputs": []
    },
    {
      "cell_type": "code",
      "source": [
        ""
      ],
      "metadata": {
        "id": "MD59apYaVEd5"
      },
      "execution_count": null,
      "outputs": []
    }
  ]
}